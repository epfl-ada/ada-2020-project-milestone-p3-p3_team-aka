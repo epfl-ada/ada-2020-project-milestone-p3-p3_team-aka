{
 "cells": [
  {
   "cell_type": "code",
   "execution_count": 69,
   "metadata": {},
   "outputs": [],
   "source": [
    "import requests as requests\n",
    "import re\n",
    "import pandas as pd"
   ]
  },
  {
   "cell_type": "code",
   "execution_count": 93,
   "metadata": {},
   "outputs": [],
   "source": [
    "def get_pageview_data(articles, years, lang, save_csv=True):\n",
    "    search_url = f'http://petermeissner.de:8880/article/exact/{lang}/'\n",
    "    final_list = []\n",
    "    \n",
    "    for article in articles:\n",
    "        article_no_spaces = re.sub(r'\\s','_', article)\n",
    "        request = requests.get(search_url + article_no_spaces).json()\n",
    "        if request['status'] != 'ok':\n",
    "            print(f'Problem fetching data for artice {article}')\n",
    "            continue\n",
    "        data = request['data']\n",
    "        for elem in data:\n",
    "            year = elem['year']\n",
    "            if str(year) in years:\n",
    "                timestamps = pd.date_range(f'01-01-{year}', f'31-12-{year}')\n",
    "                page_views = elem['page_view_count'].split(',')\n",
    "                assert len(timestamps) == len(page_views)\n",
    "                final_list += list(zip(timestamps, [article] * len(timestamps), [lang] * len(timestamps), page_views)) \n",
    "    df = pd.DataFrame(final_list, columns=['date', 'article','language', 'pageviews'])\n",
    "    if save_csv:\n",
    "        df.to_csv(f'data/data_{lang}.csv')\n",
    "    return df\n",
    "    "
   ]
  },
  {
   "cell_type": "code",
   "execution_count": 145,
   "metadata": {},
   "outputs": [],
   "source": [
    "terrorism_articles = ['abu_sayyaf', 'afghanistan', 'agro', 'al-qaeda',\n",
    "       'al-qaeda_in_the_arabian_peninsula',\n",
    "       'al-qaeda_in_the_islamic_maghreb', 'al-shabaab',\n",
    "       'ammonium_nitrate', 'attack', 'biological_weapon', 'car_bomb',\n",
    "       'chemical_weapon', 'conventional_weapon', 'dirty_bomb',\n",
    "       'eco-terrorism', 'environmental_terrorism',\n",
    "       'euskadi_ta_askatasuna', 'extremism', 'farc', 'fundamentalism',\n",
    "       'hamas', 'hezbollah', 'improvised_explosive_device', 'iran',\n",
    "       'iraq', 'irish_republican_army', 'islamist', 'jihad',\n",
    "       'nationalism', 'nigeria', 'nuclear', 'nuclear_enrichment',\n",
    "       'pakistan', 'palestine_liberation_front', 'pirates', 'plo',\n",
    "       'political_radicalism', 'recruitment', 'somalia', 'suicide_attack',\n",
    "       'suicide_bomber', 'taliban', 'tamil_tigers',\n",
    "       'tehrik-i-taliban_pakistan', 'terror', 'terrorism',\n",
    "       'weapons-grade', 'yemen']"
   ]
  },
  {
   "cell_type": "code",
   "execution_count": 146,
   "metadata": {},
   "outputs": [],
   "source": [
    "articles = get_pageview_data(terrorism_articles, ['2012', '2013','2014','2015', '2016'], 'en')"
   ]
  },
  {
   "cell_type": "code",
   "execution_count": 161,
   "metadata": {},
   "outputs": [],
   "source": [
    "reference = pd.read_csv('data/terrorism_data.csv')"
   ]
  },
  {
   "cell_type": "code",
   "execution_count": 191,
   "metadata": {},
   "outputs": [],
   "source": [
    "testing_ref_data = reference.set_index(['date','article']).loc[:, 'views'].astype(int).sort_index(level=[0,1])"
   ]
  },
  {
   "cell_type": "code",
   "execution_count": 218,
   "metadata": {},
   "outputs": [],
   "source": [
    "test = articles.loc[articles.date.isin(reference.date)].set_index(['date','article']).sort_index(level=[0,1])['pageviews'].astype(int)"
   ]
  },
  {
   "cell_type": "code",
   "execution_count": 219,
   "metadata": {},
   "outputs": [
    {
     "data": {
      "text/plain": [
       "46752"
      ]
     },
     "execution_count": 219,
     "metadata": {},
     "output_type": "execute_result"
    }
   ],
   "source": [
    "import numpy as np\n",
    "\n",
    "np.count_nonzero((test.values == testing_ref_data.values))"
   ]
  },
  {
   "cell_type": "code",
   "execution_count": 220,
   "metadata": {},
   "outputs": [
    {
     "data": {
      "text/plain": [
       "(46752,)"
      ]
     },
     "execution_count": 220,
     "metadata": {},
     "output_type": "execute_result"
    }
   ],
   "source": [
    "test.shape"
   ]
  }
 ],
 "metadata": {
  "kernelspec": {
   "display_name": "Python [conda env:ada-env] *",
   "language": "python",
   "name": "conda-env-ada-env-py"
  },
  "language_info": {
   "codemirror_mode": {
    "name": "ipython",
    "version": 3
   },
   "file_extension": ".py",
   "mimetype": "text/x-python",
   "name": "python",
   "nbconvert_exporter": "python",
   "pygments_lexer": "ipython3",
   "version": "3.8.5"
  }
 },
 "nbformat": 4,
 "nbformat_minor": 4
}
