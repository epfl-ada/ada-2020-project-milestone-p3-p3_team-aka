{
 "cells": [
  {
   "cell_type": "code",
   "execution_count": 427,
   "metadata": {},
   "outputs": [],
   "source": [
    "# all needed libraries are imported here\n",
    "import re\n",
    "import sys\n",
    "import requests as requests\n",
    "import pandas as pd\n",
    "import matplotlib.pyplot as plt\n",
    "import wikipedia as wiki\n",
    "import numpy as np\n",
    "from statsmodels.stats import diagnostic\n",
    "import wikipediaapi\n",
    "import os\n",
    "import pandas as pd\n",
    "import sys\n",
    "import spacy\n",
    "from sklearn.metrics.pairwise import cosine_similarity\n",
    "import networkx as nx\n",
    "import statsmodels.formula.api as smf"
   ]
  },
  {
   "cell_type": "markdown",
   "metadata": {},
   "source": [
    "# 1. Data scraping\n",
    "\n",
    "We use the REST API from http://petermeissner.de:8880/ in order to extract pageviews for the articles,\n",
    "from January 2012 up until december 2015.\n",
    "We do this for both English and German Wikipedia."
   ]
  },
  {
   "cell_type": "code",
   "execution_count": 428,
   "metadata": {},
   "outputs": [],
   "source": [
    "# Helper function, extracts pageviews for a list of articles and a given language and specified years\n",
    "# and returns a dataframe with the associated information\n",
    "\n",
    "def get_pageview_data(articles, years, lang, save_csv=True):\n",
    "    \n",
    "    # initialize the search url\n",
    "    search_url = f'http://petermeissner.de:8880/article/exact/{lang}/'\n",
    "    final_list = []\n",
    "    \n",
    "    for article in articles:\n",
    "        \n",
    "        # small technical detail, we have to transofrm spaces in the page names into underscores.\n",
    "        article_no_spaces = re.sub(r'\\s','_', article)\n",
    "        try:\n",
    "            request = requests.get(search_url + article_no_spaces).json()\n",
    "        except:\n",
    "            print(f'Problem fetching data for article {article}')\n",
    "            continue\n",
    "            \n",
    "            \n",
    "        # verify everything went well\n",
    "        if request['status'] != 'ok':\n",
    "            print(f'Problem fetching data for article {article}')\n",
    "            continue\n",
    "            \n",
    "        data = request['data']\n",
    "        for elem in data:\n",
    "            year = elem['year']\n",
    "            if str(year) in years:\n",
    "                # create a date_range for the specific year\n",
    "                timestamps = pd.date_range(f'01-01-{year}', f'31-12-{year}')\n",
    "                page_views = elem['page_view_count'].split(',')\n",
    "                # quick sanity check\n",
    "                assert len(timestamps) == len(page_views)\n",
    "                final_list += list(zip(timestamps, [article] * len(timestamps), [lang] * len(timestamps), page_views))\n",
    "    \n",
    "    # create the needed dataframe and save it if specified\n",
    "    df = pd.DataFrame(final_list, columns=['date', 'article','language', 'pageviews'])\n",
    "    if save_csv:\n",
    "        df.to_csv(f'data/data_{lang}.csv')\n",
    "    return df\n",
    "    "
   ]
  },
  {
   "cell_type": "code",
   "execution_count": 429,
   "metadata": {},
   "outputs": [],
   "source": [
    "# Declare the desired article names for English and German\n",
    "\n",
    "terrorism_articles_en = ['abu_sayyaf', 'afghanistan', 'agro', 'al-qaeda',\n",
    "                      'al-qaeda_in_the_arabian_peninsula',\n",
    "                      'al-qaeda_in_the_islamic_maghreb', 'al-shabaab',\n",
    "                      'ammonium_nitrate', 'attack', 'biological_weapon', 'car_bomb',\n",
    "                      'chemical_weapon', 'conventional_weapon', 'dirty_bomb',\n",
    "                      'eco-terrorism', 'environmental_terrorism',\n",
    "                      'euskadi_ta_askatasuna', 'extremism', 'farc', 'fundamentalism',\n",
    "                      'hamas', 'hezbollah', 'improvised_explosive_device', 'iran',\n",
    "                      'iraq', 'irish_republican_army', 'islamist', 'jihad',\n",
    "                      'nationalism', 'nigeria', 'nuclear', 'nuclear_enrichment',\n",
    "                      'pakistan', 'palestine_liberation_front', 'pirates', 'plo',\n",
    "                      'political_radicalism', 'recruitment', 'somalia', 'suicide_attack',\n",
    "                      'suicide_bomber', 'taliban', 'tamil_tigers',\n",
    "                      'tehrik-i-taliban_pakistan', 'terror', 'terrorism',\n",
    "                      'weapons-grade', 'yemen']\n",
    "\n",
    "terrorism_articles_de = ['al-Qaida','Terrorismus', 'Terror (Begriffsklärung)', 'Angriff', 'Irak', 'Afghanistan',\n",
    "                        'Iran', 'Pakistan', 'Agroterrorismus', 'Ökoterrorismus','Hochangereichertes Uran',\"Chemische Waffe\", \"Ammoniumnitrat\",\n",
    "                        \"Unkonventionelle Spreng- und Brandvorrichtung\", \"Abu Sajaf\", \"Hamas\",\n",
    "                        \"FARC-EP\", \"Geschichte der Irisch-Republikanischen Armee\", \"Euskadi Ta Askatasuna\" , \"Hisbollah\",\n",
    "                        \"Liberation Tigers of Tamil Eelam\", \"Palästinensische Befreiungsorganisation\", \"Palästinensische Befreiungsfront\", \n",
    "                        \"Autobombe\", \"Dschihad\", \"Taliban\",\n",
    "                        'Islamismus', 'Fundamentalismus', 'Personalbeschaffung', 'Nationalismus', 'Al-Shabaab',\n",
    "                        'Radikalismus', 'Nigeria', 'Somalia', 'Extremismus', 'Piraterie', 'Jemen', 'Tehrik-i-Taliban Pakistan',\n",
    "                        'Al-Qaida im Maghreb', 'Al-Qaida auf der Arabischen Halbinsel', 'Selbstmordattentat']\n",
    "\n",
    "years = ['2012','2013','2014','2015']"
   ]
  },
  {
   "cell_type": "code",
   "execution_count": 430,
   "metadata": {},
   "outputs": [],
   "source": [
    "# small convenience variable so that we don't have to re_use the api each time\n",
    "use_api = False\n",
    "\n",
    "if use_api:\n",
    "    data_en = get_pageview_data(terrorism_articles_en, years, 'en', save_csv=True)\n",
    "    data_de = get_pageview_data(terrorism_articles_de, years, 'de', save_csv=True)\n",
    "else:\n",
    "    data_en = pd.read_csv('data/data_en.csv', parse_dates=['date'], index_col=0)\n",
    "    data_de = pd.read_csv('data/data_de.csv', parse_dates=['date'], index_col=0)\n",
    "\n",
    "data_en['pageviews'] = data_en['pageviews'].astype(int)"
   ]
  },
  {
   "cell_type": "markdown",
   "metadata": {},
   "source": [
    "There is a problem fetching data for the german version of the irish republican army article, although it does exist on Wikipedia."
   ]
  },
  {
   "cell_type": "code",
   "execution_count": 431,
   "metadata": {},
   "outputs": [
    {
     "data": {
      "text/html": [
       "<div>\n",
       "<style scoped>\n",
       "    .dataframe tbody tr th:only-of-type {\n",
       "        vertical-align: middle;\n",
       "    }\n",
       "\n",
       "    .dataframe tbody tr th {\n",
       "        vertical-align: top;\n",
       "    }\n",
       "\n",
       "    .dataframe thead th {\n",
       "        text-align: right;\n",
       "    }\n",
       "</style>\n",
       "<table border=\"1\" class=\"dataframe\">\n",
       "  <thead>\n",
       "    <tr style=\"text-align: right;\">\n",
       "      <th></th>\n",
       "      <th>date</th>\n",
       "      <th>article</th>\n",
       "      <th>language</th>\n",
       "      <th>pageviews</th>\n",
       "    </tr>\n",
       "  </thead>\n",
       "  <tbody>\n",
       "    <tr>\n",
       "      <th>0</th>\n",
       "      <td>2012-01-01</td>\n",
       "      <td>abu_sayyaf</td>\n",
       "      <td>en</td>\n",
       "      <td>254</td>\n",
       "    </tr>\n",
       "    <tr>\n",
       "      <th>1</th>\n",
       "      <td>2012-01-02</td>\n",
       "      <td>abu_sayyaf</td>\n",
       "      <td>en</td>\n",
       "      <td>351</td>\n",
       "    </tr>\n",
       "    <tr>\n",
       "      <th>2</th>\n",
       "      <td>2012-01-03</td>\n",
       "      <td>abu_sayyaf</td>\n",
       "      <td>en</td>\n",
       "      <td>423</td>\n",
       "    </tr>\n",
       "    <tr>\n",
       "      <th>3</th>\n",
       "      <td>2012-01-04</td>\n",
       "      <td>abu_sayyaf</td>\n",
       "      <td>en</td>\n",
       "      <td>418</td>\n",
       "    </tr>\n",
       "    <tr>\n",
       "      <th>4</th>\n",
       "      <td>2012-01-05</td>\n",
       "      <td>abu_sayyaf</td>\n",
       "      <td>en</td>\n",
       "      <td>804</td>\n",
       "    </tr>\n",
       "  </tbody>\n",
       "</table>\n",
       "</div>"
      ],
      "text/plain": [
       "        date     article language  pageviews\n",
       "0 2012-01-01  abu_sayyaf       en        254\n",
       "1 2012-01-02  abu_sayyaf       en        351\n",
       "2 2012-01-03  abu_sayyaf       en        423\n",
       "3 2012-01-04  abu_sayyaf       en        418\n",
       "4 2012-01-05  abu_sayyaf       en        804"
      ]
     },
     "execution_count": 431,
     "metadata": {},
     "output_type": "execute_result"
    }
   ],
   "source": [
    "data_en.head()"
   ]
  },
  {
   "cell_type": "code",
   "execution_count": 432,
   "metadata": {},
   "outputs": [
    {
     "data": {
      "text/html": [
       "<div>\n",
       "<style scoped>\n",
       "    .dataframe tbody tr th:only-of-type {\n",
       "        vertical-align: middle;\n",
       "    }\n",
       "\n",
       "    .dataframe tbody tr th {\n",
       "        vertical-align: top;\n",
       "    }\n",
       "\n",
       "    .dataframe thead th {\n",
       "        text-align: right;\n",
       "    }\n",
       "</style>\n",
       "<table border=\"1\" class=\"dataframe\">\n",
       "  <thead>\n",
       "    <tr style=\"text-align: right;\">\n",
       "      <th></th>\n",
       "      <th>date</th>\n",
       "      <th>article</th>\n",
       "      <th>language</th>\n",
       "      <th>pageviews</th>\n",
       "    </tr>\n",
       "  </thead>\n",
       "  <tbody>\n",
       "    <tr>\n",
       "      <th>0</th>\n",
       "      <td>2012-01-01</td>\n",
       "      <td>al-Qaida</td>\n",
       "      <td>de</td>\n",
       "      <td>438</td>\n",
       "    </tr>\n",
       "    <tr>\n",
       "      <th>1</th>\n",
       "      <td>2012-01-02</td>\n",
       "      <td>al-Qaida</td>\n",
       "      <td>de</td>\n",
       "      <td>9</td>\n",
       "    </tr>\n",
       "    <tr>\n",
       "      <th>2</th>\n",
       "      <td>2012-01-03</td>\n",
       "      <td>al-Qaida</td>\n",
       "      <td>de</td>\n",
       "      <td>669</td>\n",
       "    </tr>\n",
       "    <tr>\n",
       "      <th>3</th>\n",
       "      <td>2012-01-04</td>\n",
       "      <td>al-Qaida</td>\n",
       "      <td>de</td>\n",
       "      <td>659</td>\n",
       "    </tr>\n",
       "    <tr>\n",
       "      <th>4</th>\n",
       "      <td>2012-01-05</td>\n",
       "      <td>al-Qaida</td>\n",
       "      <td>de</td>\n",
       "      <td>746</td>\n",
       "    </tr>\n",
       "  </tbody>\n",
       "</table>\n",
       "</div>"
      ],
      "text/plain": [
       "        date   article language  pageviews\n",
       "0 2012-01-01  al-Qaida       de        438\n",
       "1 2012-01-02  al-Qaida       de          9\n",
       "2 2012-01-03  al-Qaida       de        669\n",
       "3 2012-01-04  al-Qaida       de        659\n",
       "4 2012-01-05  al-Qaida       de        746"
      ]
     },
     "execution_count": 432,
     "metadata": {},
     "output_type": "execute_result"
    }
   ],
   "source": [
    "data_de.head()"
   ]
  },
  {
   "cell_type": "markdown",
   "metadata": {},
   "source": [
    "# 2. Verifications and Tests\n",
    "We perform some sanity checks on the data, and find that some values may be missing. For the English articles, we compare the results with the data given to us for Milestone P2 replication."
   ]
  },
  {
   "cell_type": "markdown",
   "metadata": {},
   "source": [
    "## Checks"
   ]
  },
  {
   "cell_type": "code",
   "execution_count": 433,
   "metadata": {},
   "outputs": [
    {
     "name": "stdout",
     "output_type": "stream",
     "text": [
      "48\n",
      "48\n",
      "40\n",
      "41\n"
     ]
    }
   ],
   "source": [
    "print(len(data_en.article.unique()))\n",
    "print(len(terrorism_articles_en))\n",
    "print(len(data_de.article.unique()))\n",
    "print(len(terrorism_articles_de))"
   ]
  },
  {
   "cell_type": "markdown",
   "metadata": {},
   "source": [
    "This is expected as we were not able to retrieve one of the German articles data"
   ]
  },
  {
   "cell_type": "code",
   "execution_count": 434,
   "metadata": {},
   "outputs": [
    {
     "data": {
      "text/plain": [
       "True"
      ]
     },
     "execution_count": 434,
     "metadata": {},
     "output_type": "execute_result"
    }
   ],
   "source": [
    "# load the pageviews given for the replication\n",
    "reference = pd.read_csv('data/terrorism_data.csv')\n",
    "testing_ref_data = reference.set_index(['date','article']).loc[:, 'views'].astype(int).sort_index(level=[0,1])\n",
    "\n",
    "test_en = data_en.loc[data_en.date.isin(reference.date)].set_index(['date','article']).\\\n",
    "       sort_index(level=[0,1])['pageviews'].astype(int)\n",
    "\n",
    "np.count_nonzero((test_en.values == testing_ref_data.values)) == len(test_en)"
   ]
  },
  {
   "cell_type": "markdown",
   "metadata": {},
   "source": [
    "We have **exactly the same** pageviews as the ones given for the replication, which a good sign."
   ]
  },
  {
   "cell_type": "markdown",
   "metadata": {},
   "source": [
    "## Scatter plots of the data"
   ]
  },
  {
   "cell_type": "code",
   "execution_count": 452,
   "metadata": {},
   "outputs": [],
   "source": [
    "# Aggregate the total monthly pageviews\n",
    "grouped_en = data_en.groupby(pd.Grouper(key='date', freq='M'))['pageviews'].sum()\n",
    "grouped_de = data_de.groupby(pd.Grouper(key='date', freq='M'))['pageviews'].sum()"
   ]
  },
  {
   "cell_type": "code",
   "execution_count": 469,
   "metadata": {},
   "outputs": [
    {
     "data": {
      "image/png": "[encoded data removed]",
      "text/plain": [
       "<Figure size 720x360 with 1 Axes>"
      ]
     },
     "metadata": {
      "needs_background": "light"
     },
     "output_type": "display_data"
    }
   ],
   "source": [
    "plt.figure(figsize=(10,5))\n",
    "plt.scatter(x=range(1,len(grouped_en) + 1), y=grouped_en.values, label='English articles')\n",
    "plt.scatter(x=range(1,len(grouped_de) + 1), y=grouped_de.values, marker='X', label='German articles')\n",
    "\n",
    "plt.title('Aggregated Monthly Pageviews for English and German Articles')\n",
    "\n",
    "plt.grid (False, axis='x')\n",
    "plt.grid (True, axis='y')\n",
    "plt.tight_layout()\n",
    "plt.xticks(range(1,len(grouped_en) + 1))\n",
    "plt.legend()\n",
    "plt.savefig('figures/agg.png')\n",
    "\n",
    "plt.show()"
   ]
  },
  {
   "cell_type": "markdown",
   "metadata": {},
   "source": [
    "For the English articles, we notice **very low pageview** values from July 2014 until Dec 2014."
   ]
  },
  {
   "cell_type": "markdown",
   "metadata": {},
   "source": [
    "## Testing for missing pageview Data\n",
    "Seeing the outlier points in the scatter plots we look for missing values in the data"
   ]
  },
  {
   "cell_type": "code",
   "execution_count": 470,
   "metadata": {},
   "outputs": [
    {
     "data": {
      "text/plain": [
       "6627"
      ]
     },
     "execution_count": 470,
     "metadata": {},
     "output_type": "execute_result"
    }
   ],
   "source": [
    "(data_en['pageviews'] == 0).sum()"
   ]
  },
  {
   "cell_type": "code",
   "execution_count": 471,
   "metadata": {},
   "outputs": [
    {
     "data": {
      "text/plain": [
       "5468"
      ]
     },
     "execution_count": 471,
     "metadata": {},
     "output_type": "execute_result"
    }
   ],
   "source": [
    "(data_de['pageviews'] == 0).sum()"
   ]
  },
  {
   "cell_type": "markdown",
   "metadata": {},
   "source": [
    "As we can see, there seems to be many zeros in the data. What about for the monthly case?"
   ]
  },
  {
   "cell_type": "code",
   "execution_count": 473,
   "metadata": {},
   "outputs": [
    {
     "data": {
      "text/html": [
       "<div>\n",
       "<style scoped>\n",
       "    .dataframe tbody tr th:only-of-type {\n",
       "        vertical-align: middle;\n",
       "    }\n",
       "\n",
       "    .dataframe tbody tr th {\n",
       "        vertical-align: top;\n",
       "    }\n",
       "\n",
       "    .dataframe thead th {\n",
       "        text-align: right;\n",
       "    }\n",
       "</style>\n",
       "<table border=\"1\" class=\"dataframe\">\n",
       "  <thead>\n",
       "    <tr style=\"text-align: right;\">\n",
       "      <th></th>\n",
       "      <th>date</th>\n",
       "      <th>article</th>\n",
       "      <th>language</th>\n",
       "      <th>pageviews</th>\n",
       "    </tr>\n",
       "  </thead>\n",
       "  <tbody>\n",
       "    <tr>\n",
       "      <th>0</th>\n",
       "      <td>2012-01-01</td>\n",
       "      <td>abu_sayyaf</td>\n",
       "      <td>en</td>\n",
       "      <td>254</td>\n",
       "    </tr>\n",
       "    <tr>\n",
       "      <th>1</th>\n",
       "      <td>2012-01-02</td>\n",
       "      <td>abu_sayyaf</td>\n",
       "      <td>en</td>\n",
       "      <td>351</td>\n",
       "    </tr>\n",
       "    <tr>\n",
       "      <th>2</th>\n",
       "      <td>2012-01-03</td>\n",
       "      <td>abu_sayyaf</td>\n",
       "      <td>en</td>\n",
       "      <td>423</td>\n",
       "    </tr>\n",
       "    <tr>\n",
       "      <th>3</th>\n",
       "      <td>2012-01-04</td>\n",
       "      <td>abu_sayyaf</td>\n",
       "      <td>en</td>\n",
       "      <td>418</td>\n",
       "    </tr>\n",
       "    <tr>\n",
       "      <th>4</th>\n",
       "      <td>2012-01-05</td>\n",
       "      <td>abu_sayyaf</td>\n",
       "      <td>en</td>\n",
       "      <td>804</td>\n",
       "    </tr>\n",
       "    <tr>\n",
       "      <th>...</th>\n",
       "      <td>...</td>\n",
       "      <td>...</td>\n",
       "      <td>...</td>\n",
       "      <td>...</td>\n",
       "    </tr>\n",
       "    <tr>\n",
       "      <th>70123</th>\n",
       "      <td>2014-12-27</td>\n",
       "      <td>yemen</td>\n",
       "      <td>en</td>\n",
       "      <td>1895</td>\n",
       "    </tr>\n",
       "    <tr>\n",
       "      <th>70124</th>\n",
       "      <td>2014-12-28</td>\n",
       "      <td>yemen</td>\n",
       "      <td>en</td>\n",
       "      <td>1929</td>\n",
       "    </tr>\n",
       "    <tr>\n",
       "      <th>70125</th>\n",
       "      <td>2014-12-29</td>\n",
       "      <td>yemen</td>\n",
       "      <td>en</td>\n",
       "      <td>2180</td>\n",
       "    </tr>\n",
       "    <tr>\n",
       "      <th>70126</th>\n",
       "      <td>2014-12-30</td>\n",
       "      <td>yemen</td>\n",
       "      <td>en</td>\n",
       "      <td>0</td>\n",
       "    </tr>\n",
       "    <tr>\n",
       "      <th>70127</th>\n",
       "      <td>2014-12-31</td>\n",
       "      <td>yemen</td>\n",
       "      <td>en</td>\n",
       "      <td>2226</td>\n",
       "    </tr>\n",
       "  </tbody>\n",
       "</table>\n",
       "<p>70128 rows × 4 columns</p>\n",
       "</div>"
      ],
      "text/plain": [
       "            date     article language  pageviews\n",
       "0     2012-01-01  abu_sayyaf       en        254\n",
       "1     2012-01-02  abu_sayyaf       en        351\n",
       "2     2012-01-03  abu_sayyaf       en        423\n",
       "3     2012-01-04  abu_sayyaf       en        418\n",
       "4     2012-01-05  abu_sayyaf       en        804\n",
       "...          ...         ...      ...        ...\n",
       "70123 2014-12-27       yemen       en       1895\n",
       "70124 2014-12-28       yemen       en       1929\n",
       "70125 2014-12-29       yemen       en       2180\n",
       "70126 2014-12-30       yemen       en          0\n",
       "70127 2014-12-31       yemen       en       2226\n",
       "\n",
       "[70128 rows x 4 columns]"
      ]
     },
     "execution_count": 473,
     "metadata": {},
     "output_type": "execute_result"
    }
   ],
   "source": [
    "data_en"
   ]
  },
  {
   "cell_type": "code",
   "execution_count": 480,
   "metadata": {},
   "outputs": [
    {
     "data": {
      "text/plain": [
       "35"
      ]
     },
     "execution_count": 480,
     "metadata": {},
     "output_type": "execute_result"
    }
   ],
   "source": [
    "(data_en.groupby(['article',pd.Grouper(key='date', freq='M')])['pageviews'].sum() == 0).sum()"
   ]
  },
  {
   "cell_type": "code",
   "execution_count": 481,
   "metadata": {},
   "outputs": [
    {
     "data": {
      "text/plain": [
       "39"
      ]
     },
     "execution_count": 481,
     "metadata": {},
     "output_type": "execute_result"
    }
   ],
   "source": [
    "(data_de.groupby(['article',pd.Grouper(key='date', freq='M')])['pageviews'].sum() == 0).sum()"
   ]
  },
  {
   "cell_type": "markdown",
   "metadata": {},
   "source": [
    "We conclude that there are many **missing values** in the data, as it is not plausible to have whole months without any pageviews. We should keep this in mind when interpreting the data."
   ]
  },
  {
   "cell_type": "markdown",
   "metadata": {},
   "source": [
    "# Q1: Is the Chilling effect found persistent?"
   ]
  },
  {
   "cell_type": "code",
   "execution_count": 14,
   "metadata": {},
   "outputs": [],
   "source": [
    "# Helper function, performs all the necessary operations to prepare the data for ITS regression\n",
    "\n",
    "def prepare_data_for_regression(data):\n",
    "    pageviews_per_month = data.groupby(pd.Grouper(key='date', freq='M')).sum().reset_index()\n",
    "    # june 2013 and its index, where the months are counted from 1 to 32\n",
    "    june_2013 = pd.to_datetime('2013-06-30')\n",
    "    june_2013_index = 18 \n",
    "\n",
    "    # prepare columns for the regression\n",
    "\n",
    "    # intervention is an indicator function, which takes the value 1 for rows after June 2013\n",
    "    pageviews_per_month['intervention'] = (pageviews_per_month.date >= june_2013).astype(int)\n",
    "\n",
    "    # time is the sequence [1,2,..,32] as we have 32 months\n",
    "    pageviews_per_month ['time'] = range(1,len(pageviews_per_month) + 1)\n",
    "\n",
    "    # post_slope is 0 before June 2013, then 1,2,.. starting June 2013\n",
    "    pageviews_per_month['post_slope'] = (pageviews_per_month['time'] - june_2013_index + 1) * \\\n",
    "                                         pageviews_per_month['intervention']\n",
    "    \n",
    "    return pageviews_per_month"
   ]
  },
  {
   "cell_type": "markdown",
   "metadata": {},
   "source": [
    "# Q2: Is the Chilling effect only restrained to English Wikipedia?"
   ]
  },
  {
   "cell_type": "markdown",
   "metadata": {},
   "source": [
    "## 2.1 Initial regression\n",
    "Here we perform the same ITS regression on the German Articles we retrivied in the Data Scraping section"
   ]
  },
  {
   "cell_type": "code",
   "execution_count": 496,
   "metadata": {},
   "outputs": [],
   "source": [
    "# drop the language column\n",
    "data_de = data_de.drop('language', axis=1)\n",
    "\n",
    "# filter all rows corresponding to the article about Hamas, for consistency with the paper\n",
    "data_de = data_de.query('(article != \"Hamas\")')\n",
    "\n",
    "# Keep the same date range as the paper\n",
    "data_de = data_de.loc[data_de.date <= '31-08-2018']"
   ]
  },
  {
   "cell_type": "markdown",
   "metadata": {},
   "source": [
    "## 2.1 Data considered removed suicide bomber\n",
    "difference here:  \n",
    "why here:"
   ]
  },
  {
   "cell_type": "code",
   "execution_count": 290,
   "metadata": {},
   "outputs": [],
   "source": [
    "terrorism_articles_en = ['Abu Sayyaf', 'afghanistan', 'Agro-terrorism', 'al-qaeda',\n",
    "       'Al-Qaeda in the Arabian Peninsula',\n",
    "       'Al-Qaeda in the Islamic Maghreb', 'al-shabaab',\n",
    "       'ammonium_nitrate', 'Offensive (military)', 'biological_weapon', 'car_bomb',\n",
    "       'chemical_weapon', 'conventional_weapon', 'dirty_bomb',\n",
    "       'eco-terrorism', 'environmental_terrorism',\n",
    "       'Euskadi ta Askatasuna', 'extremism', 'farc', 'fundamentalism',\n",
    "       'hamas', 'hezbollah', 'improvised_explosive_device', 'iran',\n",
    "       'iraq', 'Irish Republican Army', 'islamist', 'jihad',\n",
    "       'nationalism', 'nigeria', 'Nuclear weapon', 'nuclear_enrichment',\n",
    "       'pakistan', 'Palestine Liberation Front', 'pirates', 'PLO',\n",
    "       'political_radicalism', 'recruitment', 'somalia', 'suicide_attack',\n",
    "        'taliban', 'tamil_tigers',\n",
    "       'Tehrik-i-Taliban Pakistan', 'Terror (politics)', 'terrorism',\n",
    "       'weapons-grade', 'yemen']\n",
    "\n",
    "categories_selected_de = ['Kategorie:Afghanistan', 'Kategorie:Afghanistankrieg (seit 1978)', 'Kategorie:Al-Qaida',\n",
    "                          'Kategorie:Antisemitismus', 'Kategorie:Anti-Freimaurerei','Kategorie:Antizionismus',\n",
    "                          'Kategorie:Asymmetrische Kriegführung', 'Kategorie:Attentat', 'Kategorie:Bewaffnete islamistische Organisation',\n",
    "                          'Kategorie:Bewaffnete islamistische Organisation', 'Kategorie:Bewaffnete islamistische Untergrundorganisation',\n",
    "                          'Kategorie:Bombe', 'Kategorie:Hamas', 'Kategorie:Hisbollah','Kategorie:Islamische Republik',\n",
    "                          'Kategorie:Islamistischer Terrorismus','Kategorie:Terrorismus', 'Kategorie:Taliban']\n",
    "categories_selected_en = ['Category:Al-Qaeda','Category:Taliban','Category:Bombs', 'Category:Anti-communist terrorism',\n",
    "                          'Category:Jihadist groups', 'Category:Salafi jihadists', 'Category:Violence', 'Category:Nuclear terrorism',\n",
    "                          'Category:Al-Qaeda in the Arabian Peninsula', 'Category:Chemical weapons']\n",
    "                "
   ]
  },
  {
   "cell_type": "markdown",
   "metadata": {},
   "source": [
    "### 2.1.1 English"
   ]
  },
  {
   "cell_type": "code",
   "execution_count": 291,
   "metadata": {},
   "outputs": [],
   "source": [
    "articles_en = set(terrorism_articles_en)\n",
    "for category in categories_selected_en:\n",
    "    articles_en.update(get_members_of_category(category,'en', 0, 2))"
   ]
  },
  {
   "cell_type": "code",
   "execution_count": 293,
   "metadata": {},
   "outputs": [
    {
     "data": {
      "text/plain": [
       "560"
      ]
     },
     "execution_count": 293,
     "metadata": {},
     "output_type": "execute_result"
    }
   ],
   "source": [
    "len(articles_en)"
   ]
  },
  {
   "cell_type": "code",
   "execution_count": 298,
   "metadata": {},
   "outputs": [
    {
     "name": "stdout",
     "output_type": "stream",
     "text": [
      "Problem fetching data for article Mexican Dirty War\n",
      "Problem fetching data for article Indonesian mass killings of 1965–66\n",
      "Problem fetching data for article Jihad Media Battalion\n",
      "Problem fetching data for article Red-tagging in the Philippines\n",
      "Problem fetching data for article Atomic sabotage\n",
      "Problem fetching data for article Occupation of Iraq (2003–2011)\n",
      "Problem fetching data for article Abu Osama Al-Muhajer\n",
      "Problem fetching data for article Violence in art\n",
      "Problem fetching data for article Fluoroethyl fluoroacetate\n",
      "Problem fetching data for article Ansar Ghazwat-ul-Hind\n",
      "Problem fetching data for article Incendiary balloon\n",
      "Problem fetching data for article Hurtcore\n",
      "Problem fetching data for article Mass stabbing\n",
      "Problem fetching data for article Chlorophenylsilatrane\n",
      "Problem fetching data for article Abu Qutaibah al Majali\n",
      "Problem fetching data for article The Survivor (2016 film)\n",
      "Problem fetching data for article National Thowheeth Jama'ath\n",
      "Problem fetching data for article Islamic Defence Force of Afghanistan\n",
      "Problem fetching data for article Gaspar Jiménez\n",
      "Problem fetching data for article Al Hijarah (missile)\n",
      "Problem fetching data for article Derbent Jamaat\n",
      "Problem fetching data for article List of Militants fatality reports in Pakistan\n",
      "Problem fetching data for article Radiological sabotage\n",
      "Problem fetching data for article Atomic terrorism\n",
      "Problem fetching data for article Rape threat\n",
      "Problem fetching data for article List of projected death tolls from nuclear attacks on cities\n",
      "Problem fetching data for article Aden Hashi Farah Aero\n",
      "Problem fetching data for article Abu Ubaidah Yusef al-Annabi\n",
      "Problem fetching data for article List of Taliban provincial governors\n",
      "Problem fetching data for article Radiological terrorism\n",
      "Problem fetching data for article CNS (chemical weapon)\n",
      "Problem fetching data for article Islamic State's Central Africa Province\n",
      "Problem fetching data for article Yemeni Civil War (2014–present)\n",
      "Problem fetching data for article ISIL (Da'esh) and Al-Qaida Sanctions Committee\n",
      "Problem fetching data for article Nicolas Blancho\n",
      "Problem fetching data for article Partner violence in hip hop\n",
      "Problem fetching data for article Afghan peace process\n",
      "Problem fetching data for article Insurgency in Khyber Pakhtunkhwa\n",
      "Problem fetching data for article Ba Ag Moussa\n",
      "Problem fetching data for article Jamaah Ansharut Daulah\n",
      "Problem fetching data for article Ajang Ajang group\n",
      "Problem fetching data for article Sanctions against Afghanistan\n",
      "Problem fetching data for article Kuer Sena\n",
      "Problem fetching data for article Methyl fluoroacetate\n",
      "Problem fetching data for article Chemical Weapons Act 1996\n",
      "Problem fetching data for article FBI Seeking Information – Terrorism list\n",
      "Problem fetching data for article Mustafa Band\n",
      "Problem fetching data for article Musa Baluku\n",
      "Problem fetching data for article Stone throwing\n",
      "Problem fetching data for article Negros Island killings\n",
      "Problem fetching data for article Russian bounty program\n"
     ]
    }
   ],
   "source": [
    "extend_english = True\n",
    "if extend_english:\n",
    "    pageviews_en = get_pageview_data(articles_en, ['2012', '2013','2014'], 'en', save_csv=False) \n",
    "else:\n",
    "    pageviews_en = get_pageview_data(terrorism_articles_en, ['2012', '2013','2014'], 'en', save_csv=False)"
   ]
  },
  {
   "cell_type": "code",
   "execution_count": 311,
   "metadata": {},
   "outputs": [],
   "source": [
    "# We only keep the articles that have a  meaningful amount of pageviews, or that are direct translations of an English article\n",
    "pageviews_en.loc[:,'pageviews'] = pageviews_en['pageviews'].astype(int)\n",
    "total_pageviews_en = pageviews_en.groupby('article')['pageviews'].sum() \n",
    "articles_kept_en = total_pageviews_en[total_pageviews_en > 10000].index.unique()\n",
    "pageviews_en = pageviews_en[pageviews_en.article.isin(articles_kept_en)]"
   ]
  },
  {
   "cell_type": "code",
   "execution_count": 315,
   "metadata": {},
   "outputs": [
    {
     "data": {
      "text/plain": [
       "343"
      ]
     },
     "execution_count": 315,
     "metadata": {},
     "output_type": "execute_result"
    }
   ],
   "source": [
    "len(pageviews_en.article.unique())"
   ]
  },
  {
   "cell_type": "code",
   "execution_count": 299,
   "metadata": {},
   "outputs": [
    {
     "data": {
      "text/html": [
       "<div>\n",
       "<style scoped>\n",
       "    .dataframe tbody tr th:only-of-type {\n",
       "        vertical-align: middle;\n",
       "    }\n",
       "\n",
       "    .dataframe tbody tr th {\n",
       "        vertical-align: top;\n",
       "    }\n",
       "\n",
       "    .dataframe thead th {\n",
       "        text-align: right;\n",
       "    }\n",
       "</style>\n",
       "<table border=\"1\" class=\"dataframe\">\n",
       "  <thead>\n",
       "    <tr style=\"text-align: right;\">\n",
       "      <th></th>\n",
       "      <th>date</th>\n",
       "      <th>article</th>\n",
       "      <th>language</th>\n",
       "      <th>pageviews</th>\n",
       "    </tr>\n",
       "  </thead>\n",
       "  <tbody>\n",
       "    <tr>\n",
       "      <th>0</th>\n",
       "      <td>2012-01-01</td>\n",
       "      <td>Yusef al-Ayeri</td>\n",
       "      <td>en</td>\n",
       "      <td>2</td>\n",
       "    </tr>\n",
       "    <tr>\n",
       "      <th>1</th>\n",
       "      <td>2012-01-02</td>\n",
       "      <td>Yusef al-Ayeri</td>\n",
       "      <td>en</td>\n",
       "      <td>2</td>\n",
       "    </tr>\n",
       "    <tr>\n",
       "      <th>2</th>\n",
       "      <td>2012-01-03</td>\n",
       "      <td>Yusef al-Ayeri</td>\n",
       "      <td>en</td>\n",
       "      <td>6</td>\n",
       "    </tr>\n",
       "    <tr>\n",
       "      <th>3</th>\n",
       "      <td>2012-01-04</td>\n",
       "      <td>Yusef al-Ayeri</td>\n",
       "      <td>en</td>\n",
       "      <td>4</td>\n",
       "    </tr>\n",
       "    <tr>\n",
       "      <th>4</th>\n",
       "      <td>2012-01-05</td>\n",
       "      <td>Yusef al-Ayeri</td>\n",
       "      <td>en</td>\n",
       "      <td>3</td>\n",
       "    </tr>\n",
       "  </tbody>\n",
       "</table>\n",
       "</div>"
      ],
      "text/plain": [
       "        date         article language pageviews\n",
       "0 2012-01-01  Yusef al-Ayeri       en         2\n",
       "1 2012-01-02  Yusef al-Ayeri       en         2\n",
       "2 2012-01-03  Yusef al-Ayeri       en         6\n",
       "3 2012-01-04  Yusef al-Ayeri       en         4\n",
       "4 2012-01-05  Yusef al-Ayeri       en         3"
      ]
     },
     "execution_count": 299,
     "metadata": {},
     "output_type": "execute_result"
    }
   ],
   "source": [
    "pageviews_en.head()"
   ]
  },
  {
   "cell_type": "code",
   "execution_count": 316,
   "metadata": {},
   "outputs": [],
   "source": [
    "# Helper function, retrieves page summaries, can look for other languages equivalents\n",
    "def get_page_summaries(pages, lang, look_for_other_lang=False, other_lang='de'):\n",
    "\n",
    "    summaries = []\n",
    "    wiki = wikipediaapi.Wikipedia(lang)\n",
    "    \n",
    "    for page in pages:\n",
    "        try:\n",
    "            page_en = wiki.page(page)\n",
    "            if look_for_other_lang:\n",
    "                page_other = page_en.langlinks.get(other_lang, None)\n",
    "                page_other_title = page_other.title if page_other else None\n",
    "                summaries.append({f'article_{lang}': page, f'summary_{lang}': page_en.summary, \n",
    "                      f'article_{other_lang}': page_other_title})\n",
    "            else:\n",
    "                summaries.append({f'article_{lang}': page, f'summary_{lang}': page_en.summary})\n",
    "\n",
    "        except:\n",
    "            print(f\"problem fetching data for page: {page}\", file=sys.stderr)\n",
    "            continue\n",
    "        \n",
    "    return pd.DataFrame(summaries)"
   ]
  },
  {
   "cell_type": "code",
   "execution_count": 375,
   "metadata": {},
   "outputs": [],
   "source": [
    "summaries_en = get_page_summaries(pageviews_en.article.unique(), 'en', look_for_other_lang=True, other_lang='de')\\\n",
    "               .drop_duplicates(['summary_en', 'article_de'])"
   ]
  },
  {
   "cell_type": "code",
   "execution_count": 319,
   "metadata": {},
   "outputs": [
    {
     "data": {
      "text/html": [
       "<div>\n",
       "<style scoped>\n",
       "    .dataframe tbody tr th:only-of-type {\n",
       "        vertical-align: middle;\n",
       "    }\n",
       "\n",
       "    .dataframe tbody tr th {\n",
       "        vertical-align: top;\n",
       "    }\n",
       "\n",
       "    .dataframe thead th {\n",
       "        text-align: right;\n",
       "    }\n",
       "</style>\n",
       "<table border=\"1\" class=\"dataframe\">\n",
       "  <thead>\n",
       "    <tr style=\"text-align: right;\">\n",
       "      <th></th>\n",
       "      <th>article_en</th>\n",
       "      <th>summary_en</th>\n",
       "      <th>article_de</th>\n",
       "    </tr>\n",
       "  </thead>\n",
       "  <tbody>\n",
       "    <tr>\n",
       "      <th>0</th>\n",
       "      <td>Al-Qaeda involvement in the Middle East</td>\n",
       "      <td>It is believed that members of Al-Qaeda are hi...</td>\n",
       "      <td>None</td>\n",
       "    </tr>\n",
       "    <tr>\n",
       "      <th>1</th>\n",
       "      <td>Cycle of violence</td>\n",
       "      <td>The term cycle of violence refers to repeated ...</td>\n",
       "      <td>None</td>\n",
       "    </tr>\n",
       "    <tr>\n",
       "      <th>2</th>\n",
       "      <td>Operation Fishbowl</td>\n",
       "      <td>Operation Fishbowl was a series of high-altitu...</td>\n",
       "      <td>None</td>\n",
       "    </tr>\n",
       "    <tr>\n",
       "      <th>3</th>\n",
       "      <td>Jemaah Islamiyah</td>\n",
       "      <td>Jemaah Islamiyah (Arabic: الجماعة الإسلامية‎, ...</td>\n",
       "      <td>Jemaah Islamiyah</td>\n",
       "    </tr>\n",
       "    <tr>\n",
       "      <th>4</th>\n",
       "      <td>Violent crime</td>\n",
       "      <td>A violent crime, violent felony, crime of viol...</td>\n",
       "      <td>Gewaltkriminalität</td>\n",
       "    </tr>\n",
       "  </tbody>\n",
       "</table>\n",
       "</div>"
      ],
      "text/plain": [
       "                                article_en  \\\n",
       "0  Al-Qaeda involvement in the Middle East   \n",
       "1                        Cycle of violence   \n",
       "2                       Operation Fishbowl   \n",
       "3                         Jemaah Islamiyah   \n",
       "4                            Violent crime   \n",
       "\n",
       "                                          summary_en          article_de  \n",
       "0  It is believed that members of Al-Qaeda are hi...                None  \n",
       "1  The term cycle of violence refers to repeated ...                None  \n",
       "2  Operation Fishbowl was a series of high-altitu...                None  \n",
       "3  Jemaah Islamiyah (Arabic: الجماعة الإسلامية‎, ...    Jemaah Islamiyah  \n",
       "4  A violent crime, violent felony, crime of viol...  Gewaltkriminalität  "
      ]
     },
     "execution_count": 319,
     "metadata": {},
     "output_type": "execute_result"
    }
   ],
   "source": [
    "summaries_en.head()"
   ]
  },
  {
   "cell_type": "markdown",
   "metadata": {},
   "source": [
    "### 2.1.2 German"
   ]
  },
  {
   "cell_type": "code",
   "execution_count": 377,
   "metadata": {},
   "outputs": [],
   "source": [
    "# Helper function, to consider a wide range of pages\n",
    "def get_members_of_category(cat, lang, level=0, max_level=1):\n",
    "    wiki = wikipediaapi.Wikipedia(lang)\n",
    "    category_page = wiki.page(cat)\n",
    "    all_pages_in_cat = []\n",
    "    for c in category_page.categorymembers.values(): \n",
    "        if c.ns == wikipediaapi.Namespace.CATEGORY and level < max_level:\n",
    "            all_pages_in_cat.extend(get_members_of_category(c, lang, level+1, max_level))\n",
    "        elif c.ns == wikipediaapi.Namespace.MAIN: # check that page represents an article\n",
    "            all_pages_in_cat.append(c.title)\n",
    "    \n",
    "    return all_pages_in_cat"
   ]
  },
  {
   "cell_type": "code",
   "execution_count": 321,
   "metadata": {},
   "outputs": [],
   "source": [
    "# Fetch all members of the selected categories\n",
    "articles_de = set(summaries_en['article_de'].dropna())\n",
    "for category in categories_selected_de:\n",
    "    articles_de.update(get_members_of_category(category,'de', 0, 5))"
   ]
  },
  {
   "cell_type": "code",
   "execution_count": 322,
   "metadata": {},
   "outputs": [
    {
     "name": "stdout",
     "output_type": "stream",
     "text": [
      "['Able Danger', 'Joshua Ryne Goldberg', 'Jamaat-ul-Mujahideen Bangladesh', 'Hamas-Charta', 'Revolutionäre Zellen (Deutschland)', 'Chalid Maschal', 'AN-M50', 'Russisches Forschungs- und Bildungszentrum „Holocaust“', 'Stabbrandbombe', 'Ritualmordvorwurf von Skurcz']\n"
     ]
    }
   ],
   "source": [
    "articles_de = list(articles_de)\n",
    "print(articles_de[:10])"
   ]
  },
  {
   "cell_type": "code",
   "execution_count": 323,
   "metadata": {},
   "outputs": [
    {
     "name": "stdout",
     "output_type": "stream",
     "text": [
      "Problem fetching data for article Ritualmordvorwurf von Skurcz\n",
      "Problem fetching data for article Antisemitismus in der Türkei\n",
      "Problem fetching data for article Beschädigung des Tagebuchs der Anne Frank\n",
      "Problem fetching data for article B53/W53 (Kernwaffe)\n",
      "Problem fetching data for article Itzig (Ethnophaulismus)\n",
      "Problem fetching data for article Vertreibung von Juden aus arabischen und islamischen Ländern\n",
      "Problem fetching data for article Liste von Anschlägen der Allied Democratic Forces\n",
      "Problem fetching data for article Jamaat-ul-Ahrar\n",
      "Problem fetching data for article Jugendwiderstand (Berliner Gruppe)\n",
      "Problem fetching data for article GBU-53/B\n",
      "Problem fetching data for article ASh-2\n",
      "Problem fetching data for article Goyim Partei Deutschland\n",
      "Problem fetching data for article Antisemitismus beim Aalster Karnevalsumzug\n",
      "Problem fetching data for article Geschichte des Antisemitismus seit 1945\n",
      "Problem fetching data for article Julie Manheimer\n",
      "Problem fetching data for article Skunk (Waffe)\n",
      "Problem fetching data for article Attentat auf August Gölzer\n",
      "Problem fetching data for article Robin de Ruiter\n",
      "Problem fetching data for article Schwarze Troika\n",
      "Problem fetching data for article Zyklon Beatz\n",
      "Problem fetching data for article Dissau Crime\n",
      "Problem fetching data for article Hasm-Bewegung\n",
      "Problem fetching data for article Marco Furlan\n",
      "Problem fetching data for article Judentum in Armenien\n",
      "Problem fetching data for article Nationale Islamische Bewegung Afghanistans\n",
      "Problem fetching data for article Franc-tireurs\n",
      "Problem fetching data for article Ostküste (Schimpfwort)\n",
      "Problem fetching data for article Attentat in der Via Rasella\n",
      "Problem fetching data for article Mustafa Setmariam Nasar\n",
      "Problem fetching data for article Jaish ul-Adl\n",
      "Problem fetching data for article Umbrella Man (JFK-Attentat)\n",
      "Problem fetching data for article Mordfall Selimchan Changoschwili\n",
      "Problem fetching data for article Geschichte des Antisemitismus bis 1945\n",
      "Problem fetching data for article Fusgeyer\n",
      "Problem fetching data for article Juye-Vorfall\n",
      "Problem fetching data for article National Thowheeth Jama’ath\n",
      "Problem fetching data for article GBU-43/B Massive Ordnance Air Blast\n",
      "Problem fetching data for article Terroranschlag in Sri Lanka am Ostersonntag 2019\n",
      "Problem fetching data for article Norat Ter-Grigorjanz\n",
      "Problem fetching data for article Liste von Kernwaffen\n",
      "Problem fetching data for article Zoobin\n",
      "Problem fetching data for article Pogrom von Wąsosz\n",
      "Problem fetching data for article Fribourg-Konferenz 1948\n",
      "Problem fetching data for article HOPE/HOSBO\n",
      "Problem fetching data for article Eisenbahn-Attentat von Rechovot\n",
      "Problem fetching data for article Liechtenstein in der Zeit des Nationalsozialismus\n",
      "Problem fetching data for article Geschichte der Irisch-Republikanischen Armee\n",
      "Problem fetching data for article Opération Sentinelle\n",
      "Problem fetching data for article Bernhard-Kreis\n",
      "Problem fetching data for article Rote Armee Fraktion (Japan)\n",
      "Problem fetching data for article Nacht der ermordeten Dichter\n",
      "Problem fetching data for article Inlandsterrorismus\n",
      "Problem fetching data for article Payitaht Abdülhamid\n",
      "Problem fetching data for article Attentat in Annapolis\n",
      "Problem fetching data for article Ausschreitungen in Chemnitz 2018\n",
      "Problem fetching data for article Resolution 46/86 der UN-Generalversammlung\n",
      "Problem fetching data for article Bangsamoro Islamic Freedom Fighters\n",
      "Problem fetching data for article Werner Dittrich (Rassentheoretiker)\n",
      "Problem fetching data for article Operation Nördlicher Schutzschild\n",
      "Problem fetching data for article Antiterrordateigesetz\n",
      "Problem fetching data for article Combined Action Program\n",
      "Problem fetching data for article Antisemitismus in Belgien\n",
      "Problem fetching data for article Phineas-Priesterschaft\n",
      "Problem fetching data for article Attentat in der Tree-of-Life-Synagoge in Pittsburgh 2018\n",
      "Problem fetching data for article Schändung jüdischer Friedhöfe\n",
      "Problem fetching data for article Mauscheln (Verb)\n",
      "Problem fetching data for article Anastasia-Bewegung\n",
      "Problem fetching data for article Ar-Rahman-Legion\n",
      "Problem fetching data for article Anschlag auf eine Synagoge in Poway\n",
      "Problem fetching data for article Unsterbliche Tonkunst\n",
      "Problem fetching data for article Resolution 647 des UN-Sicherheitsrates\n",
      "Problem fetching data for article (((echo)))\n",
      "Problem fetching data for article Beauftragter der Bundesregierung für jüdisches Leben in Deutschland und den Kampf gegen Antisemitismus\n",
      "Problem fetching data for article Anschlag in Jersey City\n",
      "Problem fetching data for article Grenzzaun (Konstanz)\n",
      "Problem fetching data for article Terroranschlag in Sierra Leone am 8. November 1998\n",
      "Problem fetching data for article Barisan Revolusi Nasional\n",
      "Problem fetching data for article Augstein-Debatte\n",
      "Problem fetching data for article Liste von Anschlägen auf Juden und jüdische Einrichtungen in den Vereinigten Staaten\n",
      "Problem fetching data for article Terrorabwehr in Israel\n",
      "Problem fetching data for article Dari-Persisch\n",
      "Problem fetching data for article Geronimo (Roman)\n",
      "Problem fetching data for article Runda Kumpulan Kecil\n",
      "Problem fetching data for article Operation Neptune Spear\n",
      "Problem fetching data for article New Order (Organisation)\n",
      "Problem fetching data for article Elza-Niyego-Krawalle\n",
      "Problem fetching data for article Initiative GG 5.3 Weltoffenheit\n",
      "Problem fetching data for article Massaker von Tykocin\n",
      "Problem fetching data for article Forces occultes\n",
      "Problem fetching data for article Jewish Voice for Peace\n",
      "Problem fetching data for article Radau-Antisemitismus\n",
      "Problem fetching data for article Erich Meyer (Rassentheoretiker)\n"
     ]
    }
   ],
   "source": [
    "pageviews_de = get_pageview_data(articles_de, ['2012', '2013','2014'], 'de', save_csv=False)"
   ]
  },
  {
   "cell_type": "code",
   "execution_count": 325,
   "metadata": {},
   "outputs": [
    {
     "data": {
      "text/html": [
       "<div>\n",
       "<style scoped>\n",
       "    .dataframe tbody tr th:only-of-type {\n",
       "        vertical-align: middle;\n",
       "    }\n",
       "\n",
       "    .dataframe tbody tr th {\n",
       "        vertical-align: top;\n",
       "    }\n",
       "\n",
       "    .dataframe thead th {\n",
       "        text-align: right;\n",
       "    }\n",
       "</style>\n",
       "<table border=\"1\" class=\"dataframe\">\n",
       "  <thead>\n",
       "    <tr style=\"text-align: right;\">\n",
       "      <th></th>\n",
       "      <th>date</th>\n",
       "      <th>article</th>\n",
       "      <th>language</th>\n",
       "      <th>pageviews</th>\n",
       "    </tr>\n",
       "  </thead>\n",
       "  <tbody>\n",
       "    <tr>\n",
       "      <th>0</th>\n",
       "      <td>2012-01-01</td>\n",
       "      <td>Able Danger</td>\n",
       "      <td>de</td>\n",
       "      <td>9</td>\n",
       "    </tr>\n",
       "    <tr>\n",
       "      <th>1</th>\n",
       "      <td>2012-01-02</td>\n",
       "      <td>Able Danger</td>\n",
       "      <td>de</td>\n",
       "      <td>0</td>\n",
       "    </tr>\n",
       "    <tr>\n",
       "      <th>2</th>\n",
       "      <td>2012-01-03</td>\n",
       "      <td>Able Danger</td>\n",
       "      <td>de</td>\n",
       "      <td>13</td>\n",
       "    </tr>\n",
       "    <tr>\n",
       "      <th>3</th>\n",
       "      <td>2012-01-04</td>\n",
       "      <td>Able Danger</td>\n",
       "      <td>de</td>\n",
       "      <td>11</td>\n",
       "    </tr>\n",
       "    <tr>\n",
       "      <th>4</th>\n",
       "      <td>2012-01-05</td>\n",
       "      <td>Able Danger</td>\n",
       "      <td>de</td>\n",
       "      <td>6</td>\n",
       "    </tr>\n",
       "  </tbody>\n",
       "</table>\n",
       "</div>"
      ],
      "text/plain": [
       "        date      article language pageviews\n",
       "0 2012-01-01  Able Danger       de         9\n",
       "1 2012-01-02  Able Danger       de         0\n",
       "2 2012-01-03  Able Danger       de        13\n",
       "3 2012-01-04  Able Danger       de        11\n",
       "4 2012-01-05  Able Danger       de         6"
      ]
     },
     "execution_count": 325,
     "metadata": {},
     "output_type": "execute_result"
    }
   ],
   "source": [
    "pageviews_de.head()"
   ]
  },
  {
   "cell_type": "code",
   "execution_count": 326,
   "metadata": {},
   "outputs": [],
   "source": [
    "# We only keep the articles that have a  meaningful amount of pageviews, or that are direct translations of an English \n",
    "pageviews_de['pageviews'] = pageviews_de['pageviews'].astype(int)\n",
    "total_pageviews = pageviews_de.groupby('article')['pageviews'].sum() \n",
    "articles_kept = total_pageviews[total_pageviews > 10000].index.unique()\n",
    "pageviews_de = pageviews_de[pageviews_de.article.isin(articles_kept) | \n",
    "                            pageviews_de.article.isin(summaries_en.article_de.dropna().unique())]"
   ]
  },
  {
   "cell_type": "code",
   "execution_count": 327,
   "metadata": {},
   "outputs": [
    {
     "data": {
      "text/html": [
       "<div>\n",
       "<style scoped>\n",
       "    .dataframe tbody tr th:only-of-type {\n",
       "        vertical-align: middle;\n",
       "    }\n",
       "\n",
       "    .dataframe tbody tr th {\n",
       "        vertical-align: top;\n",
       "    }\n",
       "\n",
       "    .dataframe thead th {\n",
       "        text-align: right;\n",
       "    }\n",
       "</style>\n",
       "<table border=\"1\" class=\"dataframe\">\n",
       "  <thead>\n",
       "    <tr style=\"text-align: right;\">\n",
       "      <th></th>\n",
       "      <th>article_en</th>\n",
       "      <th>summary_en</th>\n",
       "      <th>article_de</th>\n",
       "    </tr>\n",
       "  </thead>\n",
       "  <tbody>\n",
       "    <tr>\n",
       "      <th>0</th>\n",
       "      <td>Al-Qaeda involvement in the Middle East</td>\n",
       "      <td>It is believed that members of Al-Qaeda are hi...</td>\n",
       "      <td>None</td>\n",
       "    </tr>\n",
       "    <tr>\n",
       "      <th>1</th>\n",
       "      <td>Cycle of violence</td>\n",
       "      <td>The term cycle of violence refers to repeated ...</td>\n",
       "      <td>None</td>\n",
       "    </tr>\n",
       "    <tr>\n",
       "      <th>2</th>\n",
       "      <td>Operation Fishbowl</td>\n",
       "      <td>Operation Fishbowl was a series of high-altitu...</td>\n",
       "      <td>None</td>\n",
       "    </tr>\n",
       "    <tr>\n",
       "      <th>5</th>\n",
       "      <td>Tehran Eight</td>\n",
       "      <td>The Tehran Eight was a political union of Shi'...</td>\n",
       "      <td>None</td>\n",
       "    </tr>\n",
       "    <tr>\n",
       "      <th>7</th>\n",
       "      <td>Use of force continuum</td>\n",
       "      <td>A use of force continuum is a standard that pr...</td>\n",
       "      <td>None</td>\n",
       "    </tr>\n",
       "    <tr>\n",
       "      <th>...</th>\n",
       "      <td>...</td>\n",
       "      <td>...</td>\n",
       "      <td>...</td>\n",
       "    </tr>\n",
       "    <tr>\n",
       "      <th>330</th>\n",
       "      <td>Irish Republican Army</td>\n",
       "      <td>The Irish Republican Army (IRA) is a name used...</td>\n",
       "      <td>Geschichte der Irisch-Republikanischen Armee</td>\n",
       "    </tr>\n",
       "    <tr>\n",
       "      <th>333</th>\n",
       "      <td>Eye poke</td>\n",
       "      <td>An eye poke, eye jab, eye stab, eye strike or ...</td>\n",
       "      <td>None</td>\n",
       "    </tr>\n",
       "    <tr>\n",
       "      <th>336</th>\n",
       "      <td>Workplace violence</td>\n",
       "      <td>Workplace violence (WPV) or occupational viole...</td>\n",
       "      <td>None</td>\n",
       "    </tr>\n",
       "    <tr>\n",
       "      <th>337</th>\n",
       "      <td>3-Methylfentanyl</td>\n",
       "      <td>3-Methylfentanyl (3-MF, mefentanyl) is an opio...</td>\n",
       "      <td>None</td>\n",
       "    </tr>\n",
       "    <tr>\n",
       "      <th>342</th>\n",
       "      <td>Carnography</td>\n",
       "      <td>Carnography (also carno) refers to excessive o...</td>\n",
       "      <td>None</td>\n",
       "    </tr>\n",
       "  </tbody>\n",
       "</table>\n",
       "<p>174 rows × 3 columns</p>\n",
       "</div>"
      ],
      "text/plain": [
       "                                  article_en  \\\n",
       "0    Al-Qaeda involvement in the Middle East   \n",
       "1                          Cycle of violence   \n",
       "2                         Operation Fishbowl   \n",
       "5                               Tehran Eight   \n",
       "7                     Use of force continuum   \n",
       "..                                       ...   \n",
       "330                    Irish Republican Army   \n",
       "333                                 Eye poke   \n",
       "336                       Workplace violence   \n",
       "337                         3-Methylfentanyl   \n",
       "342                              Carnography   \n",
       "\n",
       "                                            summary_en  \\\n",
       "0    It is believed that members of Al-Qaeda are hi...   \n",
       "1    The term cycle of violence refers to repeated ...   \n",
       "2    Operation Fishbowl was a series of high-altitu...   \n",
       "5    The Tehran Eight was a political union of Shi'...   \n",
       "7    A use of force continuum is a standard that pr...   \n",
       "..                                                 ...   \n",
       "330  The Irish Republican Army (IRA) is a name used...   \n",
       "333  An eye poke, eye jab, eye stab, eye strike or ...   \n",
       "336  Workplace violence (WPV) or occupational viole...   \n",
       "337  3-Methylfentanyl (3-MF, mefentanyl) is an opio...   \n",
       "342  Carnography (also carno) refers to excessive o...   \n",
       "\n",
       "                                       article_de  \n",
       "0                                            None  \n",
       "1                                            None  \n",
       "2                                            None  \n",
       "5                                            None  \n",
       "7                                            None  \n",
       "..                                            ...  \n",
       "330  Geschichte der Irisch-Republikanischen Armee  \n",
       "333                                          None  \n",
       "336                                          None  \n",
       "337                                          None  \n",
       "342                                          None  \n",
       "\n",
       "[174 rows x 3 columns]"
      ]
     },
     "execution_count": 327,
     "metadata": {},
     "output_type": "execute_result"
    }
   ],
   "source": [
    "# Quick verification that we have all articles we want to keep \n",
    "summaries_en[~summaries_en['article_de'].isin(pageviews_de.article.unique())]"
   ]
  },
  {
   "cell_type": "code",
   "execution_count": 378,
   "metadata": {},
   "outputs": [],
   "source": [
    "summaries_de = get_page_summaries(pageviews_de.article.unique(), 'de', look_for_other_lang=False)\\\n",
    "               .drop_duplicates(['summary_de'])"
   ]
  },
  {
   "cell_type": "code",
   "execution_count": 379,
   "metadata": {},
   "outputs": [],
   "source": [
    "summaries_de = summaries_de.loc[~summaries_de.article_de.isin(summaries_en.article_de.unique())]"
   ]
  },
  {
   "cell_type": "code",
   "execution_count": 380,
   "metadata": {},
   "outputs": [
    {
     "data": {
      "text/html": [
       "<div>\n",
       "<style scoped>\n",
       "    .dataframe tbody tr th:only-of-type {\n",
       "        vertical-align: middle;\n",
       "    }\n",
       "\n",
       "    .dataframe tbody tr th {\n",
       "        vertical-align: top;\n",
       "    }\n",
       "\n",
       "    .dataframe thead th {\n",
       "        text-align: right;\n",
       "    }\n",
       "</style>\n",
       "<table border=\"1\" class=\"dataframe\">\n",
       "  <thead>\n",
       "    <tr style=\"text-align: right;\">\n",
       "      <th></th>\n",
       "      <th>article_de</th>\n",
       "      <th>summary_de</th>\n",
       "    </tr>\n",
       "  </thead>\n",
       "  <tbody>\n",
       "    <tr>\n",
       "      <th>0</th>\n",
       "      <td>Revolutionäre Zellen (Deutschland)</td>\n",
       "      <td>Die Revolutionären Zellen (RZ) waren eine link...</td>\n",
       "    </tr>\n",
       "    <tr>\n",
       "      <th>1</th>\n",
       "      <td>Chalid Maschal</td>\n",
       "      <td>Chalid Maschal (* Mai 1956 in Silwad bei Ramal...</td>\n",
       "    </tr>\n",
       "    <tr>\n",
       "      <th>2</th>\n",
       "      <td>Stabbrandbombe</td>\n",
       "      <td>Die Stabbrandbombe, auch Brandstab oder Elektr...</td>\n",
       "    </tr>\n",
       "    <tr>\n",
       "      <th>4</th>\n",
       "      <td>Flugzeugentführung</td>\n",
       "      <td>Eine Flugzeugentführung (auch Luftpiraterie, e...</td>\n",
       "    </tr>\n",
       "    <tr>\n",
       "      <th>5</th>\n",
       "      <td>BLU-109</td>\n",
       "      <td>Der BLU-109 (Bomb Live Unit) ist ein gehärtete...</td>\n",
       "    </tr>\n",
       "    <tr>\n",
       "      <th>...</th>\n",
       "      <td>...</td>\n",
       "      <td>...</td>\n",
       "    </tr>\n",
       "    <tr>\n",
       "      <th>399</th>\n",
       "      <td>Semitismus</td>\n",
       "      <td>Mit dem Ausdruck Semitismus bezeichnet man spr...</td>\n",
       "    </tr>\n",
       "    <tr>\n",
       "      <th>401</th>\n",
       "      <td>Diskriminierung</td>\n",
       "      <td>Diskriminierung bezeichnet eine Benachteiligun...</td>\n",
       "    </tr>\n",
       "    <tr>\n",
       "      <th>402</th>\n",
       "      <td>Ustascha</td>\n",
       "      <td>Die Ustascha (kroatisch: , Plural , vollständi...</td>\n",
       "    </tr>\n",
       "    <tr>\n",
       "      <th>403</th>\n",
       "      <td>Brandbombe</td>\n",
       "      <td>Als Brandbomben bezeichnet man Bomben, die aus...</td>\n",
       "    </tr>\n",
       "    <tr>\n",
       "      <th>404</th>\n",
       "      <td>Maulwurf (Agent)</td>\n",
       "      <td>Maulwurf, auch U-Boot, ist ein Agent, Informan...</td>\n",
       "    </tr>\n",
       "  </tbody>\n",
       "</table>\n",
       "<p>241 rows × 2 columns</p>\n",
       "</div>"
      ],
      "text/plain": [
       "                             article_de  \\\n",
       "0    Revolutionäre Zellen (Deutschland)   \n",
       "1                        Chalid Maschal   \n",
       "2                        Stabbrandbombe   \n",
       "4                    Flugzeugentführung   \n",
       "5                               BLU-109   \n",
       "..                                  ...   \n",
       "399                          Semitismus   \n",
       "401                     Diskriminierung   \n",
       "402                            Ustascha   \n",
       "403                          Brandbombe   \n",
       "404                    Maulwurf (Agent)   \n",
       "\n",
       "                                            summary_de  \n",
       "0    Die Revolutionären Zellen (RZ) waren eine link...  \n",
       "1    Chalid Maschal (* Mai 1956 in Silwad bei Ramal...  \n",
       "2    Die Stabbrandbombe, auch Brandstab oder Elektr...  \n",
       "4    Eine Flugzeugentführung (auch Luftpiraterie, e...  \n",
       "5    Der BLU-109 (Bomb Live Unit) ist ein gehärtete...  \n",
       "..                                                 ...  \n",
       "399  Mit dem Ausdruck Semitismus bezeichnet man spr...  \n",
       "401  Diskriminierung bezeichnet eine Benachteiligun...  \n",
       "402  Die Ustascha (kroatisch: , Plural , vollständi...  \n",
       "403  Als Brandbomben bezeichnet man Bomben, die aus...  \n",
       "404  Maulwurf, auch U-Boot, ist ein Agent, Informan...  \n",
       "\n",
       "[241 rows x 2 columns]"
      ]
     },
     "execution_count": 380,
     "metadata": {},
     "output_type": "execute_result"
    }
   ],
   "source": [
    "summaries_de"
   ]
  },
  {
   "cell_type": "markdown",
   "metadata": {},
   "source": [
    "## 2.2. Matching"
   ]
  },
  {
   "cell_type": "code",
   "execution_count": 381,
   "metadata": {},
   "outputs": [],
   "source": [
    "treated_subjects = summaries_en.loc[~summaries_en.article_de.isin(pageviews_de.article)]\n",
    "untreated_subjects = summaries_de.copy()"
   ]
  },
  {
   "cell_type": "code",
   "execution_count": 382,
   "metadata": {},
   "outputs": [
    {
     "data": {
      "text/html": [
       "<div>\n",
       "<style scoped>\n",
       "    .dataframe tbody tr th:only-of-type {\n",
       "        vertical-align: middle;\n",
       "    }\n",
       "\n",
       "    .dataframe tbody tr th {\n",
       "        vertical-align: top;\n",
       "    }\n",
       "\n",
       "    .dataframe thead th {\n",
       "        text-align: right;\n",
       "    }\n",
       "</style>\n",
       "<table border=\"1\" class=\"dataframe\">\n",
       "  <thead>\n",
       "    <tr style=\"text-align: right;\">\n",
       "      <th></th>\n",
       "      <th>article_en</th>\n",
       "      <th>summary_en</th>\n",
       "      <th>article_de</th>\n",
       "    </tr>\n",
       "  </thead>\n",
       "  <tbody>\n",
       "    <tr>\n",
       "      <th>0</th>\n",
       "      <td>Al-Qaeda involvement in the Middle East</td>\n",
       "      <td>It is believed that members of Al-Qaeda are hi...</td>\n",
       "      <td>None</td>\n",
       "    </tr>\n",
       "    <tr>\n",
       "      <th>1</th>\n",
       "      <td>Cycle of violence</td>\n",
       "      <td>The term cycle of violence refers to repeated ...</td>\n",
       "      <td>None</td>\n",
       "    </tr>\n",
       "    <tr>\n",
       "      <th>2</th>\n",
       "      <td>Operation Fishbowl</td>\n",
       "      <td>Operation Fishbowl was a series of high-altitu...</td>\n",
       "      <td>None</td>\n",
       "    </tr>\n",
       "    <tr>\n",
       "      <th>5</th>\n",
       "      <td>Tehran Eight</td>\n",
       "      <td>The Tehran Eight was a political union of Shi'...</td>\n",
       "      <td>None</td>\n",
       "    </tr>\n",
       "    <tr>\n",
       "      <th>7</th>\n",
       "      <td>Use of force continuum</td>\n",
       "      <td>A use of force continuum is a standard that pr...</td>\n",
       "      <td>None</td>\n",
       "    </tr>\n",
       "    <tr>\n",
       "      <th>...</th>\n",
       "      <td>...</td>\n",
       "      <td>...</td>\n",
       "      <td>...</td>\n",
       "    </tr>\n",
       "    <tr>\n",
       "      <th>330</th>\n",
       "      <td>Irish Republican Army</td>\n",
       "      <td>The Irish Republican Army (IRA) is a name used...</td>\n",
       "      <td>Geschichte der Irisch-Republikanischen Armee</td>\n",
       "    </tr>\n",
       "    <tr>\n",
       "      <th>333</th>\n",
       "      <td>Eye poke</td>\n",
       "      <td>An eye poke, eye jab, eye stab, eye strike or ...</td>\n",
       "      <td>None</td>\n",
       "    </tr>\n",
       "    <tr>\n",
       "      <th>336</th>\n",
       "      <td>Workplace violence</td>\n",
       "      <td>Workplace violence (WPV) or occupational viole...</td>\n",
       "      <td>None</td>\n",
       "    </tr>\n",
       "    <tr>\n",
       "      <th>337</th>\n",
       "      <td>3-Methylfentanyl</td>\n",
       "      <td>3-Methylfentanyl (3-MF, mefentanyl) is an opio...</td>\n",
       "      <td>None</td>\n",
       "    </tr>\n",
       "    <tr>\n",
       "      <th>342</th>\n",
       "      <td>Carnography</td>\n",
       "      <td>Carnography (also carno) refers to excessive o...</td>\n",
       "      <td>None</td>\n",
       "    </tr>\n",
       "  </tbody>\n",
       "</table>\n",
       "<p>173 rows × 3 columns</p>\n",
       "</div>"
      ],
      "text/plain": [
       "                                  article_en  \\\n",
       "0    Al-Qaeda involvement in the Middle East   \n",
       "1                          Cycle of violence   \n",
       "2                         Operation Fishbowl   \n",
       "5                               Tehran Eight   \n",
       "7                     Use of force continuum   \n",
       "..                                       ...   \n",
       "330                    Irish Republican Army   \n",
       "333                                 Eye poke   \n",
       "336                       Workplace violence   \n",
       "337                         3-Methylfentanyl   \n",
       "342                              Carnography   \n",
       "\n",
       "                                            summary_en  \\\n",
       "0    It is believed that members of Al-Qaeda are hi...   \n",
       "1    The term cycle of violence refers to repeated ...   \n",
       "2    Operation Fishbowl was a series of high-altitu...   \n",
       "5    The Tehran Eight was a political union of Shi'...   \n",
       "7    A use of force continuum is a standard that pr...   \n",
       "..                                                 ...   \n",
       "330  The Irish Republican Army (IRA) is a name used...   \n",
       "333  An eye poke, eye jab, eye stab, eye strike or ...   \n",
       "336  Workplace violence (WPV) or occupational viole...   \n",
       "337  3-Methylfentanyl (3-MF, mefentanyl) is an opio...   \n",
       "342  Carnography (also carno) refers to excessive o...   \n",
       "\n",
       "                                       article_de  \n",
       "0                                            None  \n",
       "1                                            None  \n",
       "2                                            None  \n",
       "5                                            None  \n",
       "7                                            None  \n",
       "..                                            ...  \n",
       "330  Geschichte der Irisch-Republikanischen Armee  \n",
       "333                                          None  \n",
       "336                                          None  \n",
       "337                                          None  \n",
       "342                                          None  \n",
       "\n",
       "[173 rows x 3 columns]"
      ]
     },
     "execution_count": 382,
     "metadata": {},
     "output_type": "execute_result"
    }
   ],
   "source": [
    "treated_subjects"
   ]
  },
  {
   "cell_type": "code",
   "execution_count": 383,
   "metadata": {},
   "outputs": [
    {
     "data": {
      "text/html": [
       "<div>\n",
       "<style scoped>\n",
       "    .dataframe tbody tr th:only-of-type {\n",
       "        vertical-align: middle;\n",
       "    }\n",
       "\n",
       "    .dataframe tbody tr th {\n",
       "        vertical-align: top;\n",
       "    }\n",
       "\n",
       "    .dataframe thead th {\n",
       "        text-align: right;\n",
       "    }\n",
       "</style>\n",
       "<table border=\"1\" class=\"dataframe\">\n",
       "  <thead>\n",
       "    <tr style=\"text-align: right;\">\n",
       "      <th></th>\n",
       "      <th>article_de</th>\n",
       "      <th>summary_de</th>\n",
       "    </tr>\n",
       "  </thead>\n",
       "  <tbody>\n",
       "    <tr>\n",
       "      <th>0</th>\n",
       "      <td>Revolutionäre Zellen (Deutschland)</td>\n",
       "      <td>Die Revolutionären Zellen (RZ) waren eine link...</td>\n",
       "    </tr>\n",
       "    <tr>\n",
       "      <th>1</th>\n",
       "      <td>Chalid Maschal</td>\n",
       "      <td>Chalid Maschal (* Mai 1956 in Silwad bei Ramal...</td>\n",
       "    </tr>\n",
       "    <tr>\n",
       "      <th>2</th>\n",
       "      <td>Stabbrandbombe</td>\n",
       "      <td>Die Stabbrandbombe, auch Brandstab oder Elektr...</td>\n",
       "    </tr>\n",
       "    <tr>\n",
       "      <th>4</th>\n",
       "      <td>Flugzeugentführung</td>\n",
       "      <td>Eine Flugzeugentführung (auch Luftpiraterie, e...</td>\n",
       "    </tr>\n",
       "    <tr>\n",
       "      <th>5</th>\n",
       "      <td>BLU-109</td>\n",
       "      <td>Der BLU-109 (Bomb Live Unit) ist ein gehärtete...</td>\n",
       "    </tr>\n",
       "  </tbody>\n",
       "</table>\n",
       "</div>"
      ],
      "text/plain": [
       "                           article_de  \\\n",
       "0  Revolutionäre Zellen (Deutschland)   \n",
       "1                      Chalid Maschal   \n",
       "2                      Stabbrandbombe   \n",
       "4                  Flugzeugentführung   \n",
       "5                             BLU-109   \n",
       "\n",
       "                                          summary_de  \n",
       "0  Die Revolutionären Zellen (RZ) waren eine link...  \n",
       "1  Chalid Maschal (* Mai 1956 in Silwad bei Ramal...  \n",
       "2  Die Stabbrandbombe, auch Brandstab oder Elektr...  \n",
       "4  Eine Flugzeugentführung (auch Luftpiraterie, e...  \n",
       "5  Der BLU-109 (Bomb Live Unit) ist ein gehärtete...  "
      ]
     },
     "execution_count": 383,
     "metadata": {},
     "output_type": "execute_result"
    }
   ],
   "source": [
    "untreated_subjects.head()"
   ]
  },
  {
   "cell_type": "code",
   "execution_count": 384,
   "metadata": {},
   "outputs": [],
   "source": [
    "# We need unique indices between the two frames for the matching\n",
    "untreated_subjects = untreated_subjects.set_index(pd.RangeIndex(max(treated_subjects.index) + 1, \n",
    "                                                                max(treated_subjects.index) + 1 + len(untreated_subjects)))\n",
    "\n"
   ]
  },
  {
   "cell_type": "code",
   "execution_count": 385,
   "metadata": {},
   "outputs": [],
   "source": [
    "nlp_en = spacy.load('en')\n",
    "nlp_de = spacy.load('de')"
   ]
  },
  {
   "cell_type": "code",
   "execution_count": 386,
   "metadata": {},
   "outputs": [],
   "source": [
    "def remove_everything_in_parenth_or_brackets (text):\n",
    "    n = 1  \n",
    "    while n:\n",
    "        text1 = text\n",
    "        text, n = re.subn(r'\\([^()]*\\)', '', text)\n",
    "        \n",
    "    return text"
   ]
  },
  {
   "cell_type": "code",
   "execution_count": 387,
   "metadata": {},
   "outputs": [
    {
     "name": "stderr",
     "output_type": "stream",
     "text": [
      "<ipython-input-387-092fd5dd057b>:1: SettingWithCopyWarning: \n",
      "A value is trying to be set on a copy of a slice from a DataFrame.\n",
      "Try using .loc[row_indexer,col_indexer] = value instead\n",
      "\n",
      "See the caveats in the documentation: https://pandas.pydata.org/pandas-docs/stable/user_guide/indexing.html#returning-a-view-versus-a-copy\n",
      "  treated_subjects['summary_en'] = treated_subjects['summary_en'].apply(remove_everything_in_parenth_or_brackets)\n"
     ]
    }
   ],
   "source": [
    "treated_subjects['summary_en'] = treated_subjects['summary_en'].apply(remove_everything_in_parenth_or_brackets)\n",
    "untreated_subjects['summary_de'] = untreated_subjects['summary_de'].apply(remove_everything_in_parenth_or_brackets)"
   ]
  },
  {
   "cell_type": "code",
   "execution_count": 388,
   "metadata": {},
   "outputs": [
    {
     "data": {
      "text/html": [
       "<div>\n",
       "<style scoped>\n",
       "    .dataframe tbody tr th:only-of-type {\n",
       "        vertical-align: middle;\n",
       "    }\n",
       "\n",
       "    .dataframe tbody tr th {\n",
       "        vertical-align: top;\n",
       "    }\n",
       "\n",
       "    .dataframe thead th {\n",
       "        text-align: right;\n",
       "    }\n",
       "</style>\n",
       "<table border=\"1\" class=\"dataframe\">\n",
       "  <thead>\n",
       "    <tr style=\"text-align: right;\">\n",
       "      <th></th>\n",
       "      <th>article_en</th>\n",
       "      <th>summary_en</th>\n",
       "      <th>article_de</th>\n",
       "    </tr>\n",
       "  </thead>\n",
       "  <tbody>\n",
       "    <tr>\n",
       "      <th>0</th>\n",
       "      <td>Al-Qaeda involvement in the Middle East</td>\n",
       "      <td>It is believed that members of Al-Qaeda are hi...</td>\n",
       "      <td>None</td>\n",
       "    </tr>\n",
       "    <tr>\n",
       "      <th>1</th>\n",
       "      <td>Cycle of violence</td>\n",
       "      <td>The term cycle of violence refers to repeated ...</td>\n",
       "      <td>None</td>\n",
       "    </tr>\n",
       "    <tr>\n",
       "      <th>2</th>\n",
       "      <td>Operation Fishbowl</td>\n",
       "      <td>Operation Fishbowl was a series of high-altitu...</td>\n",
       "      <td>None</td>\n",
       "    </tr>\n",
       "    <tr>\n",
       "      <th>5</th>\n",
       "      <td>Tehran Eight</td>\n",
       "      <td>The Tehran Eight was a political union of Shi'...</td>\n",
       "      <td>None</td>\n",
       "    </tr>\n",
       "    <tr>\n",
       "      <th>7</th>\n",
       "      <td>Use of force continuum</td>\n",
       "      <td>A use of force continuum is a standard that pr...</td>\n",
       "      <td>None</td>\n",
       "    </tr>\n",
       "  </tbody>\n",
       "</table>\n",
       "</div>"
      ],
      "text/plain": [
       "                                article_en  \\\n",
       "0  Al-Qaeda involvement in the Middle East   \n",
       "1                        Cycle of violence   \n",
       "2                       Operation Fishbowl   \n",
       "5                             Tehran Eight   \n",
       "7                   Use of force continuum   \n",
       "\n",
       "                                          summary_en article_de  \n",
       "0  It is believed that members of Al-Qaeda are hi...       None  \n",
       "1  The term cycle of violence refers to repeated ...       None  \n",
       "2  Operation Fishbowl was a series of high-altitu...       None  \n",
       "5  The Tehran Eight was a political union of Shi'...       None  \n",
       "7  A use of force continuum is a standard that pr...       None  "
      ]
     },
     "execution_count": 388,
     "metadata": {},
     "output_type": "execute_result"
    }
   ],
   "source": [
    "treated_subjects.head()"
   ]
  },
  {
   "cell_type": "code",
   "execution_count": 389,
   "metadata": {},
   "outputs": [
    {
     "name": "stderr",
     "output_type": "stream",
     "text": [
      "<ipython-input-389-a89b41d5e3be>:1: SettingWithCopyWarning: \n",
      "A value is trying to be set on a copy of a slice from a DataFrame.\n",
      "Try using .loc[row_indexer,col_indexer] = value instead\n",
      "\n",
      "See the caveats in the documentation: https://pandas.pydata.org/pandas-docs/stable/user_guide/indexing.html#returning-a-view-versus-a-copy\n",
      "  treated_subjects['summary_en'] = treated_subjects['summary_en'].apply(\\\n"
     ]
    }
   ],
   "source": [
    "treated_subjects['summary_en'] = treated_subjects['summary_en'].apply(\\\n",
    "    lambda text: [token.lemma_.lower() for token in nlp_en(text) if not token.is_stop and not token.is_punct \\\n",
    "                                                and not token.is_space and not token.is_digit])\n",
    "\n",
    "untreated_subjects['summary_de'] = untreated_subjects['summary_de'].apply(\\\n",
    "    lambda text: [token.lemma_.lower() for token in nlp_de(text) if not token.is_stop and not token.is_punct \\\n",
    "                                                and not token.is_space and not token.is_digit])"
   ]
  },
  {
   "cell_type": "code",
   "execution_count": 390,
   "metadata": {},
   "outputs": [
    {
     "data": {
      "text/html": [
       "<div>\n",
       "<style scoped>\n",
       "    .dataframe tbody tr th:only-of-type {\n",
       "        vertical-align: middle;\n",
       "    }\n",
       "\n",
       "    .dataframe tbody tr th {\n",
       "        vertical-align: top;\n",
       "    }\n",
       "\n",
       "    .dataframe thead th {\n",
       "        text-align: right;\n",
       "    }\n",
       "</style>\n",
       "<table border=\"1\" class=\"dataframe\">\n",
       "  <thead>\n",
       "    <tr style=\"text-align: right;\">\n",
       "      <th></th>\n",
       "      <th>article_en</th>\n",
       "      <th>summary_en</th>\n",
       "      <th>article_de</th>\n",
       "    </tr>\n",
       "  </thead>\n",
       "  <tbody>\n",
       "    <tr>\n",
       "      <th>0</th>\n",
       "      <td>Al-Qaeda involvement in the Middle East</td>\n",
       "      <td>[believe, member, al, qaeda, hide, border, afg...</td>\n",
       "      <td>None</td>\n",
       "    </tr>\n",
       "    <tr>\n",
       "      <th>1</th>\n",
       "      <td>Cycle of violence</td>\n",
       "      <td>[term, cycle, violence, refer, repeated, dange...</td>\n",
       "      <td>None</td>\n",
       "    </tr>\n",
       "    <tr>\n",
       "      <th>2</th>\n",
       "      <td>Operation Fishbowl</td>\n",
       "      <td>[operation, fishbowl, series, high, altitude, ...</td>\n",
       "      <td>None</td>\n",
       "    </tr>\n",
       "    <tr>\n",
       "      <th>5</th>\n",
       "      <td>Tehran Eight</td>\n",
       "      <td>[tehran, political, union, shi'a, afghan, muja...</td>\n",
       "      <td>None</td>\n",
       "    </tr>\n",
       "    <tr>\n",
       "      <th>7</th>\n",
       "      <td>Use of force continuum</td>\n",
       "      <td>[use, force, continuum, standard, provide, law...</td>\n",
       "      <td>None</td>\n",
       "    </tr>\n",
       "    <tr>\n",
       "      <th>...</th>\n",
       "      <td>...</td>\n",
       "      <td>...</td>\n",
       "      <td>...</td>\n",
       "    </tr>\n",
       "    <tr>\n",
       "      <th>330</th>\n",
       "      <td>Irish Republican Army</td>\n",
       "      <td>[irish, republican, army, paramilitary, organi...</td>\n",
       "      <td>Geschichte der Irisch-Republikanischen Armee</td>\n",
       "    </tr>\n",
       "    <tr>\n",
       "      <th>333</th>\n",
       "      <td>Eye poke</td>\n",
       "      <td>[eye, poke, eye, jab, eye, stab, eye, strike, ...</td>\n",
       "      <td>None</td>\n",
       "    </tr>\n",
       "    <tr>\n",
       "      <th>336</th>\n",
       "      <td>Workplace violence</td>\n",
       "      <td>[workplace, violence, occupational, violence, ...</td>\n",
       "      <td>None</td>\n",
       "    </tr>\n",
       "    <tr>\n",
       "      <th>337</th>\n",
       "      <td>3-Methylfentanyl</td>\n",
       "      <td>[3-methylfentanyl, opioid, analgesic, analog, ...</td>\n",
       "      <td>None</td>\n",
       "    </tr>\n",
       "    <tr>\n",
       "      <th>342</th>\n",
       "      <td>Carnography</td>\n",
       "      <td>[carnography, refer, excessive, extended, scen...</td>\n",
       "      <td>None</td>\n",
       "    </tr>\n",
       "  </tbody>\n",
       "</table>\n",
       "<p>173 rows × 3 columns</p>\n",
       "</div>"
      ],
      "text/plain": [
       "                                  article_en  \\\n",
       "0    Al-Qaeda involvement in the Middle East   \n",
       "1                          Cycle of violence   \n",
       "2                         Operation Fishbowl   \n",
       "5                               Tehran Eight   \n",
       "7                     Use of force continuum   \n",
       "..                                       ...   \n",
       "330                    Irish Republican Army   \n",
       "333                                 Eye poke   \n",
       "336                       Workplace violence   \n",
       "337                         3-Methylfentanyl   \n",
       "342                              Carnography   \n",
       "\n",
       "                                            summary_en  \\\n",
       "0    [believe, member, al, qaeda, hide, border, afg...   \n",
       "1    [term, cycle, violence, refer, repeated, dange...   \n",
       "2    [operation, fishbowl, series, high, altitude, ...   \n",
       "5    [tehran, political, union, shi'a, afghan, muja...   \n",
       "7    [use, force, continuum, standard, provide, law...   \n",
       "..                                                 ...   \n",
       "330  [irish, republican, army, paramilitary, organi...   \n",
       "333  [eye, poke, eye, jab, eye, stab, eye, strike, ...   \n",
       "336  [workplace, violence, occupational, violence, ...   \n",
       "337  [3-methylfentanyl, opioid, analgesic, analog, ...   \n",
       "342  [carnography, refer, excessive, extended, scen...   \n",
       "\n",
       "                                       article_de  \n",
       "0                                            None  \n",
       "1                                            None  \n",
       "2                                            None  \n",
       "5                                            None  \n",
       "7                                            None  \n",
       "..                                            ...  \n",
       "330  Geschichte der Irisch-Republikanischen Armee  \n",
       "333                                          None  \n",
       "336                                          None  \n",
       "337                                          None  \n",
       "342                                          None  \n",
       "\n",
       "[173 rows x 3 columns]"
      ]
     },
     "execution_count": 390,
     "metadata": {},
     "output_type": "execute_result"
    }
   ],
   "source": [
    "treated_subjects"
   ]
  },
  {
   "cell_type": "code",
   "execution_count": 391,
   "metadata": {},
   "outputs": [],
   "source": [
    "def load_words_to_id(language):\n",
    "    language_to_embeddings_path = {'en': os.path.join(os.getcwd(), 'wiki.multi.en.vec'),\n",
    "                                   'de': os.path.join(os.getcwd(), 'wiki.multi.de.vec')}\n",
    "    path = language_to_embeddings_path[language]\n",
    "    vectors = []\n",
    "    word2id = {}\n",
    "    nmax = 50000\n",
    "    with open(path, 'r', encoding='utf-8', newline='\\n', errors='ignore') as f:\n",
    "        next(f)\n",
    "        for i, line in enumerate(f):\n",
    "            word, vect = line.rstrip().split(' ', 1)\n",
    "            vect = np.fromstring(vect, sep=' ')\n",
    "            assert word not in word2id, 'word found twice'\n",
    "            vectors.append(vect)\n",
    "            word2id[word] = len(word2id)\n",
    "            if len(word2id) == nmax:\n",
    "                break\n",
    "    embeddings = np.vstack(vectors)\n",
    "    return embeddings, word2id"
   ]
  },
  {
   "cell_type": "code",
   "execution_count": 392,
   "metadata": {},
   "outputs": [],
   "source": [
    "def encode_tokens(tokens, word2id, embeddings):\n",
    "    num_words = 0\n",
    "    embedding = np.zeros(embeddings.shape[1], dtype='float')\n",
    "    for token in tokens:\n",
    "        if token in word2id.keys():\n",
    "            num_words += 1\n",
    "            embedding += embeddings[word2id[token]]\n",
    "\n",
    "    if num_words:\n",
    "        return (1.0 / num_words) * embedding\n",
    "    else: \n",
    "        return None"
   ]
  },
  {
   "cell_type": "code",
   "execution_count": 393,
   "metadata": {},
   "outputs": [],
   "source": [
    "embeddings_en, word2id_en = load_words_to_id('en')\n",
    "embeddings_de, word2id_de = load_words_to_id('de')"
   ]
  },
  {
   "cell_type": "code",
   "execution_count": 394,
   "metadata": {},
   "outputs": [
    {
     "name": "stderr",
     "output_type": "stream",
     "text": [
      "<ipython-input-394-fe3dbecfed64>:1: SettingWithCopyWarning: \n",
      "A value is trying to be set on a copy of a slice from a DataFrame.\n",
      "Try using .loc[row_indexer,col_indexer] = value instead\n",
      "\n",
      "See the caveats in the documentation: https://pandas.pydata.org/pandas-docs/stable/user_guide/indexing.html#returning-a-view-versus-a-copy\n",
      "  treated_subjects ['embedding'] = treated_subjects['summary_en'].apply(lambda tokens: encode_tokens(tokens, word2id_en, embeddings_en)).dropna()\n"
     ]
    }
   ],
   "source": [
    "treated_subjects ['embedding'] = treated_subjects['summary_en'].apply(lambda tokens: encode_tokens(tokens, word2id_en, embeddings_en)).dropna()\n",
    "untreated_subjects ['embedding'] = untreated_subjects['summary_de'].apply(lambda tokens: encode_tokens(tokens, word2id_de, embeddings_de)).dropna()"
   ]
  },
  {
   "cell_type": "code",
   "execution_count": 395,
   "metadata": {},
   "outputs": [
    {
     "data": {
      "text/html": [
       "<div>\n",
       "<style scoped>\n",
       "    .dataframe tbody tr th:only-of-type {\n",
       "        vertical-align: middle;\n",
       "    }\n",
       "\n",
       "    .dataframe tbody tr th {\n",
       "        vertical-align: top;\n",
       "    }\n",
       "\n",
       "    .dataframe thead th {\n",
       "        text-align: right;\n",
       "    }\n",
       "</style>\n",
       "<table border=\"1\" class=\"dataframe\">\n",
       "  <thead>\n",
       "    <tr style=\"text-align: right;\">\n",
       "      <th></th>\n",
       "      <th>article_en</th>\n",
       "      <th>summary_en</th>\n",
       "      <th>article_de</th>\n",
       "      <th>embedding</th>\n",
       "    </tr>\n",
       "  </thead>\n",
       "  <tbody>\n",
       "    <tr>\n",
       "      <th>0</th>\n",
       "      <td>Al-Qaeda involvement in the Middle East</td>\n",
       "      <td>[believe, member, al, qaeda, hide, border, afg...</td>\n",
       "      <td>None</td>\n",
       "      <td>[-0.03234914607142857, -0.09094895714285714, -...</td>\n",
       "    </tr>\n",
       "    <tr>\n",
       "      <th>1</th>\n",
       "      <td>Cycle of violence</td>\n",
       "      <td>[term, cycle, violence, refer, repeated, dange...</td>\n",
       "      <td>None</td>\n",
       "      <td>[-0.018719601395348836, -0.010942476511627903,...</td>\n",
       "    </tr>\n",
       "    <tr>\n",
       "      <th>2</th>\n",
       "      <td>Operation Fishbowl</td>\n",
       "      <td>[operation, fishbowl, series, high, altitude, ...</td>\n",
       "      <td>None</td>\n",
       "      <td>[-0.023806424761904765, -0.007329539047619047,...</td>\n",
       "    </tr>\n",
       "    <tr>\n",
       "      <th>5</th>\n",
       "      <td>Tehran Eight</td>\n",
       "      <td>[tehran, political, union, shi'a, afghan, muja...</td>\n",
       "      <td>None</td>\n",
       "      <td>[-0.022565919615384615, -0.047088282692307686,...</td>\n",
       "    </tr>\n",
       "    <tr>\n",
       "      <th>7</th>\n",
       "      <td>Use of force continuum</td>\n",
       "      <td>[use, force, continuum, standard, provide, law...</td>\n",
       "      <td>None</td>\n",
       "      <td>[-0.01812446520121952, -0.003647290792682925, ...</td>\n",
       "    </tr>\n",
       "    <tr>\n",
       "      <th>...</th>\n",
       "      <td>...</td>\n",
       "      <td>...</td>\n",
       "      <td>...</td>\n",
       "      <td>...</td>\n",
       "    </tr>\n",
       "    <tr>\n",
       "      <th>330</th>\n",
       "      <td>Irish Republican Army</td>\n",
       "      <td>[irish, republican, army, paramilitary, organi...</td>\n",
       "      <td>Geschichte der Irisch-Republikanischen Armee</td>\n",
       "      <td>[-0.030475807076411954, -0.019536336378737543,...</td>\n",
       "    </tr>\n",
       "    <tr>\n",
       "      <th>333</th>\n",
       "      <td>Eye poke</td>\n",
       "      <td>[eye, poke, eye, jab, eye, stab, eye, strike, ...</td>\n",
       "      <td>None</td>\n",
       "      <td>[-0.020983896977777777, 0.004376284000000001, ...</td>\n",
       "    </tr>\n",
       "    <tr>\n",
       "      <th>336</th>\n",
       "      <td>Workplace violence</td>\n",
       "      <td>[workplace, violence, occupational, violence, ...</td>\n",
       "      <td>None</td>\n",
       "      <td>[-0.019120897441176468, 0.00016807794117647124...</td>\n",
       "    </tr>\n",
       "    <tr>\n",
       "      <th>337</th>\n",
       "      <td>3-Methylfentanyl</td>\n",
       "      <td>[3-methylfentanyl, opioid, analgesic, analog, ...</td>\n",
       "      <td>None</td>\n",
       "      <td>[0.0006065700000000023, -0.013524340818181817,...</td>\n",
       "    </tr>\n",
       "    <tr>\n",
       "      <th>342</th>\n",
       "      <td>Carnography</td>\n",
       "      <td>[carnography, refer, excessive, extended, scen...</td>\n",
       "      <td>None</td>\n",
       "      <td>[-0.012762326352000001, -0.011249499866666669,...</td>\n",
       "    </tr>\n",
       "  </tbody>\n",
       "</table>\n",
       "<p>173 rows × 4 columns</p>\n",
       "</div>"
      ],
      "text/plain": [
       "                                  article_en  \\\n",
       "0    Al-Qaeda involvement in the Middle East   \n",
       "1                          Cycle of violence   \n",
       "2                         Operation Fishbowl   \n",
       "5                               Tehran Eight   \n",
       "7                     Use of force continuum   \n",
       "..                                       ...   \n",
       "330                    Irish Republican Army   \n",
       "333                                 Eye poke   \n",
       "336                       Workplace violence   \n",
       "337                         3-Methylfentanyl   \n",
       "342                              Carnography   \n",
       "\n",
       "                                            summary_en  \\\n",
       "0    [believe, member, al, qaeda, hide, border, afg...   \n",
       "1    [term, cycle, violence, refer, repeated, dange...   \n",
       "2    [operation, fishbowl, series, high, altitude, ...   \n",
       "5    [tehran, political, union, shi'a, afghan, muja...   \n",
       "7    [use, force, continuum, standard, provide, law...   \n",
       "..                                                 ...   \n",
       "330  [irish, republican, army, paramilitary, organi...   \n",
       "333  [eye, poke, eye, jab, eye, stab, eye, strike, ...   \n",
       "336  [workplace, violence, occupational, violence, ...   \n",
       "337  [3-methylfentanyl, opioid, analgesic, analog, ...   \n",
       "342  [carnography, refer, excessive, extended, scen...   \n",
       "\n",
       "                                       article_de  \\\n",
       "0                                            None   \n",
       "1                                            None   \n",
       "2                                            None   \n",
       "5                                            None   \n",
       "7                                            None   \n",
       "..                                            ...   \n",
       "330  Geschichte der Irisch-Republikanischen Armee   \n",
       "333                                          None   \n",
       "336                                          None   \n",
       "337                                          None   \n",
       "342                                          None   \n",
       "\n",
       "                                             embedding  \n",
       "0    [-0.03234914607142857, -0.09094895714285714, -...  \n",
       "1    [-0.018719601395348836, -0.010942476511627903,...  \n",
       "2    [-0.023806424761904765, -0.007329539047619047,...  \n",
       "5    [-0.022565919615384615, -0.047088282692307686,...  \n",
       "7    [-0.01812446520121952, -0.003647290792682925, ...  \n",
       "..                                                 ...  \n",
       "330  [-0.030475807076411954, -0.019536336378737543,...  \n",
       "333  [-0.020983896977777777, 0.004376284000000001, ...  \n",
       "336  [-0.019120897441176468, 0.00016807794117647124...  \n",
       "337  [0.0006065700000000023, -0.013524340818181817,...  \n",
       "342  [-0.012762326352000001, -0.011249499866666669,...  \n",
       "\n",
       "[173 rows x 4 columns]"
      ]
     },
     "execution_count": 395,
     "metadata": {},
     "output_type": "execute_result"
    }
   ],
   "source": [
    "treated_subjects"
   ]
  },
  {
   "cell_type": "code",
   "execution_count": 396,
   "metadata": {},
   "outputs": [
    {
     "data": {
      "text/html": [
       "<div>\n",
       "<style scoped>\n",
       "    .dataframe tbody tr th:only-of-type {\n",
       "        vertical-align: middle;\n",
       "    }\n",
       "\n",
       "    .dataframe tbody tr th {\n",
       "        vertical-align: top;\n",
       "    }\n",
       "\n",
       "    .dataframe thead th {\n",
       "        text-align: right;\n",
       "    }\n",
       "</style>\n",
       "<table border=\"1\" class=\"dataframe\">\n",
       "  <thead>\n",
       "    <tr style=\"text-align: right;\">\n",
       "      <th></th>\n",
       "      <th>article_de</th>\n",
       "      <th>summary_de</th>\n",
       "      <th>embedding</th>\n",
       "    </tr>\n",
       "  </thead>\n",
       "  <tbody>\n",
       "    <tr>\n",
       "      <th>343</th>\n",
       "      <td>Revolutionäre Zellen (Deutschland)</td>\n",
       "      <td>[revolutionäre, zelle, linksextremistische, te...</td>\n",
       "      <td>[-0.01110966523333333, -0.023824544000000003, ...</td>\n",
       "    </tr>\n",
       "    <tr>\n",
       "      <th>344</th>\n",
       "      <td>Chalid Maschal</td>\n",
       "      <td>[chalid, maschal, politisch, führer, terrorist...</td>\n",
       "      <td>[-0.011817033333333333, -0.10026096666666665, ...</td>\n",
       "    </tr>\n",
       "    <tr>\n",
       "      <th>345</th>\n",
       "      <td>Stabbrandbombe</td>\n",
       "      <td>[stabbrandbombe, brandstab, elektron-thermitst...</td>\n",
       "      <td>[-0.008376395409090912, -0.007429548599999997,...</td>\n",
       "    </tr>\n",
       "    <tr>\n",
       "      <th>346</th>\n",
       "      <td>Flugzeugentführung</td>\n",
       "      <td>[flugzeugentführung, übernahme, bordgewalt, fl...</td>\n",
       "      <td>[-0.012249028309523811, -0.034362487619047616,...</td>\n",
       "    </tr>\n",
       "    <tr>\n",
       "      <th>347</th>\n",
       "      <td>BLU-109</td>\n",
       "      <td>[blu-109, gehärtet, penetrationsgefechtskopf, ...</td>\n",
       "      <td>[9.002124999999903e-05, -0.013480476875, -0.04...</td>\n",
       "    </tr>\n",
       "  </tbody>\n",
       "</table>\n",
       "</div>"
      ],
      "text/plain": [
       "                             article_de  \\\n",
       "343  Revolutionäre Zellen (Deutschland)   \n",
       "344                      Chalid Maschal   \n",
       "345                      Stabbrandbombe   \n",
       "346                  Flugzeugentführung   \n",
       "347                             BLU-109   \n",
       "\n",
       "                                            summary_de  \\\n",
       "343  [revolutionäre, zelle, linksextremistische, te...   \n",
       "344  [chalid, maschal, politisch, führer, terrorist...   \n",
       "345  [stabbrandbombe, brandstab, elektron-thermitst...   \n",
       "346  [flugzeugentführung, übernahme, bordgewalt, fl...   \n",
       "347  [blu-109, gehärtet, penetrationsgefechtskopf, ...   \n",
       "\n",
       "                                             embedding  \n",
       "343  [-0.01110966523333333, -0.023824544000000003, ...  \n",
       "344  [-0.011817033333333333, -0.10026096666666665, ...  \n",
       "345  [-0.008376395409090912, -0.007429548599999997,...  \n",
       "346  [-0.012249028309523811, -0.034362487619047616,...  \n",
       "347  [9.002124999999903e-05, -0.013480476875, -0.04...  "
      ]
     },
     "execution_count": 396,
     "metadata": {},
     "output_type": "execute_result"
    }
   ],
   "source": [
    "untreated_subjects.head()"
   ]
  },
  {
   "cell_type": "code",
   "execution_count": 397,
   "metadata": {},
   "outputs": [],
   "source": [
    "# Drop null embedding articles\n",
    "untreated_subjects = untreated_subjects.loc[~untreated_subjects['embedding'].isnull()]\n",
    "treated_subjects = treated_subjects.loc[~treated_subjects['embedding'].isnull()]"
   ]
  },
  {
   "cell_type": "code",
   "execution_count": 398,
   "metadata": {},
   "outputs": [],
   "source": [
    "embedding_array_treated = np.array([x for x in treated_subjects['embedding']])\n",
    "embedding_array_untreated = np.array([x for x in untreated_subjects['embedding']])"
   ]
  },
  {
   "cell_type": "code",
   "execution_count": 399,
   "metadata": {},
   "outputs": [
    {
     "name": "stdout",
     "output_type": "stream",
     "text": [
      "(240, 300)\n",
      "(173, 300)\n"
     ]
    }
   ],
   "source": [
    "print(embedding_array_untreated.shape)\n",
    "print(embedding_array_treated.shape)"
   ]
  },
  {
   "cell_type": "code",
   "execution_count": 400,
   "metadata": {},
   "outputs": [
    {
     "name": "stdout",
     "output_type": "stream",
     "text": [
      "(173, 240)\n"
     ]
    }
   ],
   "source": [
    "cos_similarities = cosine_similarity(embedding_array_treated, embedding_array_untreated)\n",
    "print(cos_similarities.shape)"
   ]
  },
  {
   "cell_type": "code",
   "execution_count": 401,
   "metadata": {},
   "outputs": [],
   "source": [
    "Gx = nx.Graph()\n",
    "# indexes in similarity matrix\n",
    "index_treated_matrix = dict(zip(treated_subjects.index, range(len(treated_subjects))))\n",
    "index_untreated_matrix = dict(zip(untreated_subjects.index, range(len(untreated_subjects))))\n",
    "\n",
    "for treat_idx, treated in treated_subjects.iterrows():\n",
    "    for untreat_idx, untreated in untreated_subjects.iterrows():\n",
    "        similarity = cos_similarities[index_treated_matrix[treat_idx], index_untreated_matrix[untreat_idx]]\n",
    "        Gx.add_weighted_edges_from([(treat_idx, untreat_idx, similarity)])\n",
    "matching = nx.max_weight_matching(Gx, maxcardinality=True)        "
   ]
  },
  {
   "cell_type": "code",
   "execution_count": 402,
   "metadata": {},
   "outputs": [
    {
     "data": {
      "text/plain": [
       "{(0, 429),\n",
       " (1, 532),\n",
       " (2, 422),\n",
       " (9, 452),\n",
       " (12, 343),\n",
       " (14, 455),\n",
       " (16, 573),\n",
       " (17, 373),\n",
       " (19, 453),\n",
       " (20, 557),\n",
       " (24, 478),\n",
       " (27, 430),\n",
       " (32, 446),\n",
       " (33, 364),\n",
       " (51, 483),\n",
       " (52, 525),\n",
       " (57, 510),\n",
       " (58, 563),\n",
       " (65, 529),\n",
       " (66, 358),\n",
       " (67, 407),\n",
       " (69, 509),\n",
       " (73, 435),\n",
       " (76, 463),\n",
       " (86, 535),\n",
       " (88, 565),\n",
       " (90, 383),\n",
       " (94, 527),\n",
       " (95, 551),\n",
       " (99, 443),\n",
       " (104, 421),\n",
       " (115, 365),\n",
       " (118, 390),\n",
       " (122, 533),\n",
       " (125, 349),\n",
       " (126, 583),\n",
       " (129, 495),\n",
       " (132, 566),\n",
       " (134, 526),\n",
       " (138, 534),\n",
       " (147, 438),\n",
       " (148, 382),\n",
       " (152, 412),\n",
       " (153, 410),\n",
       " (161, 389),\n",
       " (170, 490),\n",
       " (171, 396),\n",
       " (185, 362),\n",
       " (196, 469),\n",
       " (200, 511),\n",
       " (201, 381),\n",
       " (212, 454),\n",
       " (217, 501),\n",
       " (218, 556),\n",
       " (222, 487),\n",
       " (224, 350),\n",
       " (225, 378),\n",
       " (226, 575),\n",
       " (232, 508),\n",
       " (233, 580),\n",
       " (249, 537),\n",
       " (250, 395),\n",
       " (258, 404),\n",
       " (264, 440),\n",
       " (266, 387),\n",
       " (268, 519),\n",
       " (269, 543),\n",
       " (273, 492),\n",
       " (275, 380),\n",
       " (280, 444),\n",
       " (283, 451),\n",
       " (285, 479),\n",
       " (289, 450),\n",
       " (291, 459),\n",
       " (293, 582),\n",
       " (297, 370),\n",
       " (298, 431),\n",
       " (299, 486),\n",
       " (300, 574),\n",
       " (304, 555),\n",
       " (312, 477),\n",
       " (321, 379),\n",
       " (322, 558),\n",
       " (325, 550),\n",
       " (328, 547),\n",
       " (330, 541),\n",
       " (336, 399),\n",
       " (337, 458),\n",
       " (346, 306),\n",
       " (348, 223),\n",
       " (353, 251),\n",
       " (355, 11),\n",
       " (360, 308),\n",
       " (363, 221),\n",
       " (366, 103),\n",
       " (369, 131),\n",
       " (372, 276),\n",
       " (376, 167),\n",
       " (377, 295),\n",
       " (384, 253),\n",
       " (385, 98),\n",
       " (386, 23),\n",
       " (388, 303),\n",
       " (393, 326),\n",
       " (394, 235),\n",
       " (397, 143),\n",
       " (400, 186),\n",
       " (401, 247),\n",
       " (402, 101),\n",
       " (408, 123),\n",
       " (409, 18),\n",
       " (411, 261),\n",
       " (413, 263),\n",
       " (414, 151),\n",
       " (417, 7),\n",
       " (419, 219),\n",
       " (424, 8),\n",
       " (425, 314),\n",
       " (426, 310),\n",
       " (434, 34),\n",
       " (436, 5),\n",
       " (441, 78),\n",
       " (448, 75),\n",
       " (456, 197),\n",
       " (457, 177),\n",
       " (460, 319),\n",
       " (461, 238),\n",
       " (465, 38),\n",
       " (466, 74),\n",
       " (467, 141),\n",
       " (468, 53),\n",
       " (472, 135),\n",
       " (474, 102),\n",
       " (480, 160),\n",
       " (481, 158),\n",
       " (484, 87),\n",
       " (488, 55),\n",
       " (491, 230),\n",
       " (494, 262),\n",
       " (496, 105),\n",
       " (497, 333),\n",
       " (498, 100),\n",
       " (505, 28),\n",
       " (506, 30),\n",
       " (507, 189),\n",
       " (512, 173),\n",
       " (513, 220),\n",
       " (514, 236),\n",
       " (518, 271),\n",
       " (521, 82),\n",
       " (522, 243),\n",
       " (523, 107),\n",
       " (524, 117),\n",
       " (530, 111),\n",
       " (531, 91),\n",
       " (536, 156),\n",
       " (538, 294),\n",
       " (539, 127),\n",
       " (540, 205),\n",
       " (544, 149),\n",
       " (545, 315),\n",
       " (549, 342),\n",
       " (553, 70),\n",
       " (561, 13),\n",
       " (562, 237),\n",
       " (564, 166),\n",
       " (567, 159),\n",
       " (568, 215),\n",
       " (576, 296),\n",
       " (577, 169),\n",
       " (578, 31),\n",
       " (579, 311),\n",
       " (581, 15)}"
      ]
     },
     "execution_count": 402,
     "metadata": {},
     "output_type": "execute_result"
    }
   ],
   "source": [
    "matching"
   ]
  },
  {
   "cell_type": "code",
   "execution_count": 403,
   "metadata": {},
   "outputs": [],
   "source": [
    "# This method returns the indexes corresponding to the treated and the untreated rows respectively, after the matching\n",
    "def get_treated_untreated_indexes (matching, treated_index):\n",
    "    treated = []\n",
    "    untreated = []\n",
    "    for left, right in matching:\n",
    "        if left in treated_index:\n",
    "            treated.append(left)\n",
    "            untreated.append(right)       \n",
    "        else:\n",
    "            treated.append(right)\n",
    "            untreated.append(left) \n",
    "        \n",
    "    return treated, untreated"
   ]
  },
  {
   "cell_type": "code",
   "execution_count": 404,
   "metadata": {},
   "outputs": [],
   "source": [
    "en_article_indexes, de_article_indexes = get_treated_untreated_indexes(matching, treated_subjects.index)"
   ]
  },
  {
   "cell_type": "code",
   "execution_count": 405,
   "metadata": {},
   "outputs": [],
   "source": [
    "testing_en = treated_subjects.loc[en_article_indexes]\n",
    "testing_de = untreated_subjects.loc[de_article_indexes]"
   ]
  },
  {
   "cell_type": "code",
   "execution_count": 406,
   "metadata": {},
   "outputs": [
    {
     "data": {
      "text/html": [
       "<div>\n",
       "<style scoped>\n",
       "    .dataframe tbody tr th:only-of-type {\n",
       "        vertical-align: middle;\n",
       "    }\n",
       "\n",
       "    .dataframe tbody tr th {\n",
       "        vertical-align: top;\n",
       "    }\n",
       "\n",
       "    .dataframe thead th {\n",
       "        text-align: right;\n",
       "    }\n",
       "</style>\n",
       "<table border=\"1\" class=\"dataframe\">\n",
       "  <thead>\n",
       "    <tr style=\"text-align: right;\">\n",
       "      <th></th>\n",
       "      <th>article_en</th>\n",
       "      <th>summary_en</th>\n",
       "      <th>article_de</th>\n",
       "      <th>embedding</th>\n",
       "    </tr>\n",
       "  </thead>\n",
       "  <tbody>\n",
       "    <tr>\n",
       "      <th>73</th>\n",
       "      <td>Global Initiative to Combat Nuclear Terrorism</td>\n",
       "      <td>[global, initiative, combat, nuclear, terroris...</td>\n",
       "      <td>None</td>\n",
       "      <td>[-0.0335519173076923, -0.007009797249999999, -...</td>\n",
       "    </tr>\n",
       "    <tr>\n",
       "      <th>107</th>\n",
       "      <td>White Terror (Spain)</td>\n",
       "      <td>[history, spain, white, terror, describe, poli...</td>\n",
       "      <td>None</td>\n",
       "      <td>[-0.025849935898437502, -0.01856914636718751, ...</td>\n",
       "    </tr>\n",
       "    <tr>\n",
       "      <th>266</th>\n",
       "      <td>CONVIVIR</td>\n",
       "      <td>[convivir, national, program, cooperative, nei...</td>\n",
       "      <td>None</td>\n",
       "      <td>[-0.02949168340350878, -0.02466571246198831, -...</td>\n",
       "    </tr>\n",
       "    <tr>\n",
       "      <th>135</th>\n",
       "      <td>Batallón Vasco Español</td>\n",
       "      <td>[batallón, vasco, español, assosiate, alianza,...</td>\n",
       "      <td>None</td>\n",
       "      <td>[-0.024689265000000002, -0.015710599705882355,...</td>\n",
       "    </tr>\n",
       "    <tr>\n",
       "      <th>217</th>\n",
       "      <td>Allegations of support system in Pakistan for ...</td>\n",
       "      <td>[allegation, support, system, pakistan, osama,...</td>\n",
       "      <td>None</td>\n",
       "      <td>[-0.01674703012337663, -0.04789754067532471, -...</td>\n",
       "    </tr>\n",
       "    <tr>\n",
       "      <th>...</th>\n",
       "      <td>...</td>\n",
       "      <td>...</td>\n",
       "      <td>...</td>\n",
       "      <td>...</td>\n",
       "    </tr>\n",
       "    <tr>\n",
       "      <th>232</th>\n",
       "      <td>Flour bomb</td>\n",
       "      <td>[flour, bomb, fragile, container, fill, flour,...</td>\n",
       "      <td>None</td>\n",
       "      <td>[-0.014193749629629628, -0.01684403074074074, ...</td>\n",
       "    </tr>\n",
       "    <tr>\n",
       "      <th>53</th>\n",
       "      <td>FBI Most Wanted Terrorists</td>\n",
       "      <td>[fbi, wanted, terrorists, list, create, releas...</td>\n",
       "      <td>None</td>\n",
       "      <td>[-0.013005749999999998, -0.04106605, -0.007166...</td>\n",
       "    </tr>\n",
       "    <tr>\n",
       "      <th>289</th>\n",
       "      <td>Lewes bomb</td>\n",
       "      <td>[lewes, bomb, blast, incendiary, field, expedi...</td>\n",
       "      <td>None</td>\n",
       "      <td>[-0.017311937162561585, -0.015186376881773399,...</td>\n",
       "    </tr>\n",
       "    <tr>\n",
       "      <th>15</th>\n",
       "      <td>Abdul Madzhid (Dagestan rebel)</td>\n",
       "      <td>[ilgar, mollachiev, well, know, emir, abdul, m...</td>\n",
       "      <td>None</td>\n",
       "      <td>[-0.03440810259259259, -0.04114945333333333, -...</td>\n",
       "    </tr>\n",
       "    <tr>\n",
       "      <th>38</th>\n",
       "      <td>Killology</td>\n",
       "      <td>[killology, term, invent, law, enforcement, tr...</td>\n",
       "      <td>None</td>\n",
       "      <td>[-0.009202353333333331, -0.019298538233333332,...</td>\n",
       "    </tr>\n",
       "  </tbody>\n",
       "</table>\n",
       "<p>173 rows × 4 columns</p>\n",
       "</div>"
      ],
      "text/plain": [
       "                                            article_en  \\\n",
       "73       Global Initiative to Combat Nuclear Terrorism   \n",
       "107                               White Terror (Spain)   \n",
       "266                                           CONVIVIR   \n",
       "135                             Batallón Vasco Español   \n",
       "217  Allegations of support system in Pakistan for ...   \n",
       "..                                                 ...   \n",
       "232                                         Flour bomb   \n",
       "53                          FBI Most Wanted Terrorists   \n",
       "289                                         Lewes bomb   \n",
       "15                      Abdul Madzhid (Dagestan rebel)   \n",
       "38                                           Killology   \n",
       "\n",
       "                                            summary_en article_de  \\\n",
       "73   [global, initiative, combat, nuclear, terroris...       None   \n",
       "107  [history, spain, white, terror, describe, poli...       None   \n",
       "266  [convivir, national, program, cooperative, nei...       None   \n",
       "135  [batallón, vasco, español, assosiate, alianza,...       None   \n",
       "217  [allegation, support, system, pakistan, osama,...       None   \n",
       "..                                                 ...        ...   \n",
       "232  [flour, bomb, fragile, container, fill, flour,...       None   \n",
       "53   [fbi, wanted, terrorists, list, create, releas...       None   \n",
       "289  [lewes, bomb, blast, incendiary, field, expedi...       None   \n",
       "15   [ilgar, mollachiev, well, know, emir, abdul, m...       None   \n",
       "38   [killology, term, invent, law, enforcement, tr...       None   \n",
       "\n",
       "                                             embedding  \n",
       "73   [-0.0335519173076923, -0.007009797249999999, -...  \n",
       "107  [-0.025849935898437502, -0.01856914636718751, ...  \n",
       "266  [-0.02949168340350878, -0.02466571246198831, -...  \n",
       "135  [-0.024689265000000002, -0.015710599705882355,...  \n",
       "217  [-0.01674703012337663, -0.04789754067532471, -...  \n",
       "..                                                 ...  \n",
       "232  [-0.014193749629629628, -0.01684403074074074, ...  \n",
       "53   [-0.013005749999999998, -0.04106605, -0.007166...  \n",
       "289  [-0.017311937162561585, -0.015186376881773399,...  \n",
       "15   [-0.03440810259259259, -0.04114945333333333, -...  \n",
       "38   [-0.009202353333333331, -0.019298538233333332,...  \n",
       "\n",
       "[173 rows x 4 columns]"
      ]
     },
     "execution_count": 406,
     "metadata": {},
     "output_type": "execute_result"
    }
   ],
   "source": [
    "testing_en"
   ]
  },
  {
   "cell_type": "code",
   "execution_count": 407,
   "metadata": {},
   "outputs": [
    {
     "data": {
      "text/html": [
       "<div>\n",
       "<style scoped>\n",
       "    .dataframe tbody tr th:only-of-type {\n",
       "        vertical-align: middle;\n",
       "    }\n",
       "\n",
       "    .dataframe tbody tr th {\n",
       "        vertical-align: top;\n",
       "    }\n",
       "\n",
       "    .dataframe thead th {\n",
       "        text-align: right;\n",
       "    }\n",
       "</style>\n",
       "<table border=\"1\" class=\"dataframe\">\n",
       "  <thead>\n",
       "    <tr style=\"text-align: right;\">\n",
       "      <th></th>\n",
       "      <th>article_de</th>\n",
       "      <th>summary_de</th>\n",
       "      <th>embedding</th>\n",
       "    </tr>\n",
       "  </thead>\n",
       "  <tbody>\n",
       "    <tr>\n",
       "      <th>435</th>\n",
       "      <td>Mahnwachen für den Frieden</td>\n",
       "      <td>[mahnwache, friede, kundgebung, bezeichnen, 17...</td>\n",
       "      <td>[-0.02316603333333333, -0.024949533571428557, ...</td>\n",
       "    </tr>\n",
       "    <tr>\n",
       "      <th>523</th>\n",
       "      <td>Insurrektion</td>\n",
       "      <td>[insurrektion, insurrektionskrieg, bewaffnet, ...</td>\n",
       "      <td>[-0.009221388566666667, -0.033593596190476194,...</td>\n",
       "    </tr>\n",
       "    <tr>\n",
       "      <th>387</th>\n",
       "      <td>Contra-Krieg</td>\n",
       "      <td>[contra-krieg, maßgeblich, unterstützung, vere...</td>\n",
       "      <td>[-0.024371698509259257, -0.03829562555555555, ...</td>\n",
       "    </tr>\n",
       "    <tr>\n",
       "      <th>472</th>\n",
       "      <td>Forza Nuova</td>\n",
       "      <td>[forza, nuova, rechtsextrem, politische, parte...</td>\n",
       "      <td>[-0.026128154751351353, -0.034535712562162146,...</td>\n",
       "    </tr>\n",
       "    <tr>\n",
       "      <th>501</th>\n",
       "      <td>Terroranschläge am 11. September 2001</td>\n",
       "      <td>[terroranschläge, 11., september, koordinieren...</td>\n",
       "      <td>[-0.02965495010526315, -0.04681164399999999, -...</td>\n",
       "    </tr>\n",
       "    <tr>\n",
       "      <th>...</th>\n",
       "      <td>...</td>\n",
       "      <td>...</td>\n",
       "      <td>...</td>\n",
       "    </tr>\n",
       "    <tr>\n",
       "      <th>508</th>\n",
       "      <td>Wasserbombe (Kampfmittel)</td>\n",
       "      <td>[wasserbombe, unterwasserwaffe, vernichtung, s...</td>\n",
       "      <td>[-0.025008763636363635, -0.0005649763636363633...</td>\n",
       "    </tr>\n",
       "    <tr>\n",
       "      <th>468</th>\n",
       "      <td>Bundesentschädigungsgesetz</td>\n",
       "      <td>[bundesgesetz, entschädigung, opfer, nationals...</td>\n",
       "      <td>[-0.029015340956730765, -0.01754175490096154, ...</td>\n",
       "    </tr>\n",
       "    <tr>\n",
       "      <th>450</th>\n",
       "      <td>Fledermausbombe</td>\n",
       "      <td>[vereinigte, staat, weltkriegs, ernsthaft, ant...</td>\n",
       "      <td>[-0.01827487857142857, -0.02581443666666667, -...</td>\n",
       "    </tr>\n",
       "    <tr>\n",
       "      <th>581</th>\n",
       "      <td>Ustascha</td>\n",
       "      <td>[ustascha, ante, pavelić, königreich, italien,...</td>\n",
       "      <td>[-0.029383639224999984, -0.03085397617499999, ...</td>\n",
       "    </tr>\n",
       "    <tr>\n",
       "      <th>465</th>\n",
       "      <td>Rollbombe</td>\n",
       "      <td>[rollbombe, insbesondere, weltkrieg, einsetzen...</td>\n",
       "      <td>[-0.027513016363636365, -0.04138489, -0.030246...</td>\n",
       "    </tr>\n",
       "  </tbody>\n",
       "</table>\n",
       "<p>173 rows × 3 columns</p>\n",
       "</div>"
      ],
      "text/plain": [
       "                                article_de  \\\n",
       "435             Mahnwachen für den Frieden   \n",
       "523                           Insurrektion   \n",
       "387                           Contra-Krieg   \n",
       "472                            Forza Nuova   \n",
       "501  Terroranschläge am 11. September 2001   \n",
       "..                                     ...   \n",
       "508              Wasserbombe (Kampfmittel)   \n",
       "468             Bundesentschädigungsgesetz   \n",
       "450                        Fledermausbombe   \n",
       "581                               Ustascha   \n",
       "465                              Rollbombe   \n",
       "\n",
       "                                            summary_de  \\\n",
       "435  [mahnwache, friede, kundgebung, bezeichnen, 17...   \n",
       "523  [insurrektion, insurrektionskrieg, bewaffnet, ...   \n",
       "387  [contra-krieg, maßgeblich, unterstützung, vere...   \n",
       "472  [forza, nuova, rechtsextrem, politische, parte...   \n",
       "501  [terroranschläge, 11., september, koordinieren...   \n",
       "..                                                 ...   \n",
       "508  [wasserbombe, unterwasserwaffe, vernichtung, s...   \n",
       "468  [bundesgesetz, entschädigung, opfer, nationals...   \n",
       "450  [vereinigte, staat, weltkriegs, ernsthaft, ant...   \n",
       "581  [ustascha, ante, pavelić, königreich, italien,...   \n",
       "465  [rollbombe, insbesondere, weltkrieg, einsetzen...   \n",
       "\n",
       "                                             embedding  \n",
       "435  [-0.02316603333333333, -0.024949533571428557, ...  \n",
       "523  [-0.009221388566666667, -0.033593596190476194,...  \n",
       "387  [-0.024371698509259257, -0.03829562555555555, ...  \n",
       "472  [-0.026128154751351353, -0.034535712562162146,...  \n",
       "501  [-0.02965495010526315, -0.04681164399999999, -...  \n",
       "..                                                 ...  \n",
       "508  [-0.025008763636363635, -0.0005649763636363633...  \n",
       "468  [-0.029015340956730765, -0.01754175490096154, ...  \n",
       "450  [-0.01827487857142857, -0.02581443666666667, -...  \n",
       "581  [-0.029383639224999984, -0.03085397617499999, ...  \n",
       "465  [-0.027513016363636365, -0.04138489, -0.030246...  \n",
       "\n",
       "[173 rows x 3 columns]"
      ]
     },
     "execution_count": 407,
     "metadata": {},
     "output_type": "execute_result"
    }
   ],
   "source": [
    "testing_de"
   ]
  },
  {
   "cell_type": "code",
   "execution_count": 408,
   "metadata": {},
   "outputs": [],
   "source": [
    "# finally get the total treated and untreated subjects\n",
    "articles_with_ready_translation = summaries_en.loc[summaries_en.article_de.isin(pageviews_de.article),\n",
    "                                                   ['article_en', 'article_de']]\n",
    "articles_matched = pd.concat([testing_en['article_en'].reset_index(drop=True),\n",
    "                              testing_de['article_de'].reset_index(drop=True)], axis=1)\n",
    "final_matching = pd.concat([articles_with_ready_translation, articles_matched])"
   ]
  },
  {
   "cell_type": "code",
   "execution_count": 409,
   "metadata": {
    "scrolled": false
   },
   "outputs": [],
   "source": [
    "final_matching = final_matching.drop(40)"
   ]
  },
  {
   "cell_type": "code",
   "execution_count": 410,
   "metadata": {},
   "outputs": [],
   "source": [
    "def regression_groupby(df):\n",
    "    \n",
    "    reg_data = prepare_data_for_regression(df)\n",
    "    model = smf.ols(formula='pageviews ~ time + C(intervention) + post_slope ', data=reg_data).fit()\n",
    "    intervention = model.params[1]\n",
    "    pre_slope = model.params[2]\n",
    "    post_slope = model.params[3]\n",
    "    pvalue_intervention = model.pvalues[1]\n",
    "    pvalue_postslope = model.pvalues[3]\n",
    "         \n",
    "    return pd.DataFrame([[intervention, post_slope, pre_slope, pvalue_intervention, pvalue_postslope]],\n",
    "                       columns=['intervention','post_slope','pre_slope','pvalue_intervention','pvalue_postslope'])"
   ]
  },
  {
   "cell_type": "code",
   "execution_count": 411,
   "metadata": {},
   "outputs": [],
   "source": [
    "pageviews_en['pageviews'] = pageviews_en['pageviews'].astype(int)\n",
    "pageviews_de['pageviews'] = pageviews_de['pageviews'].astype(int)\n",
    "\n",
    "reg_per_article_en = pageviews_en.loc[pageviews_en.article.isin(final_matching.article_en) &\n",
    "                                      (pageviews_en.date <= '31-08-2014')].groupby('article')\\\n",
    "                                      .apply(regression_groupby).reset_index(level=1, drop=True)\n",
    "\n",
    "reg_per_article_de = pageviews_de.loc[pageviews_de.article.isin(final_matching.article_de) &\n",
    "                                      (pageviews_de.date <= '31-08-2014')].groupby('article')\\\n",
    "                                      .apply(regression_groupby).reset_index(level=1, drop=True)"
   ]
  },
  {
   "cell_type": "code",
   "execution_count": 420,
   "metadata": {},
   "outputs": [],
   "source": [
    "def is_chilled(article):\n",
    "    return (article.pvalue_intervention <= 0.05 and article.intervention < 0) or (article.pvalue_postslope <= 0.05 and (article.post_slope + article.pre_slope) < 0) \n",
    "\n",
    "chilled_en = reg_per_article_en.apply(is_chilled, axis=1).rename('chilled_en')\n",
    "chilled_de = reg_per_article_de.apply(is_chilled, axis=1).rename('chilled_de')"
   ]
  },
  {
   "cell_type": "code",
   "execution_count": 421,
   "metadata": {},
   "outputs": [],
   "source": [
    "final_matching_labeled = final_matching.merge(chilled_en, left_on='article_en', right_index=True, validate='1:1')\\\n",
    "                                       .merge(chilled_de, left_on='article_de', right_index=True, validate='1:1')"
   ]
  },
  {
   "cell_type": "code",
   "execution_count": 422,
   "metadata": {},
   "outputs": [],
   "source": [
    "def get_ate(labels_treated, labels_untreated):\n",
    "    ate = labels_treated.sum() - labels_untreated.sum()\n",
    "    return ate / len(labels_treated)"
   ]
  },
  {
   "cell_type": "code",
   "execution_count": 423,
   "metadata": {},
   "outputs": [
    {
     "data": {
      "text/plain": [
       "0.27844311377245506"
      ]
     },
     "execution_count": 423,
     "metadata": {},
     "output_type": "execute_result"
    }
   ],
   "source": [
    "get_ate(final_matching_labeled['chilled_en'], final_matching_labeled['chilled_de'])"
   ]
  },
  {
   "cell_type": "markdown",
   "metadata": {},
   "source": [
    "## Comparison of English and German article pageviews"
   ]
  },
  {
   "cell_type": "code",
   "execution_count": 48,
   "metadata": {
    "scrolled": false
   },
   "outputs": [],
   "source": [
    "reg_data_en = prepare_data_for_regression(data_en)\n",
    "reg_data_de = prepare_data_for_regression(data_de)"
   ]
  },
  {
   "cell_type": "code",
   "execution_count": 50,
   "metadata": {},
   "outputs": [],
   "source": [
    "import statsmodels.formula.api as smf\n",
    "\n",
    "model_en = smf.ols(formula='pageviews ~ time + C(intervention) + post_slope ', data=reg_data_en).fit()\n",
    "model_de = smf.ols(formula='pageviews ~ time + C(intervention) + post_slope', data=reg_data_de).fit()"
   ]
  },
  {
   "cell_type": "code",
   "execution_count": 51,
   "metadata": {},
   "outputs": [],
   "source": [
    "# We compute the predictions and 95% CIs for the two models\n",
    "preds_en = model_en.get_prediction(reg_data_en)\\\n",
    "                .summary_frame(alpha=0.05)[['mean','mean_ci_lower', 'mean_ci_upper']]\n",
    "\n",
    "preds_de = model_de.get_prediction(reg_data_de)\\\n",
    "                .summary_frame(alpha=0.05)[['mean','mean_ci_lower', 'mean_ci_upper']]"
   ]
  },
  {
   "cell_type": "code",
   "execution_count": 52,
   "metadata": {},
   "outputs": [
    {
     "data": {
      "image/png": "[encoded data removed]",
      "text/plain": [
       "<Figure size 1008x504 with 1 Axes>"
      ]
     },
     "metadata": {
      "needs_background": "light"
     },
     "output_type": "display_data"
    }
   ],
   "source": [
    "plt.figure(figsize=(14,7)) \n",
    "\n",
    "# some useful indexes (in the dataframe), ticks, etc\n",
    "xticks = range(1, preds_en.shape[0] + 1)\n",
    "start_index = 1\n",
    "before_interruption_index = 17\n",
    "after_interruption_index = 18\n",
    "end_index = 48\n",
    "# equivalent indexes in the dataframe\n",
    "points_index = [start_index - 1, before_interruption_index - 1, after_interruption_index - 1, end_index - 1] \n",
    "# useful mask, when plotting CIs\n",
    "ci_mask_before = np.array(xticks) <= before_interruption_index\n",
    "\n",
    "\n",
    "# plot the article views\n",
    "plt.scatter(data=reg_data_en, x='time', y='pageviews', label='English articles')\n",
    "plt.scatter(data=reg_data_de ,x='time', y='pageviews', marker='X', label='German articles')\n",
    "\n",
    "# Add ticks and a line representing the period just before the intervention\n",
    "plt.xticks(xticks)\n",
    "plt.axvline(x=after_interruption_index - 0.5, c='black', label='mid June 2013',ls='--')\n",
    "\n",
    "# Terrorism lines\n",
    "p1, p2, p3, p4 = preds_en.loc[points_index, 'mean']\n",
    "plt.plot ([start_index, before_interruption_index], [p1, p2] , c='black', label= 'English article trend Pre-June 2013')\n",
    "plt.plot ([after_interruption_index, end_index], [p3, p4] ,c='black', alpha=0.4, label= 'English article trend Post-June 2013')\n",
    "plt.fill_between(x=xticks, y1=preds_en['mean_ci_lower'], y2=preds_en['mean_ci_upper'], color='g', where=ci_mask_before, alpha=0.5,\\\n",
    "                 label='95% CI (Terrorism articles)')\n",
    "plt.fill_between(x=xticks, y1=preds_en['mean_ci_lower'], y2=preds_en['mean_ci_upper'],color='g', where=~ci_mask_before, alpha=0.5)\n",
    "\n",
    "# domestic security lines\n",
    "p1, p2, p3, p4 = preds_de.loc[points_index, 'mean']\n",
    "plt.plot ([start_index, before_interruption_index], [p1, p2] , c='brown', label= 'German article trend Pre-June 2013')\n",
    "plt.plot ([after_interruption_index, end_index], [p3, p4] ,c='brown', alpha=0.4, label= 'German article trend Post-June 2013')\n",
    "plt.fill_between(x=xticks, y1=preds_de['mean_ci_lower'], y2=preds_de['mean_ci_upper'],color='y', where=ci_mask_before, alpha=0.5, \\\n",
    "                 label='95% CI (Security articles)')\n",
    "plt.fill_between(x=xticks, y1=preds_de['mean_ci_lower'], y2=preds_de['mean_ci_upper'],color='y', where=~ci_mask_before, alpha=0.5)\n",
    "\n",
    "\n",
    "# Add Title, labels and legend \n",
    "plt.title (\"Pre and Post June 2013 Article View Trends For Terrorism (english and german) related articles.\")\n",
    "plt.xlabel(\"Time (Months)\")\n",
    "plt.ylabel(\"Total views\")\n",
    "plt.legend()\n",
    "\n",
    "# Keep only the horizontal grid\n",
    "plt.grid (False, axis='x')\n",
    "plt.grid (True, axis='y')\n",
    "plt.tight_layout()\n",
    "\n",
    "plt.show()\n"
   ]
  },
  {
   "cell_type": "code",
   "execution_count": 152,
   "metadata": {},
   "outputs": [
    {
     "data": {
      "text/plain": [
       "date            2014-08-31 00:00:00\n",
       "pageviews                    133212\n",
       "intervention                      1\n",
       "time                             32\n",
       "post_slope                       15\n",
       "Name: 31, dtype: object"
      ]
     },
     "execution_count": 152,
     "metadata": {},
     "output_type": "execute_result"
    }
   ],
   "source": [
    "reg_data.iloc[31]"
   ]
  },
  {
   "cell_type": "code",
   "execution_count": 168,
   "metadata": {},
   "outputs": [
    {
     "data": {
      "text/plain": [
       "(0.1610107225076326, 0.04086892960493209)"
      ]
     },
     "execution_count": 168,
     "metadata": {},
     "output_type": "execute_result"
    }
   ],
   "source": [
    "diagnostic.kstest_normal(reg_data_de.loc[reg_data_de.intervention == 1,'pageviews'].values,'norm')"
   ]
  },
  {
   "cell_type": "code",
   "execution_count": 53,
   "metadata": {},
   "outputs": [
    {
     "data": {
      "text/html": [
       "<table class=\"simpletable\">\n",
       "<caption>OLS Regression Results</caption>\n",
       "<tr>\n",
       "  <th>Dep. Variable:</th>        <td>pageviews</td>    <th>  R-squared:         </th> <td>   0.415</td>\n",
       "</tr>\n",
       "<tr>\n",
       "  <th>Model:</th>                   <td>OLS</td>       <th>  Adj. R-squared:    </th> <td>   0.376</td>\n",
       "</tr>\n",
       "<tr>\n",
       "  <th>Method:</th>             <td>Least Squares</td>  <th>  F-statistic:       </th> <td>   10.42</td>\n",
       "</tr>\n",
       "<tr>\n",
       "  <th>Date:</th>             <td>Thu, 17 Dec 2020</td> <th>  Prob (F-statistic):</th> <td>2.65e-05</td>\n",
       "</tr>\n",
       "<tr>\n",
       "  <th>Time:</th>                 <td>21:42:35</td>     <th>  Log-Likelihood:    </th> <td> -605.95</td>\n",
       "</tr>\n",
       "<tr>\n",
       "  <th>No. Observations:</th>      <td>    48</td>      <th>  AIC:               </th> <td>   1220.</td>\n",
       "</tr>\n",
       "<tr>\n",
       "  <th>Df Residuals:</th>          <td>    44</td>      <th>  BIC:               </th> <td>   1227.</td>\n",
       "</tr>\n",
       "<tr>\n",
       "  <th>Df Model:</th>              <td>     3</td>      <th>                     </th>     <td> </td>   \n",
       "</tr>\n",
       "<tr>\n",
       "  <th>Covariance Type:</th>      <td>nonrobust</td>    <th>                     </th>     <td> </td>   \n",
       "</tr>\n",
       "</table>\n",
       "<table class=\"simpletable\">\n",
       "<tr>\n",
       "            <td></td>              <th>coef</th>     <th>std err</th>      <th>t</th>      <th>P>|t|</th>  <th>[0.025</th>    <th>0.975]</th>  \n",
       "</tr>\n",
       "<tr>\n",
       "  <th>Intercept</th>            <td> 4.883e+05</td> <td> 3.89e+04</td> <td>   12.539</td> <td> 0.000</td> <td>  4.1e+05</td> <td> 5.67e+05</td>\n",
       "</tr>\n",
       "<tr>\n",
       "  <th>C(intervention)[T.1]</th> <td>-1.348e+05</td> <td> 4.55e+04</td> <td>   -2.964</td> <td> 0.005</td> <td>-2.27e+05</td> <td>-4.32e+04</td>\n",
       "</tr>\n",
       "<tr>\n",
       "  <th>time</th>                 <td>  140.5735</td> <td> 3800.661</td> <td>    0.037</td> <td> 0.971</td> <td>-7519.155</td> <td> 7800.302</td>\n",
       "</tr>\n",
       "<tr>\n",
       "  <th>post_slope</th>           <td>  122.5277</td> <td> 4101.398</td> <td>    0.030</td> <td> 0.976</td> <td>-8143.296</td> <td> 8388.351</td>\n",
       "</tr>\n",
       "</table>\n",
       "<table class=\"simpletable\">\n",
       "<tr>\n",
       "  <th>Omnibus:</th>       <td> 3.645</td> <th>  Durbin-Watson:     </th> <td>   2.001</td>\n",
       "</tr>\n",
       "<tr>\n",
       "  <th>Prob(Omnibus):</th> <td> 0.162</td> <th>  Jarque-Bera (JB):  </th> <td>   2.752</td>\n",
       "</tr>\n",
       "<tr>\n",
       "  <th>Skew:</th>          <td> 0.571</td> <th>  Prob(JB):          </th> <td>   0.253</td>\n",
       "</tr>\n",
       "<tr>\n",
       "  <th>Kurtosis:</th>      <td> 3.268</td> <th>  Cond. No.          </th> <td>    144.</td>\n",
       "</tr>\n",
       "</table><br/><br/>Notes:<br/>[1] Standard Errors assume that the covariance matrix of the errors is correctly specified."
      ],
      "text/plain": [
       "<class 'statsmodels.iolib.summary.Summary'>\n",
       "\"\"\"\n",
       "                            OLS Regression Results                            \n",
       "==============================================================================\n",
       "Dep. Variable:              pageviews   R-squared:                       0.415\n",
       "Model:                            OLS   Adj. R-squared:                  0.376\n",
       "Method:                 Least Squares   F-statistic:                     10.42\n",
       "Date:                Thu, 17 Dec 2020   Prob (F-statistic):           2.65e-05\n",
       "Time:                        21:42:35   Log-Likelihood:                -605.95\n",
       "No. Observations:                  48   AIC:                             1220.\n",
       "Df Residuals:                      44   BIC:                             1227.\n",
       "Df Model:                           3                                         \n",
       "Covariance Type:            nonrobust                                         \n",
       "========================================================================================\n",
       "                           coef    std err          t      P>|t|      [0.025      0.975]\n",
       "----------------------------------------------------------------------------------------\n",
       "Intercept             4.883e+05   3.89e+04     12.539      0.000     4.1e+05    5.67e+05\n",
       "C(intervention)[T.1] -1.348e+05   4.55e+04     -2.964      0.005   -2.27e+05   -4.32e+04\n",
       "time                   140.5735   3800.661      0.037      0.971   -7519.155    7800.302\n",
       "post_slope             122.5277   4101.398      0.030      0.976   -8143.296    8388.351\n",
       "==============================================================================\n",
       "Omnibus:                        3.645   Durbin-Watson:                   2.001\n",
       "Prob(Omnibus):                  0.162   Jarque-Bera (JB):                2.752\n",
       "Skew:                           0.571   Prob(JB):                        0.253\n",
       "Kurtosis:                       3.268   Cond. No.                         144.\n",
       "==============================================================================\n",
       "\n",
       "Notes:\n",
       "[1] Standard Errors assume that the covariance matrix of the errors is correctly specified.\n",
       "\"\"\""
      ]
     },
     "execution_count": 53,
     "metadata": {},
     "output_type": "execute_result"
    }
   ],
   "source": [
    "model_de.summary() # 0.376, "
   ]
  },
  {
   "cell_type": "code",
   "execution_count": 56,
   "metadata": {},
   "outputs": [
    {
     "data": {
      "text/plain": [
       "-1270472.029222014"
      ]
     },
     "execution_count": 56,
     "metadata": {},
     "output_type": "execute_result"
    }
   ],
   "source": [
    "model_en.params[1]\n"
   ]
  },
  {
   "cell_type": "code",
   "execution_count": 57,
   "metadata": {},
   "outputs": [
    {
     "data": {
      "text/plain": [
       "-95519.094710626"
      ]
     },
     "execution_count": 57,
     "metadata": {},
     "output_type": "execute_result"
    }
   ],
   "source": [
    "model_en.params[3]\n"
   ]
  },
  {
   "cell_type": "code",
   "execution_count": 58,
   "metadata": {},
   "outputs": [
    {
     "data": {
      "text/plain": [
       "Intercept               9.696717e-11\n",
       "C(intervention)[T.1]    5.340730e-04\n",
       "time                    2.233952e-02\n",
       "post_slope              3.222562e-03\n",
       "dtype: float64"
      ]
     },
     "execution_count": 58,
     "metadata": {},
     "output_type": "execute_result"
    }
   ],
   "source": [
    "model_en.pvalues"
   ]
  }
 ],
 "metadata": {
  "kernelspec": {
   "display_name": "Python [conda env:ada-env] *",
   "language": "python",
   "name": "conda-env-ada-env-py"
  },
  "language_info": {
   "codemirror_mode": {
    "name": "ipython",
    "version": 3
   },
   "file_extension": ".py",
   "mimetype": "text/x-python",
   "name": "python",
   "nbconvert_exporter": "python",
   "pygments_lexer": "ipython3",
   "version": "3.8.5"
  }
 },
 "nbformat": 4,
 "nbformat_minor": 4
}
