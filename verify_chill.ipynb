{
 "cells": [
  {
   "cell_type": "code",
   "execution_count": 1,
   "metadata": {},
   "outputs": [],
   "source": [
    "import pandas as pd\n",
    "import numpy as np\n",
    "import statsmodels.formula.api as smf"
   ]
  },
  {
   "cell_type": "code",
   "execution_count": 1,
   "metadata": {},
   "outputs": [],
   "source": [
    "\n",
    "#This function takes articles dataframe, it will aggregate it to get monthly views for each article\n",
    "# apply segmented regression on each article and test if the article shows a chilling effect \n",
    "def verify_chill (articles):\n",
    "    result= pd.DataFrame(articles[\"article\"])\n",
    "    result[\"label\"]=0\n",
    "    result=result.set_index(\"article\")\n",
    "    data= articles.groupby([\"article\", pd.Grouper(key='date', freq='M')]).sum()\n",
    "    data= data.reset_index()\n",
    "    data= data.drop(columns=[\"Unnamed: 0\"])\n",
    "    article_names= articles['article'][0:3]\n",
    "    print(article_names)\n",
    "    june_2013 = pd.to_datetime('2013-06-30')\n",
    "    june_2013_index = 18\n",
    "    \n",
    "    for article in article_names:\n",
    "        #preparing the dataframe of each article before computing the regression\n",
    "        pageviews= data[data.article==article]\n",
    "        pageviews['intervention']= (pageviews.date >= june_2013).astype(int)\n",
    "        pageviews['time'] = range(1,len(pageviews) + 1)\n",
    "        pageviews['post_slope'] = (pageviews['time'] - june_2013_index + 1) * \\\n",
    "                                         pageviews['intervention']\n",
    "        #regression model\n",
    "        model = smf.ols(formula='views ~ time + C(intervention) + post_slope ', data=pageviews)\n",
    "        res = model.fit()\n",
    "        pvalue_intervention= res.pvalues[1]\n",
    "        pvalue_postslope= res.pvalues[2]\n",
    "        \n",
    "        #maybe we will change the condition to consider if an article has a chilling effect\n",
    "        if pvalue_intervention < 0.05 or pvalue_postslope < 0.05 :\n",
    "            result[result.index==article]=1\n",
    "            \n",
    "            \n",
    "    return result\n",
    "        \n",
    "    "
   ]
  },
  {
   "cell_type": "code",
   "execution_count": null,
   "metadata": {},
   "outputs": [],
   "source": []
  }
 ],
 "metadata": {
  "kernelspec": {
   "display_name": "Python 3",
   "language": "python",
   "name": "python3"
  },
  "language_info": {
   "codemirror_mode": {
    "name": "ipython",
    "version": 3
   },
   "file_extension": ".py",
   "mimetype": "text/x-python",
   "name": "python",
   "nbconvert_exporter": "python",
   "pygments_lexer": "ipython3",
   "version": "3.8.3"
  }
 },
 "nbformat": 4,
 "nbformat_minor": 4
}
