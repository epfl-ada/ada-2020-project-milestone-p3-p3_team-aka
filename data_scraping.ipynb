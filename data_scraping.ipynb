{
 "cells": [
  {
   "cell_type": "code",
   "execution_count": 31,
   "metadata": {},
   "outputs": [],
   "source": [
    "import requests as requests\n",
    "import re\n",
    "import pandas as pd\n",
    "import matplotlib.pyplot as plt\n",
    "import numpy as np\n",
    "from statsmodels.stats import diagnostic"
   ]
  },
  {
   "cell_type": "code",
   "execution_count": 30,
   "metadata": {},
   "outputs": [],
   "source": [
    "def get_pageview_data(articles, years, lang, save_csv=True):\n",
    "    search_url = f'http://petermeissner.de:8880/article/exact/{lang}/'\n",
    "    final_list = []\n",
    "    \n",
    "    for article in articles:\n",
    "        article_no_spaces = re.sub(r'\\s','_', article)\n",
    "        request = requests.get(search_url + article_no_spaces).json()\n",
    "        if request['status'] != 'ok':\n",
    "            print(f'Problem fetching data for article {article}')\n",
    "            continue\n",
    "        data = request['data']\n",
    "        for elem in data:\n",
    "            year = elem['year']\n",
    "            if str(year) in years:\n",
    "                timestamps = pd.date_range(f'01-01-{year}', f'31-12-{year}')\n",
    "                page_views = elem['page_view_count'].split(',')\n",
    "                assert len(timestamps) == len(page_views)\n",
    "                final_list += list(zip(timestamps, [article] * len(timestamps), [lang] * len(timestamps), page_views)) \n",
    "    df = pd.DataFrame(final_list, columns=['date', 'article','language', 'pageviews'])\n",
    "    if save_csv:\n",
    "        df.to_csv(f'data/data_{lang}.csv')\n",
    "    return df\n",
    "    "
   ]
  },
  {
   "cell_type": "code",
   "execution_count": 3,
   "metadata": {},
   "outputs": [],
   "source": [
    "terrorism_articles = ['abu_sayyaf', 'afghanistan', 'agro', 'al-qaeda',\n",
    "       'al-qaeda_in_the_arabian_peninsula',\n",
    "       'al-qaeda_in_the_islamic_maghreb', 'al-shabaab',\n",
    "       'ammonium_nitrate', 'attack', 'biological_weapon', 'car_bomb',\n",
    "       'chemical_weapon', 'conventional_weapon', 'dirty_bomb',\n",
    "       'eco-terrorism', 'environmental_terrorism',\n",
    "       'euskadi_ta_askatasuna', 'extremism', 'farc', 'fundamentalism',\n",
    "       'hamas', 'hezbollah', 'improvised_explosive_device', 'iran',\n",
    "       'iraq', 'irish_republican_army', 'islamist', 'jihad',\n",
    "       'nationalism', 'nigeria', 'nuclear', 'nuclear_enrichment',\n",
    "       'pakistan', 'palestine_liberation_front', 'pirates', 'plo',\n",
    "       'political_radicalism', 'recruitment', 'somalia', 'suicide_attack',\n",
    "       'suicide_bomber', 'taliban', 'tamil_tigers',\n",
    "       'tehrik-i-taliban_pakistan', 'terror', 'terrorism',\n",
    "       'weapons-grade', 'yemen']\n",
    "terrorism_articles_de = ['al-Qaida','Terrorismus', 'Terror (Begriffsklärung)', 'Attack', 'Irak', 'Afghanistan',\n",
    "                        'Iran', 'Pakistan', 'Agroterrorismus', 'Ökoterrorismus','Hochangereichertes Uran',\"Chemische Waffe\", \"Ammoniumnitrat\",\n",
    "                        \"Unkonventionelle Spreng- und Brandvorrichtung\", \"Abu Sajaf\", \"Hamas\",\n",
    "                        \"FARC-EP\", \"Geschichte der Irisch-Republikanischen Armee\", \"Euskadi Ta Askatasuna\" , \"Hisbollah\",\n",
    "                        \"Liberation Tigers of Tamil Eelam\", \"Palästinensische Befreiungsorganisation\", \"Palästinensische Befreiungsfront\", \n",
    "                        \"Autobombe\", \"Dschihad\", \"Taliban\",\n",
    "                        'Islamismus', 'Fundamentalismus', 'Personalbeschaffung', 'Nationalismus', 'Al-Shabaab',\n",
    "                        'Radikalismus', 'Nigeria', 'Somalia', 'Extremismus', 'Piraterie', 'Jemen', 'Tehrik-i-Taliban Pakistan',\n",
    "                        'Al-Qaida im Maghreb', 'Al-Qaida auf der Arabischen Halbinsel', 'Selbstmordattentat']"
   ]
  },
  {
   "cell_type": "code",
   "execution_count": 4,
   "metadata": {},
   "outputs": [],
   "source": [
    "# articles = get_pageview_data(terrorism_articles, ['2012', '2013','2014','2015', '2016'], 'de')"
   ]
  },
  {
   "cell_type": "code",
   "execution_count": 66,
   "metadata": {},
   "outputs": [],
   "source": [
    "data = pd.read_csv('data/data_en.csv', parse_dates=['date'], index_col=0)"
   ]
  },
  {
   "cell_type": "code",
   "execution_count": 67,
   "metadata": {},
   "outputs": [],
   "source": [
    "reference = pd.read_csv('data/terrorism_data.csv')"
   ]
  },
  {
   "cell_type": "code",
   "execution_count": 68,
   "metadata": {},
   "outputs": [],
   "source": [
    "testing_ref_data = reference.set_index(['date','article']).loc[:, 'views'].astype(int).sort_index(level=[0,1])"
   ]
  },
  {
   "cell_type": "code",
   "execution_count": 69,
   "metadata": {},
   "outputs": [
    {
     "ename": "NameError",
     "evalue": "name 'articles' is not defined",
     "output_type": "error",
     "traceback": [
      "\u001b[0;31m---------------------------------------------------------------------------\u001b[0m",
      "\u001b[0;31mNameError\u001b[0m                                 Traceback (most recent call last)",
      "\u001b[0;32m<ipython-input-69-4a9fd5a66488>\u001b[0m in \u001b[0;36m<module>\u001b[0;34m\u001b[0m\n\u001b[0;32m----> 1\u001b[0;31m \u001b[0mtest\u001b[0m \u001b[0;34m=\u001b[0m \u001b[0marticles\u001b[0m\u001b[0;34m.\u001b[0m\u001b[0mloc\u001b[0m\u001b[0;34m[\u001b[0m\u001b[0marticles\u001b[0m\u001b[0;34m.\u001b[0m\u001b[0mdate\u001b[0m\u001b[0;34m.\u001b[0m\u001b[0misin\u001b[0m\u001b[0;34m(\u001b[0m\u001b[0mreference\u001b[0m\u001b[0;34m.\u001b[0m\u001b[0mdate\u001b[0m\u001b[0;34m)\u001b[0m\u001b[0;34m]\u001b[0m\u001b[0;34m.\u001b[0m\u001b[0mset_index\u001b[0m\u001b[0;34m(\u001b[0m\u001b[0;34m[\u001b[0m\u001b[0;34m'date'\u001b[0m\u001b[0;34m,\u001b[0m\u001b[0;34m'article'\u001b[0m\u001b[0;34m]\u001b[0m\u001b[0;34m)\u001b[0m\u001b[0;34m.\u001b[0m\u001b[0msort_index\u001b[0m\u001b[0;34m(\u001b[0m\u001b[0mlevel\u001b[0m\u001b[0;34m=\u001b[0m\u001b[0;34m[\u001b[0m\u001b[0;36m0\u001b[0m\u001b[0;34m,\u001b[0m\u001b[0;36m1\u001b[0m\u001b[0;34m]\u001b[0m\u001b[0;34m)\u001b[0m\u001b[0;34m[\u001b[0m\u001b[0;34m'pageviews'\u001b[0m\u001b[0;34m]\u001b[0m\u001b[0;34m.\u001b[0m\u001b[0mastype\u001b[0m\u001b[0;34m(\u001b[0m\u001b[0mint\u001b[0m\u001b[0;34m)\u001b[0m\u001b[0;34m\u001b[0m\u001b[0;34m\u001b[0m\u001b[0m\n\u001b[0m",
      "\u001b[0;31mNameError\u001b[0m: name 'articles' is not defined"
     ]
    }
   ],
   "source": [
    "test = articles.loc[articles.date.isin(reference.date)].set_index(['date','article']).sort_index(level=[0,1])['pageviews'].astype(int)"
   ]
  },
  {
   "cell_type": "code",
   "execution_count": 70,
   "metadata": {},
   "outputs": [
    {
     "ename": "NameError",
     "evalue": "name 'test' is not defined",
     "output_type": "error",
     "traceback": [
      "\u001b[0;31m---------------------------------------------------------------------------\u001b[0m",
      "\u001b[0;31mNameError\u001b[0m                                 Traceback (most recent call last)",
      "\u001b[0;32m<ipython-input-70-0830dfa22fd0>\u001b[0m in \u001b[0;36m<module>\u001b[0;34m\u001b[0m\n\u001b[1;32m      1\u001b[0m \u001b[0;32mimport\u001b[0m \u001b[0mnumpy\u001b[0m \u001b[0;32mas\u001b[0m \u001b[0mnp\u001b[0m\u001b[0;34m\u001b[0m\u001b[0;34m\u001b[0m\u001b[0m\n\u001b[0;32m----> 2\u001b[0;31m \u001b[0mnp\u001b[0m\u001b[0;34m.\u001b[0m\u001b[0mcount_nonzero\u001b[0m\u001b[0;34m(\u001b[0m\u001b[0;34m(\u001b[0m\u001b[0mtest\u001b[0m\u001b[0;34m.\u001b[0m\u001b[0mvalues\u001b[0m \u001b[0;34m==\u001b[0m \u001b[0mtesting_ref_data\u001b[0m\u001b[0;34m.\u001b[0m\u001b[0mvalues\u001b[0m\u001b[0;34m)\u001b[0m\u001b[0;34m)\u001b[0m \u001b[0;34m==\u001b[0m \u001b[0mlen\u001b[0m\u001b[0;34m(\u001b[0m\u001b[0mtest\u001b[0m\u001b[0;34m)\u001b[0m\u001b[0;34m\u001b[0m\u001b[0;34m\u001b[0m\u001b[0m\n\u001b[0m",
      "\u001b[0;31mNameError\u001b[0m: name 'test' is not defined"
     ]
    }
   ],
   "source": [
    "import numpy as np\n",
    "np.count_nonzero((test.values == testing_ref_data.values)) == len(test)"
   ]
  },
  {
   "cell_type": "code",
   "execution_count": 71,
   "metadata": {
    "scrolled": true
   },
   "outputs": [
    {
     "name": "stdout",
     "output_type": "stream",
     "text": [
      "47\n"
     ]
    }
   ],
   "source": [
    "# drop the language column\n",
    "data = data.drop('language', axis=1)\n",
    "\n",
    "# filter all rows corresponding to the article about Hamas, as it represents an outlier in the data\n",
    "data = data[data.article != 'hamas']\n",
    "\n",
    "print(len(data.article.unique())) # expect 47"
   ]
  },
  {
   "cell_type": "code",
   "execution_count": 72,
   "metadata": {},
   "outputs": [],
   "source": [
    "# Helper function, performs all the necessary operations to prepare the data for ITS regression\n",
    "\n",
    "def prepare_data_for_regression(data):\n",
    "    pageviews_per_month = data.groupby(pd.Grouper(key='date', freq='M')).sum().reset_index()\n",
    "    # june 2013 and its index, where the months are counted from 1 to 32\n",
    "    june_2013 = pd.to_datetime('2013-06-30')\n",
    "    june_2013_index = 18 \n",
    "\n",
    "    # prepare columns for the regression\n",
    "\n",
    "    # intervention is an indicator function, which takes the value 1 for rows after June 2013\n",
    "    pageviews_per_month['intervention'] = (pageviews_per_month.date >= june_2013).astype(int)\n",
    "\n",
    "    # time is the sequence [1,2,..,32] as we have 32 months\n",
    "    pageviews_per_month ['time'] = range(1,len(pageviews_per_month) + 1)\n",
    "\n",
    "    # post_slope is 0 before June 2013, then 1,2,.. starting June 2013\n",
    "    pageviews_per_month['post_slope'] = (pageviews_per_month['time'] - june_2013_index + 1) * \\\n",
    "                                         pageviews_per_month['intervention']\n",
    "    \n",
    "    return pageviews_per_month"
   ]
  },
  {
   "cell_type": "code",
   "execution_count": 73,
   "metadata": {
    "scrolled": false
   },
   "outputs": [],
   "source": [
    "reg_data = prepare_data_for_regression(data)"
   ]
  },
  {
   "cell_type": "code",
   "execution_count": 74,
   "metadata": {},
   "outputs": [
    {
     "data": {
      "text/html": [
       "<table class=\"simpletable\">\n",
       "<caption>OLS Regression Results</caption>\n",
       "<tr>\n",
       "  <th>Dep. Variable:</th>        <td>pageviews</td>    <th>  R-squared:         </th> <td>   0.564</td>\n",
       "</tr>\n",
       "<tr>\n",
       "  <th>Model:</th>                   <td>OLS</td>       <th>  Adj. R-squared:    </th> <td>   0.534</td>\n",
       "</tr>\n",
       "<tr>\n",
       "  <th>Method:</th>             <td>Least Squares</td>  <th>  F-statistic:       </th> <td>   18.98</td>\n",
       "</tr>\n",
       "<tr>\n",
       "  <th>Date:</th>             <td>Wed, 16 Dec 2020</td> <th>  Prob (F-statistic):</th> <td>4.79e-08</td>\n",
       "</tr>\n",
       "<tr>\n",
       "  <th>Time:</th>                 <td>20:47:28</td>     <th>  Log-Likelihood:    </th> <td> -700.56</td>\n",
       "</tr>\n",
       "<tr>\n",
       "  <th>No. Observations:</th>      <td>    48</td>      <th>  AIC:               </th> <td>   1409.</td>\n",
       "</tr>\n",
       "<tr>\n",
       "  <th>Df Residuals:</th>          <td>    44</td>      <th>  BIC:               </th> <td>   1417.</td>\n",
       "</tr>\n",
       "<tr>\n",
       "  <th>Df Model:</th>              <td>     3</td>      <th>                     </th>     <td> </td>   \n",
       "</tr>\n",
       "<tr>\n",
       "  <th>Covariance Type:</th>      <td>nonrobust</td>    <th>                     </th>     <td> </td>   \n",
       "</tr>\n",
       "</table>\n",
       "<table class=\"simpletable\">\n",
       "<tr>\n",
       "            <td></td>              <th>coef</th>     <th>std err</th>      <th>t</th>      <th>P>|t|</th>  <th>[0.025</th>    <th>0.975]</th>  \n",
       "</tr>\n",
       "<tr>\n",
       "  <th>Intercept</th>            <td> 2.391e+06</td> <td>  2.8e+05</td> <td>    8.552</td> <td> 0.000</td> <td> 1.83e+06</td> <td> 2.95e+06</td>\n",
       "</tr>\n",
       "<tr>\n",
       "  <th>C(intervention)[T.1]</th> <td>-1.142e+06</td> <td> 3.27e+05</td> <td>   -3.498</td> <td> 0.001</td> <td> -1.8e+06</td> <td>-4.84e+05</td>\n",
       "</tr>\n",
       "<tr>\n",
       "  <th>time</th>                 <td> 6.119e+04</td> <td> 2.73e+04</td> <td>    2.243</td> <td> 0.030</td> <td> 6209.037</td> <td> 1.16e+05</td>\n",
       "</tr>\n",
       "<tr>\n",
       "  <th>post_slope</th>           <td>-9.016e+04</td> <td> 2.94e+04</td> <td>   -3.063</td> <td> 0.004</td> <td>-1.49e+05</td> <td>-3.08e+04</td>\n",
       "</tr>\n",
       "</table>\n",
       "<table class=\"simpletable\">\n",
       "<tr>\n",
       "  <th>Omnibus:</th>       <td>16.671</td> <th>  Durbin-Watson:     </th> <td>   0.961</td>\n",
       "</tr>\n",
       "<tr>\n",
       "  <th>Prob(Omnibus):</th> <td> 0.000</td> <th>  Jarque-Bera (JB):  </th> <td>  19.631</td>\n",
       "</tr>\n",
       "<tr>\n",
       "  <th>Skew:</th>          <td>-1.316</td> <th>  Prob(JB):          </th> <td>5.46e-05</td>\n",
       "</tr>\n",
       "<tr>\n",
       "  <th>Kurtosis:</th>      <td> 4.698</td> <th>  Cond. No.          </th> <td>    144.</td>\n",
       "</tr>\n",
       "</table><br/><br/>Notes:<br/>[1] Standard Errors assume that the covariance matrix of the errors is correctly specified."
      ],
      "text/plain": [
       "<class 'statsmodels.iolib.summary.Summary'>\n",
       "\"\"\"\n",
       "                            OLS Regression Results                            \n",
       "==============================================================================\n",
       "Dep. Variable:              pageviews   R-squared:                       0.564\n",
       "Model:                            OLS   Adj. R-squared:                  0.534\n",
       "Method:                 Least Squares   F-statistic:                     18.98\n",
       "Date:                Wed, 16 Dec 2020   Prob (F-statistic):           4.79e-08\n",
       "Time:                        20:47:28   Log-Likelihood:                -700.56\n",
       "No. Observations:                  48   AIC:                             1409.\n",
       "Df Residuals:                      44   BIC:                             1417.\n",
       "Df Model:                           3                                         \n",
       "Covariance Type:            nonrobust                                         \n",
       "========================================================================================\n",
       "                           coef    std err          t      P>|t|      [0.025      0.975]\n",
       "----------------------------------------------------------------------------------------\n",
       "Intercept             2.391e+06    2.8e+05      8.552      0.000    1.83e+06    2.95e+06\n",
       "C(intervention)[T.1] -1.142e+06   3.27e+05     -3.498      0.001    -1.8e+06   -4.84e+05\n",
       "time                  6.119e+04   2.73e+04      2.243      0.030    6209.037    1.16e+05\n",
       "post_slope           -9.016e+04   2.94e+04     -3.063      0.004   -1.49e+05   -3.08e+04\n",
       "==============================================================================\n",
       "Omnibus:                       16.671   Durbin-Watson:                   0.961\n",
       "Prob(Omnibus):                  0.000   Jarque-Bera (JB):               19.631\n",
       "Skew:                          -1.316   Prob(JB):                     5.46e-05\n",
       "Kurtosis:                       4.698   Cond. No.                         144.\n",
       "==============================================================================\n",
       "\n",
       "Notes:\n",
       "[1] Standard Errors assume that the covariance matrix of the errors is correctly specified.\n",
       "\"\"\""
      ]
     },
     "execution_count": 74,
     "metadata": {},
     "output_type": "execute_result"
    }
   ],
   "source": [
    "import statsmodels.formula.api as smf\n",
    "\n",
    "model = smf.ols(formula='pageviews ~ time + C(intervention) + post_slope ', data=reg_data)\n",
    "res = model.fit()\n",
    "res.summary()"
   ]
  },
  {
   "cell_type": "code",
   "execution_count": 75,
   "metadata": {},
   "outputs": [],
   "source": [
    "# We compute the predictions and 95% CIs for the two models\n",
    "preds = res.get_prediction(reg_data)\\\n",
    "                .summary_frame(alpha=0.05)[['mean','mean_ci_lower', 'mean_ci_upper']]"
   ]
  },
  {
   "cell_type": "code",
   "execution_count": 76,
   "metadata": {},
   "outputs": [
    {
     "data": {
      "image/png": "[encoded data removed]",
      "text/plain": [
       "<Figure size 1008x504 with 1 Axes>"
      ]
     },
     "metadata": {
      "needs_background": "light"
     },
     "output_type": "display_data"
    }
   ],
   "source": [
    "plt.figure(figsize=(14,7)) \n",
    "\n",
    "# some useful indexes (in the dataframe), ticks, etc\n",
    "xticks = range(1, preds.shape[0] + 1)\n",
    "start_index = 1\n",
    "before_interruption_index = 17\n",
    "after_interruption_index = 18\n",
    "end_index = 48\n",
    "# equivalent indexes in the dataframe\n",
    "points_index = [start_index - 1, before_interruption_index - 1, after_interruption_index - 1, end_index - 1] \n",
    "# useful mask, when plotting CIs\n",
    "ci_mask_before = np.array(xticks) <= before_interruption_index\n",
    "\n",
    "\n",
    "# plot the article views\n",
    "plt.scatter(data=reg_data, x='time', y='pageviews', label='Terrorism related articles')\n",
    "# plt.scatter(data=pageviews_domestic,x='time', y='views', marker='X', label='Security related articles')\n",
    "\n",
    "# Add ticks and a line representing the period just before the intervention\n",
    "plt.xticks(xticks)\n",
    "plt.axvline(x=after_interruption_index - 0.5, c='black', label='mid June 2013',ls='--')\n",
    "\n",
    "# Terrorism lines\n",
    "p1, p2, p3, p4 = preds.loc[points_index, 'mean']\n",
    "plt.plot ([start_index, before_interruption_index], [p1, p2] , c='black', label= 'Terrorism article trend Pre-June 2013')\n",
    "plt.plot ([after_interruption_index, end_index], [p3, p4] ,c='black', alpha=0.4, label= 'Terrorism article trend Post-June 2013')\n",
    "plt.fill_between(x=xticks, y1=preds['mean_ci_lower'], y2=preds['mean_ci_upper'],color='g', where=ci_mask_before, alpha=0.5,\\\n",
    "                 label='95% CI (Terrorism articles)')\n",
    "plt.fill_between(x=xticks, y1=preds['mean_ci_lower'], y2=preds['mean_ci_upper'],color='g', where=~ci_mask_before, alpha=0.5)\n",
    "\n",
    "# domestic security lines\n",
    "# p1, p2, p3, p4 = pred_domestic.loc[points_index, 'mean']\n",
    "# plt.plot ([start_index, before_interruption_index], [p1, p2] , c='brown', label= 'Security article trend Pre-June 2013')\n",
    "# plt.plot ([after_interruption_index, end_index], [p3, p4] ,c='brown', alpha=0.4, label= 'Security article trend Post-June 2013')\n",
    "# plt.fill_between(x=xticks, y1=pred_domestic['mean_ci_lower'], y2=pred_domestic['mean_ci_upper'],color='y', where=ci_mask_before, alpha=0.5, \\\n",
    "#                  label='95% CI (Security articles)')\n",
    "# plt.fill_between(x=xticks, y1=pred_domestic['mean_ci_lower'], y2=pred_domestic['mean_ci_upper'],color='y', where=~ci_mask_before, alpha=0.5)\n",
    "\n",
    "\n",
    "# Add Title, labels and legend \n",
    "plt.title (\"Pre and Post June 2013 Article View Trends For Terrorism related articles.\")\n",
    "plt.xlabel(\"Time (Months)\")\n",
    "plt.ylabel(\"Total views\")\n",
    "plt.legend()\n",
    "\n",
    "# Keep only the horizontal grid\n",
    "plt.grid (False, axis='x')\n",
    "plt.grid (True, axis='y')\n",
    "plt.tight_layout()\n",
    "\n",
    "plt.show()\n"
   ]
  },
  {
   "cell_type": "code",
   "execution_count": 84,
   "metadata": {},
   "outputs": [
    {
     "data": {
      "text/plain": [
       "date            2014-08-31 00:00:00\n",
       "pageviews                    133212\n",
       "intervention                      1\n",
       "time                             32\n",
       "post_slope                       15\n",
       "Name: 31, dtype: object"
      ]
     },
     "execution_count": 84,
     "metadata": {},
     "output_type": "execute_result"
    }
   ],
   "source": [
    "reg_data.iloc[31]"
   ]
  },
  {
   "cell_type": "code",
   "execution_count": 81,
   "metadata": {},
   "outputs": [
    {
     "data": {
      "text/plain": [
       "(0.14238103221921927, 0.1123665736357827)"
      ]
     },
     "execution_count": 81,
     "metadata": {},
     "output_type": "execute_result"
    }
   ],
   "source": [
    "diagnostic.kstest_normal(reg_data.loc[reg_data.intervention == 1,'pageviews'].values,'norm')"
   ]
  },
  {
   "cell_type": "code",
   "execution_count": null,
   "metadata": {},
   "outputs": [],
   "source": []
  }
 ],
 "metadata": {
  "kernelspec": {
   "display_name": "Python [conda env:ada-env] *",
   "language": "python",
   "name": "conda-env-ada-env-py"
  },
  "language_info": {
   "codemirror_mode": {
    "name": "ipython",
    "version": 3
   },
   "file_extension": ".py",
   "mimetype": "text/x-python",
   "name": "python",
   "nbconvert_exporter": "python",
   "pygments_lexer": "ipython3",
   "version": "3.8.5"
  }
 },
 "nbformat": 4,
 "nbformat_minor": 4
}
