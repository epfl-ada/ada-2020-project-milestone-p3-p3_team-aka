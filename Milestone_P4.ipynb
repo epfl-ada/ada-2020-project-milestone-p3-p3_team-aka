{
 "cells": [
  {
   "cell_type": "code",
   "execution_count": 427,
   "metadata": {},
   "outputs": [],
   "source": [
    "# all needed libraries are imported here\n",
    "import re\n",
    "import sys\n",
    "import requests as requests\n",
    "import pandas as pd\n",
    "import matplotlib.pyplot as plt\n",
    "import wikipedia as wiki\n",
    "import numpy as np\n",
    "from statsmodels.stats import diagnostic\n",
    "import wikipediaapi\n",
    "import os\n",
    "import pandas as pd\n",
    "import sys\n",
    "import spacy\n",
    "from sklearn.metrics.pairwise import cosine_similarity\n",
    "import networkx as nx\n",
    "import statsmodels.formula.api as smf"
   ]
  },
  {
   "cell_type": "markdown",
   "metadata": {},
   "source": [
    "# 1. Data scraping\n",
    "\n",
    "We use the REST API from http://petermeissner.de:8880/ in order to extract pageviews for the articles,\n",
    "from January 2012 up until december 2015.\n",
    "We do this for both English and German Wikipedia."
   ]
  },
  {
   "cell_type": "code",
   "execution_count": 428,
   "metadata": {},
   "outputs": [],
   "source": [
    "# Helper function, extracts pageviews for a list of articles and a given language and specified years\n",
    "# and returns a dataframe with the associated information\n",
    "\n",
    "def get_pageview_data(articles, years, lang, save_csv=True):\n",
    "    \n",
    "    # initialize the search url\n",
    "    search_url = f'http://petermeissner.de:8880/article/exact/{lang}/'\n",
    "    final_list = []\n",
    "    \n",
    "    for article in articles:\n",
    "        \n",
    "        # small technical detail, we have to transofrm spaces in the page names into underscores.\n",
    "        article_no_spaces = re.sub(r'\\s','_', article)\n",
    "        try:\n",
    "            request = requests.get(search_url + article_no_spaces).json()\n",
    "        except:\n",
    "            print(f'Problem fetching data for article {article}')\n",
    "            continue\n",
    "            \n",
    "            \n",
    "        # verify everything went well\n",
    "        if request['status'] != 'ok':\n",
    "            print(f'Problem fetching data for article {article}')\n",
    "            continue\n",
    "            \n",
    "        data = request['data']\n",
    "        for elem in data:\n",
    "            year = elem['year']\n",
    "            if str(year) in years:\n",
    "                # create a date_range for the specific year\n",
    "                timestamps = pd.date_range(f'01-01-{year}', f'31-12-{year}')\n",
    "                page_views = elem['page_view_count'].split(',')\n",
    "                # quick sanity check\n",
    "                assert len(timestamps) == len(page_views)\n",
    "                final_list += list(zip(timestamps, [article] * len(timestamps), [lang] * len(timestamps), page_views))\n",
    "    \n",
    "    # create the needed dataframe and save it if specified\n",
    "    df = pd.DataFrame(final_list, columns=['date', 'article','language', 'pageviews'])\n",
    "    if save_csv:\n",
    "        df.to_csv(f'data/data_{lang}.csv')\n",
    "    return df\n",
    "    "
   ]
  },
  {
   "cell_type": "code",
   "execution_count": 501,
   "metadata": {},
   "outputs": [],
   "source": [
    "# Declare the desired article names for English and German\n",
    "\n",
    "terrorism_articles_en = ['abu_sayyaf', 'afghanistan', 'agro', 'al-qaeda',\n",
    "                      'al-qaeda_in_the_arabian_peninsula',\n",
    "                      'al-qaeda_in_the_islamic_maghreb', 'al-shabaab',\n",
    "                      'ammonium_nitrate', 'attack', 'biological_weapon', 'car_bomb',\n",
    "                      'chemical_weapon', 'conventional_weapon', 'dirty_bomb',\n",
    "                      'eco-terrorism', 'environmental_terrorism',\n",
    "                      'euskadi_ta_askatasuna', 'extremism', 'farc', 'fundamentalism',\n",
    "                      'hamas', 'hezbollah', 'improvised_explosive_device', 'iran',\n",
    "                      'iraq', 'irish_republican_army', 'islamist', 'jihad',\n",
    "                      'nationalism', 'nigeria', 'nuclear', 'nuclear_enrichment',\n",
    "                      'pakistan', 'palestine_liberation_front', 'pirates', 'plo',\n",
    "                      'political_radicalism', 'recruitment', 'somalia', 'suicide_attack',\n",
    "                      'suicide_bomber', 'taliban', 'tamil_tigers',\n",
    "                      'tehrik-i-taliban_pakistan', 'terror', 'terrorism',\n",
    "                      'weapons-grade', 'yemen']\n",
    "\n",
    "terrorism_articles_de = ['al-Qaida','Terrorismus', 'Terror (Begriffsklärung)', 'Angriff', 'Irak', 'Afghanistan',\n",
    "                        'Iran', 'Pakistan', 'Agroterrorismus', 'Ökoterrorismus','Hochangereichertes Uran',\"Chemische Waffe\", \"Ammoniumnitrat\",\n",
    "                        \"Unkonventionelle Spreng- und Brandvorrichtung\", \"Abu Sajaf\", \"Hamas\",\n",
    "                        \"FARC-EP\", \"Geschichte der Irisch-Republikanischen Armee\", \"Euskadi Ta Askatasuna\" , \"Hisbollah\",\n",
    "                        \"Liberation Tigers of Tamil Eelam\", \"Palästinensische Befreiungsorganisation\", \"Palästinensische Befreiungsfront\", \n",
    "                        \"Autobombe\", \"Dschihad\", \"Taliban\",\n",
    "                        'Islamismus', 'Fundamentalismus', 'Personalbeschaffung', 'Nationalismus', 'Al-Shabaab',\n",
    "                        'Radikalismus', 'Nigeria', 'Somalia', 'Extremismus', 'Piraterie', 'Jemen', 'Tehrik-i-Taliban Pakistan',\n",
    "                        'Al-Qaida im Maghreb', 'Al-Qaida auf der Arabischen Halbinsel', 'Selbstmordattentat']\n",
    "\n",
    "years = ['2012','2013','2014','2015']"
   ]
  },
  {
   "cell_type": "code",
   "execution_count": 539,
   "metadata": {},
   "outputs": [
    {
     "name": "stdout",
     "output_type": "stream",
     "text": [
      "Problem fetching data for article Geschichte der Irisch-Republikanischen Armee\n"
     ]
    }
   ],
   "source": [
    "# small convenience variable so that we don't have to re_use the api each time\n",
    "use_api = False\n",
    "\n",
    "if use_api:\n",
    "    data_en = get_pageview_data(terrorism_articles_en, years, 'en', save_csv=True)\n",
    "    data_de = get_pageview_data(terrorism_articles_de, years, 'de', save_csv=True)\n",
    "else:\n",
    "    data_en = pd.read_csv('data/data_en.csv', parse_dates=['date'], index_col=0)\n",
    "    data_de = pd.read_csv('data/data_de.csv', parse_dates=['date'], index_col=0)\n",
    "\n",
    "data_en['pageviews'] = data_en['pageviews'].astype(int)"
   ]
  },
  {
   "cell_type": "markdown",
   "metadata": {},
   "source": [
    "There is a problem fetching data for the german version of the irish republican army article, although it does exist on Wikipedia."
   ]
  },
  {
   "cell_type": "code",
   "execution_count": 540,
   "metadata": {},
   "outputs": [
    {
     "data": {
      "text/html": [
       "<div>\n",
       "<style scoped>\n",
       "    .dataframe tbody tr th:only-of-type {\n",
       "        vertical-align: middle;\n",
       "    }\n",
       "\n",
       "    .dataframe tbody tr th {\n",
       "        vertical-align: top;\n",
       "    }\n",
       "\n",
       "    .dataframe thead th {\n",
       "        text-align: right;\n",
       "    }\n",
       "</style>\n",
       "<table border=\"1\" class=\"dataframe\">\n",
       "  <thead>\n",
       "    <tr style=\"text-align: right;\">\n",
       "      <th></th>\n",
       "      <th>date</th>\n",
       "      <th>article</th>\n",
       "      <th>language</th>\n",
       "      <th>pageviews</th>\n",
       "    </tr>\n",
       "  </thead>\n",
       "  <tbody>\n",
       "    <tr>\n",
       "      <th>0</th>\n",
       "      <td>2012-01-01</td>\n",
       "      <td>abu_sayyaf</td>\n",
       "      <td>en</td>\n",
       "      <td>254</td>\n",
       "    </tr>\n",
       "    <tr>\n",
       "      <th>1</th>\n",
       "      <td>2012-01-02</td>\n",
       "      <td>abu_sayyaf</td>\n",
       "      <td>en</td>\n",
       "      <td>351</td>\n",
       "    </tr>\n",
       "    <tr>\n",
       "      <th>2</th>\n",
       "      <td>2012-01-03</td>\n",
       "      <td>abu_sayyaf</td>\n",
       "      <td>en</td>\n",
       "      <td>423</td>\n",
       "    </tr>\n",
       "    <tr>\n",
       "      <th>3</th>\n",
       "      <td>2012-01-04</td>\n",
       "      <td>abu_sayyaf</td>\n",
       "      <td>en</td>\n",
       "      <td>418</td>\n",
       "    </tr>\n",
       "    <tr>\n",
       "      <th>4</th>\n",
       "      <td>2012-01-05</td>\n",
       "      <td>abu_sayyaf</td>\n",
       "      <td>en</td>\n",
       "      <td>804</td>\n",
       "    </tr>\n",
       "  </tbody>\n",
       "</table>\n",
       "</div>"
      ],
      "text/plain": [
       "        date     article language  pageviews\n",
       "0 2012-01-01  abu_sayyaf       en        254\n",
       "1 2012-01-02  abu_sayyaf       en        351\n",
       "2 2012-01-03  abu_sayyaf       en        423\n",
       "3 2012-01-04  abu_sayyaf       en        418\n",
       "4 2012-01-05  abu_sayyaf       en        804"
      ]
     },
     "execution_count": 540,
     "metadata": {},
     "output_type": "execute_result"
    }
   ],
   "source": [
    "data_en.head()"
   ]
  },
  {
   "cell_type": "code",
   "execution_count": 541,
   "metadata": {},
   "outputs": [
    {
     "data": {
      "text/html": [
       "<div>\n",
       "<style scoped>\n",
       "    .dataframe tbody tr th:only-of-type {\n",
       "        vertical-align: middle;\n",
       "    }\n",
       "\n",
       "    .dataframe tbody tr th {\n",
       "        vertical-align: top;\n",
       "    }\n",
       "\n",
       "    .dataframe thead th {\n",
       "        text-align: right;\n",
       "    }\n",
       "</style>\n",
       "<table border=\"1\" class=\"dataframe\">\n",
       "  <thead>\n",
       "    <tr style=\"text-align: right;\">\n",
       "      <th></th>\n",
       "      <th>date</th>\n",
       "      <th>article</th>\n",
       "      <th>language</th>\n",
       "      <th>pageviews</th>\n",
       "    </tr>\n",
       "  </thead>\n",
       "  <tbody>\n",
       "    <tr>\n",
       "      <th>0</th>\n",
       "      <td>2012-01-01</td>\n",
       "      <td>al-Qaida</td>\n",
       "      <td>de</td>\n",
       "      <td>438</td>\n",
       "    </tr>\n",
       "    <tr>\n",
       "      <th>1</th>\n",
       "      <td>2012-01-02</td>\n",
       "      <td>al-Qaida</td>\n",
       "      <td>de</td>\n",
       "      <td>9</td>\n",
       "    </tr>\n",
       "    <tr>\n",
       "      <th>2</th>\n",
       "      <td>2012-01-03</td>\n",
       "      <td>al-Qaida</td>\n",
       "      <td>de</td>\n",
       "      <td>669</td>\n",
       "    </tr>\n",
       "    <tr>\n",
       "      <th>3</th>\n",
       "      <td>2012-01-04</td>\n",
       "      <td>al-Qaida</td>\n",
       "      <td>de</td>\n",
       "      <td>659</td>\n",
       "    </tr>\n",
       "    <tr>\n",
       "      <th>4</th>\n",
       "      <td>2012-01-05</td>\n",
       "      <td>al-Qaida</td>\n",
       "      <td>de</td>\n",
       "      <td>746</td>\n",
       "    </tr>\n",
       "  </tbody>\n",
       "</table>\n",
       "</div>"
      ],
      "text/plain": [
       "        date   article language pageviews\n",
       "0 2012-01-01  al-Qaida       de       438\n",
       "1 2012-01-02  al-Qaida       de         9\n",
       "2 2012-01-03  al-Qaida       de       669\n",
       "3 2012-01-04  al-Qaida       de       659\n",
       "4 2012-01-05  al-Qaida       de       746"
      ]
     },
     "execution_count": 541,
     "metadata": {},
     "output_type": "execute_result"
    }
   ],
   "source": [
    "data_de.head()"
   ]
  },
  {
   "cell_type": "markdown",
   "metadata": {},
   "source": [
    "# 2. Verifications and Tests\n",
    "We perform some sanity checks on the data, and find that some values may be missing. For the English articles, we compare the results with the data given to us for Milestone P2 replication."
   ]
  },
  {
   "cell_type": "markdown",
   "metadata": {},
   "source": [
    "## Checks"
   ]
  },
  {
   "cell_type": "code",
   "execution_count": 542,
   "metadata": {},
   "outputs": [
    {
     "name": "stdout",
     "output_type": "stream",
     "text": [
      "48\n",
      "48\n",
      "40\n",
      "41\n"
     ]
    }
   ],
   "source": [
    "print(len(data_en.article.unique()))\n",
    "print(len(terrorism_articles_en))\n",
    "print(len(data_de.article.unique()))\n",
    "print(len(terrorism_articles_de))"
   ]
  },
  {
   "cell_type": "markdown",
   "metadata": {},
   "source": [
    "This is expected as we were not able to retrieve one of the German articles data"
   ]
  },
  {
   "cell_type": "code",
   "execution_count": 543,
   "metadata": {},
   "outputs": [
    {
     "data": {
      "text/plain": [
       "True"
      ]
     },
     "execution_count": 543,
     "metadata": {},
     "output_type": "execute_result"
    }
   ],
   "source": [
    "# load the pageviews given for the replication\n",
    "reference = pd.read_csv('data/terrorism_data.csv')\n",
    "testing_ref_data = reference.set_index(['date','article']).loc[:, 'views'].astype(int).sort_index(level=[0,1])\n",
    "\n",
    "test_en = data_en.loc[data_en.date.isin(reference.date)].set_index(['date','article']).\\\n",
    "       sort_index(level=[0,1])['pageviews'].astype(int)\n",
    "\n",
    "np.count_nonzero((test_en.values == testing_ref_data.values)) == len(test_en)"
   ]
  },
  {
   "cell_type": "markdown",
   "metadata": {},
   "source": [
    "We have **exactly the same** pageviews as the ones given for the replication, which a good sign."
   ]
  },
  {
   "cell_type": "markdown",
   "metadata": {},
   "source": [
    "## Scatter plots of the data"
   ]
  },
  {
   "cell_type": "code",
   "execution_count": 544,
   "metadata": {},
   "outputs": [
    {
     "data": {
      "text/html": [
       "<div>\n",
       "<style scoped>\n",
       "    .dataframe tbody tr th:only-of-type {\n",
       "        vertical-align: middle;\n",
       "    }\n",
       "\n",
       "    .dataframe tbody tr th {\n",
       "        vertical-align: top;\n",
       "    }\n",
       "\n",
       "    .dataframe thead th {\n",
       "        text-align: right;\n",
       "    }\n",
       "</style>\n",
       "<table border=\"1\" class=\"dataframe\">\n",
       "  <thead>\n",
       "    <tr style=\"text-align: right;\">\n",
       "      <th></th>\n",
       "      <th>date</th>\n",
       "      <th>article</th>\n",
       "      <th>language</th>\n",
       "      <th>pageviews</th>\n",
       "    </tr>\n",
       "  </thead>\n",
       "  <tbody>\n",
       "    <tr>\n",
       "      <th>0</th>\n",
       "      <td>2012-01-01</td>\n",
       "      <td>al-Qaida</td>\n",
       "      <td>de</td>\n",
       "      <td>438</td>\n",
       "    </tr>\n",
       "    <tr>\n",
       "      <th>1</th>\n",
       "      <td>2012-01-02</td>\n",
       "      <td>al-Qaida</td>\n",
       "      <td>de</td>\n",
       "      <td>9</td>\n",
       "    </tr>\n",
       "    <tr>\n",
       "      <th>2</th>\n",
       "      <td>2012-01-03</td>\n",
       "      <td>al-Qaida</td>\n",
       "      <td>de</td>\n",
       "      <td>669</td>\n",
       "    </tr>\n",
       "    <tr>\n",
       "      <th>3</th>\n",
       "      <td>2012-01-04</td>\n",
       "      <td>al-Qaida</td>\n",
       "      <td>de</td>\n",
       "      <td>659</td>\n",
       "    </tr>\n",
       "    <tr>\n",
       "      <th>4</th>\n",
       "      <td>2012-01-05</td>\n",
       "      <td>al-Qaida</td>\n",
       "      <td>de</td>\n",
       "      <td>746</td>\n",
       "    </tr>\n",
       "    <tr>\n",
       "      <th>...</th>\n",
       "      <td>...</td>\n",
       "      <td>...</td>\n",
       "      <td>...</td>\n",
       "      <td>...</td>\n",
       "    </tr>\n",
       "    <tr>\n",
       "      <th>58435</th>\n",
       "      <td>2014-12-27</td>\n",
       "      <td>Selbstmordattentat</td>\n",
       "      <td>de</td>\n",
       "      <td>35</td>\n",
       "    </tr>\n",
       "    <tr>\n",
       "      <th>58436</th>\n",
       "      <td>2014-12-28</td>\n",
       "      <td>Selbstmordattentat</td>\n",
       "      <td>de</td>\n",
       "      <td>41</td>\n",
       "    </tr>\n",
       "    <tr>\n",
       "      <th>58437</th>\n",
       "      <td>2014-12-29</td>\n",
       "      <td>Selbstmordattentat</td>\n",
       "      <td>de</td>\n",
       "      <td>43</td>\n",
       "    </tr>\n",
       "    <tr>\n",
       "      <th>58438</th>\n",
       "      <td>2014-12-30</td>\n",
       "      <td>Selbstmordattentat</td>\n",
       "      <td>de</td>\n",
       "      <td>44</td>\n",
       "    </tr>\n",
       "    <tr>\n",
       "      <th>58439</th>\n",
       "      <td>2014-12-31</td>\n",
       "      <td>Selbstmordattentat</td>\n",
       "      <td>de</td>\n",
       "      <td>29</td>\n",
       "    </tr>\n",
       "  </tbody>\n",
       "</table>\n",
       "<p>58440 rows × 4 columns</p>\n",
       "</div>"
      ],
      "text/plain": [
       "            date             article language pageviews\n",
       "0     2012-01-01            al-Qaida       de       438\n",
       "1     2012-01-02            al-Qaida       de         9\n",
       "2     2012-01-03            al-Qaida       de       669\n",
       "3     2012-01-04            al-Qaida       de       659\n",
       "4     2012-01-05            al-Qaida       de       746\n",
       "...          ...                 ...      ...       ...\n",
       "58435 2014-12-27  Selbstmordattentat       de        35\n",
       "58436 2014-12-28  Selbstmordattentat       de        41\n",
       "58437 2014-12-29  Selbstmordattentat       de        43\n",
       "58438 2014-12-30  Selbstmordattentat       de        44\n",
       "58439 2014-12-31  Selbstmordattentat       de        29\n",
       "\n",
       "[58440 rows x 4 columns]"
      ]
     },
     "execution_count": 544,
     "metadata": {},
     "output_type": "execute_result"
    }
   ],
   "source": [
    "data_de"
   ]
  },
  {
   "cell_type": "code",
   "execution_count": 552,
   "metadata": {},
   "outputs": [],
   "source": [
    "# Aggregate the total monthly pageviews\n",
    "data_en.loc[:,'pageviews'] = data_en.loc[:,'pageviews'].astype(int)\n",
    "data_de.loc[:,'pageviews'] = data_de.loc[:,'pageviews'].astype(int)\n",
    "\n",
    "grouped_en = data_en.groupby(pd.Grouper(key='date', freq='M'))['pageviews'].sum()\n",
    "grouped_de = data_de.groupby(pd.Grouper(key='date', freq='M'))['pageviews'].sum()"
   ]
  },
  {
   "cell_type": "code",
   "execution_count": 553,
   "metadata": {},
   "outputs": [
    {
     "data": {
      "image/png": "[encoded data removed]",
      "text/plain": [
       "<Figure size 720x360 with 1 Axes>"
      ]
     },
     "metadata": {
      "needs_background": "light"
     },
     "output_type": "display_data"
    }
   ],
   "source": [
    "plt.figure(figsize=(10,5))\n",
    "plt.scatter(x=range(1,len(grouped_en) + 1), y=grouped_en.values, label='English articles')\n",
    "plt.scatter(x=range(1,len(grouped_de) + 1), y=grouped_de.values, marker='X', label='German articles')\n",
    "\n",
    "plt.title('Aggregated Monthly Pageviews for English and German Articles')\n",
    "\n",
    "plt.grid (False, axis='x')\n",
    "plt.grid (True, axis='y')\n",
    "plt.xticks(range(1,len(grouped_en) + 1))\n",
    "plt.legend()\n",
    "plt.savefig('figures/agg.png')\n",
    "plt.tight_layout()\n",
    "\n",
    "plt.show()"
   ]
  },
  {
   "cell_type": "markdown",
   "metadata": {},
   "source": [
    "For the English articles, we notice **very low pageview** values from July 2014 until Dec 2014."
   ]
  },
  {
   "cell_type": "markdown",
   "metadata": {},
   "source": [
    "## Testing for missing pageview Data\n",
    "Seeing the outlier points in the scatter plots we look for missing values in the data"
   ]
  },
  {
   "cell_type": "code",
   "execution_count": 554,
   "metadata": {},
   "outputs": [
    {
     "data": {
      "text/plain": [
       "6627"
      ]
     },
     "execution_count": 554,
     "metadata": {},
     "output_type": "execute_result"
    }
   ],
   "source": [
    "(data_en['pageviews'] == 0).sum()"
   ]
  },
  {
   "cell_type": "code",
   "execution_count": 555,
   "metadata": {},
   "outputs": [
    {
     "data": {
      "text/plain": [
       "5449"
      ]
     },
     "execution_count": 555,
     "metadata": {},
     "output_type": "execute_result"
    }
   ],
   "source": [
    "(data_de['pageviews'] == 0).sum()"
   ]
  },
  {
   "cell_type": "markdown",
   "metadata": {},
   "source": [
    "As we can see, there seems to be many zeros in the data. What about for the monthly case?"
   ]
  },
  {
   "cell_type": "code",
   "execution_count": 556,
   "metadata": {},
   "outputs": [
    {
     "data": {
      "text/html": [
       "<div>\n",
       "<style scoped>\n",
       "    .dataframe tbody tr th:only-of-type {\n",
       "        vertical-align: middle;\n",
       "    }\n",
       "\n",
       "    .dataframe tbody tr th {\n",
       "        vertical-align: top;\n",
       "    }\n",
       "\n",
       "    .dataframe thead th {\n",
       "        text-align: right;\n",
       "    }\n",
       "</style>\n",
       "<table border=\"1\" class=\"dataframe\">\n",
       "  <thead>\n",
       "    <tr style=\"text-align: right;\">\n",
       "      <th></th>\n",
       "      <th>date</th>\n",
       "      <th>article</th>\n",
       "      <th>language</th>\n",
       "      <th>pageviews</th>\n",
       "    </tr>\n",
       "  </thead>\n",
       "  <tbody>\n",
       "    <tr>\n",
       "      <th>0</th>\n",
       "      <td>2012-01-01</td>\n",
       "      <td>abu_sayyaf</td>\n",
       "      <td>en</td>\n",
       "      <td>254</td>\n",
       "    </tr>\n",
       "    <tr>\n",
       "      <th>1</th>\n",
       "      <td>2012-01-02</td>\n",
       "      <td>abu_sayyaf</td>\n",
       "      <td>en</td>\n",
       "      <td>351</td>\n",
       "    </tr>\n",
       "    <tr>\n",
       "      <th>2</th>\n",
       "      <td>2012-01-03</td>\n",
       "      <td>abu_sayyaf</td>\n",
       "      <td>en</td>\n",
       "      <td>423</td>\n",
       "    </tr>\n",
       "    <tr>\n",
       "      <th>3</th>\n",
       "      <td>2012-01-04</td>\n",
       "      <td>abu_sayyaf</td>\n",
       "      <td>en</td>\n",
       "      <td>418</td>\n",
       "    </tr>\n",
       "    <tr>\n",
       "      <th>4</th>\n",
       "      <td>2012-01-05</td>\n",
       "      <td>abu_sayyaf</td>\n",
       "      <td>en</td>\n",
       "      <td>804</td>\n",
       "    </tr>\n",
       "    <tr>\n",
       "      <th>...</th>\n",
       "      <td>...</td>\n",
       "      <td>...</td>\n",
       "      <td>...</td>\n",
       "      <td>...</td>\n",
       "    </tr>\n",
       "    <tr>\n",
       "      <th>70123</th>\n",
       "      <td>2014-12-27</td>\n",
       "      <td>yemen</td>\n",
       "      <td>en</td>\n",
       "      <td>1895</td>\n",
       "    </tr>\n",
       "    <tr>\n",
       "      <th>70124</th>\n",
       "      <td>2014-12-28</td>\n",
       "      <td>yemen</td>\n",
       "      <td>en</td>\n",
       "      <td>1929</td>\n",
       "    </tr>\n",
       "    <tr>\n",
       "      <th>70125</th>\n",
       "      <td>2014-12-29</td>\n",
       "      <td>yemen</td>\n",
       "      <td>en</td>\n",
       "      <td>2180</td>\n",
       "    </tr>\n",
       "    <tr>\n",
       "      <th>70126</th>\n",
       "      <td>2014-12-30</td>\n",
       "      <td>yemen</td>\n",
       "      <td>en</td>\n",
       "      <td>0</td>\n",
       "    </tr>\n",
       "    <tr>\n",
       "      <th>70127</th>\n",
       "      <td>2014-12-31</td>\n",
       "      <td>yemen</td>\n",
       "      <td>en</td>\n",
       "      <td>2226</td>\n",
       "    </tr>\n",
       "  </tbody>\n",
       "</table>\n",
       "<p>70128 rows × 4 columns</p>\n",
       "</div>"
      ],
      "text/plain": [
       "            date     article language  pageviews\n",
       "0     2012-01-01  abu_sayyaf       en        254\n",
       "1     2012-01-02  abu_sayyaf       en        351\n",
       "2     2012-01-03  abu_sayyaf       en        423\n",
       "3     2012-01-04  abu_sayyaf       en        418\n",
       "4     2012-01-05  abu_sayyaf       en        804\n",
       "...          ...         ...      ...        ...\n",
       "70123 2014-12-27       yemen       en       1895\n",
       "70124 2014-12-28       yemen       en       1929\n",
       "70125 2014-12-29       yemen       en       2180\n",
       "70126 2014-12-30       yemen       en          0\n",
       "70127 2014-12-31       yemen       en       2226\n",
       "\n",
       "[70128 rows x 4 columns]"
      ]
     },
     "execution_count": 556,
     "metadata": {},
     "output_type": "execute_result"
    }
   ],
   "source": [
    "data_en"
   ]
  },
  {
   "cell_type": "code",
   "execution_count": 557,
   "metadata": {},
   "outputs": [
    {
     "data": {
      "text/plain": [
       "35"
      ]
     },
     "execution_count": 557,
     "metadata": {},
     "output_type": "execute_result"
    }
   ],
   "source": [
    "(data_en.groupby(['article',pd.Grouper(key='date', freq='M')])['pageviews'].sum() == 0).sum()"
   ]
  },
  {
   "cell_type": "code",
   "execution_count": 558,
   "metadata": {},
   "outputs": [
    {
     "data": {
      "text/plain": [
       "39"
      ]
     },
     "execution_count": 558,
     "metadata": {},
     "output_type": "execute_result"
    }
   ],
   "source": [
    "(data_de.groupby(['article',pd.Grouper(key='date', freq='M')])['pageviews'].sum() == 0).sum()"
   ]
  },
  {
   "cell_type": "markdown",
   "metadata": {},
   "source": [
    "We conclude that there are many **missing values** in the data, as it is not plausible to have whole months without any pageviews. We should keep this in mind when interpreting the data."
   ]
  },
  {
   "cell_type": "markdown",
   "metadata": {},
   "source": [
    "# Q1: Is the Chilling effect found persistent?"
   ]
  },
  {
   "cell_type": "code",
   "execution_count": 559,
   "metadata": {},
   "outputs": [],
   "source": [
    "# Helper function, performs all the necessary operations to prepare the data for ITS regression\n",
    "\n",
    "def prepare_data_for_regression(data):\n",
    "    pageviews_per_month = data.groupby(pd.Grouper(key='date', freq='M')).sum().reset_index()\n",
    "    # june 2013 and its index, where the months are counted from 1 to 32\n",
    "    june_2013 = pd.to_datetime('2013-06-30')\n",
    "    june_2013_index = 18 \n",
    "\n",
    "    # prepare columns for the regression\n",
    "    \n",
    "    # intervention is an indicator function, which takes the value 1 for rows after June 2013\n",
    "    pageviews_per_month['intervention'] = (pageviews_per_month.date >= june_2013).astype(int)\n",
    "\n",
    "    # time is the sequence [1,2,..,32] as we have 32 months\n",
    "    pageviews_per_month ['time'] = range(1,len(pageviews_per_month) + 1)\n",
    "\n",
    "    # post_slope is 0 before June 2013, then 1,2,.. starting June 2013\n",
    "    pageviews_per_month['post_slope'] = (pageviews_per_month['time'] - june_2013_index + 1) * \\\n",
    "                                         pageviews_per_month['intervention']\n",
    "    \n",
    "    return pageviews_per_month"
   ]
  },
  {
   "cell_type": "markdown",
   "metadata": {},
   "source": [
    "# Q2: Is the Chilling effect only restrained to English Wikipedia?"
   ]
  },
  {
   "cell_type": "markdown",
   "metadata": {},
   "source": [
    "## 2.1 Initial regression\n",
    "Here we perform the same ITS regression on the German Articles we retrieved in the Data Scraping section."
   ]
  },
  {
   "cell_type": "code",
   "execution_count": 560,
   "metadata": {},
   "outputs": [],
   "source": [
    "# filter all rows corresponding to the article about Hamas, for consistency with the paper\n",
    "data_de = data_de.query('(article != \"Hamas\")')\n",
    "\n",
    "# Keep the same date range as the paper\n",
    "data_de = data_de.loc[data_de.date <= '31-08-2014']"
   ]
  },
  {
   "cell_type": "code",
   "execution_count": 561,
   "metadata": {},
   "outputs": [
    {
     "data": {
      "text/html": [
       "<table class=\"simpletable\">\n",
       "<caption>OLS Regression Results</caption>\n",
       "<tr>\n",
       "  <th>Dep. Variable:</th>        <td>pageviews</td>    <th>  R-squared:         </th> <td>   0.498</td>\n",
       "</tr>\n",
       "<tr>\n",
       "  <th>Model:</th>                   <td>OLS</td>       <th>  Adj. R-squared:    </th> <td>   0.444</td>\n",
       "</tr>\n",
       "<tr>\n",
       "  <th>Method:</th>             <td>Least Squares</td>  <th>  F-statistic:       </th> <td>   9.266</td>\n",
       "</tr>\n",
       "<tr>\n",
       "  <th>Date:</th>             <td>Sat, 19 Dec 2020</td> <th>  Prob (F-statistic):</th> <td>0.000203</td>\n",
       "</tr>\n",
       "<tr>\n",
       "  <th>Time:</th>                 <td>01:10:30</td>     <th>  Log-Likelihood:    </th> <td> -401.46</td>\n",
       "</tr>\n",
       "<tr>\n",
       "  <th>No. Observations:</th>      <td>    32</td>      <th>  AIC:               </th> <td>   810.9</td>\n",
       "</tr>\n",
       "<tr>\n",
       "  <th>Df Residuals:</th>          <td>    28</td>      <th>  BIC:               </th> <td>   816.8</td>\n",
       "</tr>\n",
       "<tr>\n",
       "  <th>Df Model:</th>              <td>     3</td>      <th>                     </th>     <td> </td>   \n",
       "</tr>\n",
       "<tr>\n",
       "  <th>Covariance Type:</th>      <td>nonrobust</td>    <th>                     </th>     <td> </td>   \n",
       "</tr>\n",
       "</table>\n",
       "<table class=\"simpletable\">\n",
       "<tr>\n",
       "            <td></td>              <th>coef</th>     <th>std err</th>      <th>t</th>      <th>P>|t|</th>  <th>[0.025</th>    <th>0.975]</th>  \n",
       "</tr>\n",
       "<tr>\n",
       "  <th>Intercept</th>            <td> 4.779e+05</td> <td> 3.69e+04</td> <td>   12.966</td> <td> 0.000</td> <td> 4.02e+05</td> <td> 5.53e+05</td>\n",
       "</tr>\n",
       "<tr>\n",
       "  <th>C(intervention)[T.1]</th> <td>-8.544e+04</td> <td> 5.19e+04</td> <td>   -1.645</td> <td> 0.111</td> <td>-1.92e+05</td> <td> 2.09e+04</td>\n",
       "</tr>\n",
       "<tr>\n",
       "  <th>time</th>                 <td> -538.6985</td> <td> 3596.771</td> <td>   -0.150</td> <td> 0.882</td> <td>-7906.350</td> <td> 6828.952</td>\n",
       "</tr>\n",
       "<tr>\n",
       "  <th>post_slope</th>           <td>-4740.4158</td> <td> 5638.038</td> <td>   -0.841</td> <td> 0.408</td> <td>-1.63e+04</td> <td> 6808.581</td>\n",
       "</tr>\n",
       "</table>\n",
       "<table class=\"simpletable\">\n",
       "<tr>\n",
       "  <th>Omnibus:</th>       <td> 4.140</td> <th>  Durbin-Watson:     </th> <td>   1.716</td>\n",
       "</tr>\n",
       "<tr>\n",
       "  <th>Prob(Omnibus):</th> <td> 0.126</td> <th>  Jarque-Bera (JB):  </th> <td>   2.678</td>\n",
       "</tr>\n",
       "<tr>\n",
       "  <th>Skew:</th>          <td> 0.495</td> <th>  Prob(JB):          </th> <td>   0.262</td>\n",
       "</tr>\n",
       "<tr>\n",
       "  <th>Kurtosis:</th>      <td> 4.014</td> <th>  Cond. No.          </th> <td>    83.3</td>\n",
       "</tr>\n",
       "</table><br/><br/>Notes:<br/>[1] Standard Errors assume that the covariance matrix of the errors is correctly specified."
      ],
      "text/plain": [
       "<class 'statsmodels.iolib.summary.Summary'>\n",
       "\"\"\"\n",
       "                            OLS Regression Results                            \n",
       "==============================================================================\n",
       "Dep. Variable:              pageviews   R-squared:                       0.498\n",
       "Model:                            OLS   Adj. R-squared:                  0.444\n",
       "Method:                 Least Squares   F-statistic:                     9.266\n",
       "Date:                Sat, 19 Dec 2020   Prob (F-statistic):           0.000203\n",
       "Time:                        01:10:30   Log-Likelihood:                -401.46\n",
       "No. Observations:                  32   AIC:                             810.9\n",
       "Df Residuals:                      28   BIC:                             816.8\n",
       "Df Model:                           3                                         \n",
       "Covariance Type:            nonrobust                                         \n",
       "========================================================================================\n",
       "                           coef    std err          t      P>|t|      [0.025      0.975]\n",
       "----------------------------------------------------------------------------------------\n",
       "Intercept             4.779e+05   3.69e+04     12.966      0.000    4.02e+05    5.53e+05\n",
       "C(intervention)[T.1] -8.544e+04   5.19e+04     -1.645      0.111   -1.92e+05    2.09e+04\n",
       "time                  -538.6985   3596.771     -0.150      0.882   -7906.350    6828.952\n",
       "post_slope           -4740.4158   5638.038     -0.841      0.408   -1.63e+04    6808.581\n",
       "==============================================================================\n",
       "Omnibus:                        4.140   Durbin-Watson:                   1.716\n",
       "Prob(Omnibus):                  0.126   Jarque-Bera (JB):                2.678\n",
       "Skew:                           0.495   Prob(JB):                        0.262\n",
       "Kurtosis:                       4.014   Cond. No.                         83.3\n",
       "==============================================================================\n",
       "\n",
       "Notes:\n",
       "[1] Standard Errors assume that the covariance matrix of the errors is correctly specified.\n",
       "\"\"\""
      ]
     },
     "execution_count": 561,
     "metadata": {},
     "output_type": "execute_result"
    }
   ],
   "source": [
    "reg_data_de = prepare_data_for_regression(data_de)\n",
    "model_de = smf.ols(formula='pageviews ~ time + C(intervention) + post_slope', data=reg_data_de).fit()\n",
    "model_de.summary()"
   ]
  },
  {
   "cell_type": "markdown",
   "metadata": {},
   "source": [
    "The regression results show:\n",
    "* The model fit isn't great, we have an $Adj.R^2 = 0.444$ which is on the low side.\n",
    "* the pageviews seem not to depend much on time, meaning that the pageviews before and after the intervention fluctuate along a constant value.\n",
    "* There is **no statistically** significant effect of the intervention on the pageviews for German Wikipedia. "
   ]
  },
  {
   "cell_type": "code",
   "execution_count": 563,
   "metadata": {},
   "outputs": [],
   "source": [
    "preds_de = model_de.get_prediction(reg_data_de)\\\n",
    "                .summary_frame(alpha=0.05)[['mean','mean_ci_lower', 'mean_ci_upper']]"
   ]
  },
  {
   "cell_type": "code",
   "execution_count": 564,
   "metadata": {},
   "outputs": [
    {
     "data": {
      "image/png": "[encoded data removed]",
      "text/plain": [
       "<Figure size 720x360 with 1 Axes>"
      ]
     },
     "metadata": {
      "needs_background": "light"
     },
     "output_type": "display_data"
    }
   ],
   "source": [
    "# plotting the results\n",
    "plt.figure(figsize=(10,5)) \n",
    "\n",
    "# some useful indexes (in the dataframe), ticks, etc\n",
    "xticks = range(1, preds_de.shape[0] + 1)\n",
    "start_index = 1\n",
    "before_interruption_index = 17\n",
    "after_interruption_index = 18\n",
    "end_index = 32\n",
    "# equivalent indexes in the dataframe\n",
    "points_index = [start_index - 1, before_interruption_index - 1, after_interruption_index - 1, end_index - 1] \n",
    "# useful mask, when plotting CIs\n",
    "ci_mask_before = np.array(xticks) <= before_interruption_index\n",
    "\n",
    "\n",
    "# plot the article views\n",
    "plt.scatter(data=reg_data_de ,x='time', y='pageviews', marker='X', label='German articles')\n",
    "\n",
    "# Add ticks and a line representing the period just before the intervention\n",
    "plt.xticks(xticks)\n",
    "plt.axvline(x=after_interruption_index - 0.5, c='black', label='mid June 2013',ls='--')\n",
    "\n",
    "p1, p2, p3, p4 = preds_de.loc[points_index, 'mean']\n",
    "plt.plot ([start_index, before_interruption_index], [p1, p2] , c='brown', label= 'German article trend Pre-June 2013')\n",
    "plt.plot ([after_interruption_index, end_index], [p3, p4] ,c='brown', alpha=0.4, label= 'German article trend Post-June 2013')\n",
    "plt.fill_between(x=xticks, y1=preds_de['mean_ci_lower'], y2=preds_de['mean_ci_upper'],color='y', where=ci_mask_before, alpha=0.5, \\\n",
    "                 label='95% CI (Security articles)')\n",
    "plt.fill_between(x=xticks, y1=preds_de['mean_ci_lower'], y2=preds_de['mean_ci_upper'],color='y', where=~ci_mask_before, alpha=0.5)\n",
    "\n",
    "\n",
    "# Add Title, labels and legend \n",
    "plt.title (\"Pre and Post June 2013 Article View Trends For Terrorism German Wikipedia related articles.\")\n",
    "plt.xlabel(\"Time (Months)\")\n",
    "plt.ylabel(\"Total views\")\n",
    "plt.legend()\n",
    "\n",
    "# Keep only the horizontal grid\n",
    "plt.grid (False, axis='x')\n",
    "plt.grid (True, axis='y')\n",
    "plt.tight_layout()\n",
    "\n",
    "\n",
    "plt.savefig('figures/reg_german.png')\n",
    "plt.show()\n",
    "\n"
   ]
  },
  {
   "cell_type": "markdown",
   "metadata": {},
   "source": [
    "## 2.1 Data considered removed suicide bomber\n",
    "difference here:  \n",
    "why here:"
   ]
  },
  {
   "cell_type": "code",
   "execution_count": 567,
   "metadata": {},
   "outputs": [],
   "source": [
    "terrorism_articles_en = ['Abu Sayyaf', 'afghanistan', 'Agro-terrorism', 'al-qaeda',\n",
    "       'Al-Qaeda in the Arabian Peninsula',\n",
    "       'Al-Qaeda in the Islamic Maghreb', 'al-shabaab',\n",
    "       'ammonium_nitrate', 'Offensive (military)', 'biological_weapon', 'car_bomb',\n",
    "       'chemical_weapon', 'conventional_weapon', 'dirty_bomb',\n",
    "       'eco-terrorism', 'environmental_terrorism',\n",
    "       'Euskadi ta Askatasuna', 'extremism', 'farc', 'fundamentalism',\n",
    "       'hamas', 'hezbollah', 'improvised_explosive_device', 'iran',\n",
    "       'iraq', 'Irish Republican Army', 'islamist', 'jihad',\n",
    "       'nationalism', 'nigeria', 'Nuclear weapon', 'nuclear_enrichment',\n",
    "       'pakistan', 'Palestine Liberation Front', 'pirates', 'PLO',\n",
    "       'political_radicalism', 'recruitment', 'somalia', 'suicide_attack',\n",
    "        'taliban', 'tamil_tigers',\n",
    "       'Tehrik-i-Taliban Pakistan', 'Terror (politics)', 'terrorism',\n",
    "       'weapons-grade', 'yemen']\n",
    "\n",
    "categories_selected_de = ['Kategorie:Afghanistan', 'Kategorie:Afghanistankrieg (seit 1978)', 'Kategorie:Al-Qaida',\n",
    "                          'Kategorie:Antisemitismus', 'Kategorie:Anti-Freimaurerei','Kategorie:Antizionismus',\n",
    "                          'Kategorie:Asymmetrische Kriegführung', 'Kategorie:Attentat', 'Kategorie:Bewaffnete islamistische Organisation',\n",
    "                          'Kategorie:Bewaffnete islamistische Organisation', 'Kategorie:Bewaffnete islamistische Untergrundorganisation',\n",
    "                          'Kategorie:Bombe', 'Kategorie:Hamas', 'Kategorie:Hisbollah','Kategorie:Islamische Republik',\n",
    "                          'Kategorie:Islamistischer Terrorismus','Kategorie:Terrorismus', 'Kategorie:Taliban']"
   ]
  },
  {
   "cell_type": "markdown",
   "metadata": {},
   "source": [
    "### 2.1.1 English"
   ]
  },
  {
   "cell_type": "code",
   "execution_count": 569,
   "metadata": {},
   "outputs": [],
   "source": [
    "# Get pageview data for the newly defined articles\n",
    "pageviews_en = get_pageview_data(terrorism_articles_en, ['2012', '2013','2014'], 'en', save_csv=False) "
   ]
  },
  {
   "cell_type": "code",
   "execution_count": 311,
   "metadata": {},
   "outputs": [],
   "source": [
    "# # We only keep the articles that have a  meaningful amount of pageviews, or that are direct translations of an English article\n",
    "# pageviews_en.loc[:,'pageviews'] = pageviews_en['pageviews'].astype(int)\n",
    "# total_pageviews_en = pageviews_en.groupby('article')['pageviews'].sum() \n",
    "# articles_kept_en = total_pageviews_en[total_pageviews_en > 10000].index.unique()\n",
    "# pageviews_en = pageviews_en[pageviews_en.article.isin(articles_kept_en)]"
   ]
  },
  {
   "cell_type": "code",
   "execution_count": 570,
   "metadata": {},
   "outputs": [
    {
     "data": {
      "text/plain": [
       "47"
      ]
     },
     "execution_count": 570,
     "metadata": {},
     "output_type": "execute_result"
    }
   ],
   "source": [
    "len(pageviews_en.article.unique())"
   ]
  },
  {
   "cell_type": "code",
   "execution_count": 571,
   "metadata": {},
   "outputs": [
    {
     "data": {
      "text/html": [
       "<div>\n",
       "<style scoped>\n",
       "    .dataframe tbody tr th:only-of-type {\n",
       "        vertical-align: middle;\n",
       "    }\n",
       "\n",
       "    .dataframe tbody tr th {\n",
       "        vertical-align: top;\n",
       "    }\n",
       "\n",
       "    .dataframe thead th {\n",
       "        text-align: right;\n",
       "    }\n",
       "</style>\n",
       "<table border=\"1\" class=\"dataframe\">\n",
       "  <thead>\n",
       "    <tr style=\"text-align: right;\">\n",
       "      <th></th>\n",
       "      <th>date</th>\n",
       "      <th>article</th>\n",
       "      <th>language</th>\n",
       "      <th>pageviews</th>\n",
       "    </tr>\n",
       "  </thead>\n",
       "  <tbody>\n",
       "    <tr>\n",
       "      <th>0</th>\n",
       "      <td>2012-01-01</td>\n",
       "      <td>Abu Sayyaf</td>\n",
       "      <td>en</td>\n",
       "      <td>254</td>\n",
       "    </tr>\n",
       "    <tr>\n",
       "      <th>1</th>\n",
       "      <td>2012-01-02</td>\n",
       "      <td>Abu Sayyaf</td>\n",
       "      <td>en</td>\n",
       "      <td>351</td>\n",
       "    </tr>\n",
       "    <tr>\n",
       "      <th>2</th>\n",
       "      <td>2012-01-03</td>\n",
       "      <td>Abu Sayyaf</td>\n",
       "      <td>en</td>\n",
       "      <td>423</td>\n",
       "    </tr>\n",
       "    <tr>\n",
       "      <th>3</th>\n",
       "      <td>2012-01-04</td>\n",
       "      <td>Abu Sayyaf</td>\n",
       "      <td>en</td>\n",
       "      <td>418</td>\n",
       "    </tr>\n",
       "    <tr>\n",
       "      <th>4</th>\n",
       "      <td>2012-01-05</td>\n",
       "      <td>Abu Sayyaf</td>\n",
       "      <td>en</td>\n",
       "      <td>804</td>\n",
       "    </tr>\n",
       "  </tbody>\n",
       "</table>\n",
       "</div>"
      ],
      "text/plain": [
       "        date     article language pageviews\n",
       "0 2012-01-01  Abu Sayyaf       en       254\n",
       "1 2012-01-02  Abu Sayyaf       en       351\n",
       "2 2012-01-03  Abu Sayyaf       en       423\n",
       "3 2012-01-04  Abu Sayyaf       en       418\n",
       "4 2012-01-05  Abu Sayyaf       en       804"
      ]
     },
     "execution_count": 571,
     "metadata": {},
     "output_type": "execute_result"
    }
   ],
   "source": [
    "pageviews_en.head()"
   ]
  },
  {
   "cell_type": "code",
   "execution_count": 572,
   "metadata": {},
   "outputs": [],
   "source": [
    "# Helper function, retrieves page summaries, optinnally look for other languages equivalents\n",
    "def get_page_summaries(pages, lang, look_for_other_lang=False, other_lang='de'):\n",
    "\n",
    "    summaries = []\n",
    "    wiki = wikipediaapi.Wikipedia(lang)\n",
    "    \n",
    "    for page in pages:\n",
    "        try:\n",
    "            # find the desired page\n",
    "            page_en = wiki.page(page)\n",
    "            if look_for_other_lang:\n",
    "                # try to find the different language equivalent, return None otherwise\n",
    "                page_other = page_en.langlinks.get(other_lang, None)\n",
    "                page_other_title = page_other.title if page_other else None\n",
    "                summaries.append({f'article_{lang}': page, f'summary_{lang}': page_en.summary, \n",
    "                      f'article_{other_lang}': page_other_title})\n",
    "            else:\n",
    "                summaries.append({f'article_{lang}': page, f'summary_{lang}': page_en.summary})\n",
    "\n",
    "        except:\n",
    "            print(f\"problem fetching data for page: {page}\", file=sys.stderr)\n",
    "            continue\n",
    "        \n",
    "    return pd.DataFrame(summaries)"
   ]
  },
  {
   "cell_type": "code",
   "execution_count": 574,
   "metadata": {},
   "outputs": [],
   "source": [
    "summaries_en = get_page_summaries(pageviews_en.article.unique(), 'en', look_for_other_lang=True, other_lang='de')"
   ]
  },
  {
   "cell_type": "code",
   "execution_count": 576,
   "metadata": {},
   "outputs": [
    {
     "data": {
      "text/html": [
       "<div>\n",
       "<style scoped>\n",
       "    .dataframe tbody tr th:only-of-type {\n",
       "        vertical-align: middle;\n",
       "    }\n",
       "\n",
       "    .dataframe tbody tr th {\n",
       "        vertical-align: top;\n",
       "    }\n",
       "\n",
       "    .dataframe thead th {\n",
       "        text-align: right;\n",
       "    }\n",
       "</style>\n",
       "<table border=\"1\" class=\"dataframe\">\n",
       "  <thead>\n",
       "    <tr style=\"text-align: right;\">\n",
       "      <th></th>\n",
       "      <th>article_en</th>\n",
       "      <th>summary_en</th>\n",
       "      <th>article_de</th>\n",
       "    </tr>\n",
       "  </thead>\n",
       "  <tbody>\n",
       "    <tr>\n",
       "      <th>0</th>\n",
       "      <td>Abu Sayyaf</td>\n",
       "      <td>Abu Sayyaf ( (listen); Arabic: جماعة أبو سياف‎...</td>\n",
       "      <td>Abu Sajaf</td>\n",
       "    </tr>\n",
       "    <tr>\n",
       "      <th>1</th>\n",
       "      <td>afghanistan</td>\n",
       "      <td>Afghanistan ( (listen), also pronounced /ævˈɡæ...</td>\n",
       "      <td>Afghanistan</td>\n",
       "    </tr>\n",
       "    <tr>\n",
       "      <th>2</th>\n",
       "      <td>Agro-terrorism</td>\n",
       "      <td>Agroterrorism, also known as agriterrorism and...</td>\n",
       "      <td>Agroterrorismus</td>\n",
       "    </tr>\n",
       "    <tr>\n",
       "      <th>3</th>\n",
       "      <td>al-qaeda</td>\n",
       "      <td>Al-Qaeda (; Arabic: القاعدة‎ al-Qāʿidah, IPA: ...</td>\n",
       "      <td>Al-Qaida</td>\n",
       "    </tr>\n",
       "    <tr>\n",
       "      <th>4</th>\n",
       "      <td>Al-Qaeda in the Arabian Peninsula</td>\n",
       "      <td>Al-Qaeda in the Arabian Peninsula (Arabic: تنظ...</td>\n",
       "      <td>Al-Qaida auf der Arabischen Halbinsel</td>\n",
       "    </tr>\n",
       "  </tbody>\n",
       "</table>\n",
       "</div>"
      ],
      "text/plain": [
       "                          article_en  \\\n",
       "0                         Abu Sayyaf   \n",
       "1                        afghanistan   \n",
       "2                     Agro-terrorism   \n",
       "3                           al-qaeda   \n",
       "4  Al-Qaeda in the Arabian Peninsula   \n",
       "\n",
       "                                          summary_en  \\\n",
       "0  Abu Sayyaf ( (listen); Arabic: جماعة أبو سياف‎...   \n",
       "1  Afghanistan ( (listen), also pronounced /ævˈɡæ...   \n",
       "2  Agroterrorism, also known as agriterrorism and...   \n",
       "3  Al-Qaeda (; Arabic: القاعدة‎ al-Qāʿidah, IPA: ...   \n",
       "4  Al-Qaeda in the Arabian Peninsula (Arabic: تنظ...   \n",
       "\n",
       "                              article_de  \n",
       "0                              Abu Sajaf  \n",
       "1                            Afghanistan  \n",
       "2                        Agroterrorismus  \n",
       "3                               Al-Qaida  \n",
       "4  Al-Qaida auf der Arabischen Halbinsel  "
      ]
     },
     "execution_count": 576,
     "metadata": {},
     "output_type": "execute_result"
    }
   ],
   "source": [
    "summaries_en.head()"
   ]
  },
  {
   "cell_type": "markdown",
   "metadata": {},
   "source": [
    "### 2.1.2 German"
   ]
  },
  {
   "cell_type": "code",
   "execution_count": 577,
   "metadata": {},
   "outputs": [],
   "source": [
    "# Helper function, to consider a wide range of pages, Retrieves all articles of a given category\n",
    "def get_members_of_category(cat, lang, level=0, max_level=1):\n",
    "    wiki = wikipediaapi.Wikipedia(lang)\n",
    "    category_page = wiki.page(cat)\n",
    "    all_pages_in_cat = []\n",
    "    for c in category_page.categorymembers.values(): \n",
    "        if c.ns == wikipediaapi.Namespace.CATEGORY and level < max_level:\n",
    "            all_pages_in_cat.extend(get_members_of_category(c, lang, level+1, max_level))\n",
    "        elif c.ns == wikipediaapi.Namespace.MAIN: # check that page represents an article\n",
    "            all_pages_in_cat.append(c.title)\n",
    "    \n",
    "    return all_pages_in_cat"
   ]
  },
  {
   "cell_type": "code",
   "execution_count": 578,
   "metadata": {},
   "outputs": [],
   "source": [
    "# Fetch all members of the selected categories\n",
    "articles_de = set(summaries_en['article_de'].dropna())\n",
    "for category in categories_selected_de:\n",
    "    articles_de.update(get_members_of_category(category,'de', 0, 5))"
   ]
  },
  {
   "cell_type": "code",
   "execution_count": 579,
   "metadata": {},
   "outputs": [
    {
     "name": "stdout",
     "output_type": "stream",
     "text": [
      "['Able Danger', 'Joshua Ryne Goldberg', 'Jamaat-ul-Mujahideen Bangladesh', 'Hamas-Charta', 'Revolutionäre Zellen (Deutschland)', 'Chalid Maschal', 'AN-M50', 'Russisches Forschungs- und Bildungszentrum „Holocaust“', 'Stabbrandbombe', 'Ritualmordvorwurf von Skurcz']\n"
     ]
    }
   ],
   "source": [
    "articles_de = list(articles_de)\n",
    "print(articles_de[:10])"
   ]
  },
  {
   "cell_type": "code",
   "execution_count": 580,
   "metadata": {},
   "outputs": [
    {
     "name": "stdout",
     "output_type": "stream",
     "text": [
      "Problem fetching data for article Ritualmordvorwurf von Skurcz\n",
      "Problem fetching data for article Antisemitismus in der Türkei\n",
      "Problem fetching data for article Beschädigung des Tagebuchs der Anne Frank\n",
      "Problem fetching data for article B53/W53 (Kernwaffe)\n",
      "Problem fetching data for article Itzig (Ethnophaulismus)\n",
      "Problem fetching data for article Vertreibung von Juden aus arabischen und islamischen Ländern\n",
      "Problem fetching data for article Liste von Anschlägen der Allied Democratic Forces\n",
      "Problem fetching data for article Jamaat-ul-Ahrar\n",
      "Problem fetching data for article Jugendwiderstand (Berliner Gruppe)\n",
      "Problem fetching data for article GBU-53/B\n",
      "Problem fetching data for article ASh-2\n",
      "Problem fetching data for article Goyim Partei Deutschland\n",
      "Problem fetching data for article Antisemitismus beim Aalster Karnevalsumzug\n",
      "Problem fetching data for article Geschichte des Antisemitismus seit 1945\n",
      "Problem fetching data for article Julie Manheimer\n",
      "Problem fetching data for article Attentat auf August Gölzer\n",
      "Problem fetching data for article Robin de Ruiter\n",
      "Problem fetching data for article Schwarze Troika\n",
      "Problem fetching data for article Zyklon Beatz\n",
      "Problem fetching data for article Dissau Crime\n",
      "Problem fetching data for article Hasm-Bewegung\n",
      "Problem fetching data for article Marco Furlan\n",
      "Problem fetching data for article Judentum in Armenien\n",
      "Problem fetching data for article Nationale Islamische Bewegung Afghanistans\n",
      "Problem fetching data for article Franc-tireurs\n",
      "Problem fetching data for article Ostküste (Schimpfwort)\n",
      "Problem fetching data for article Attentat in der Via Rasella\n",
      "Problem fetching data for article Jaish ul-Adl\n",
      "Problem fetching data for article Umbrella Man (JFK-Attentat)\n",
      "Problem fetching data for article Mordfall Selimchan Changoschwili\n",
      "Problem fetching data for article Geschichte des Antisemitismus bis 1945\n",
      "Problem fetching data for article Fusgeyer\n",
      "Problem fetching data for article Juye-Vorfall\n",
      "Problem fetching data for article National Thowheeth Jama’ath\n",
      "Problem fetching data for article GBU-43/B Massive Ordnance Air Blast\n",
      "Problem fetching data for article Terroranschlag in Sri Lanka am Ostersonntag 2019\n",
      "Problem fetching data for article Norat Ter-Grigorjanz\n",
      "Problem fetching data for article Zoobin\n",
      "Problem fetching data for article Pogrom von Wąsosz\n",
      "Problem fetching data for article Fribourg-Konferenz 1948\n",
      "Problem fetching data for article HOPE/HOSBO\n",
      "Problem fetching data for article Eisenbahn-Attentat von Rechovot\n",
      "Problem fetching data for article Liechtenstein in der Zeit des Nationalsozialismus\n",
      "Problem fetching data for article Geschichte der Irisch-Republikanischen Armee\n",
      "Problem fetching data for article Opération Sentinelle\n",
      "Problem fetching data for article Bernhard-Kreis\n",
      "Problem fetching data for article Rote Armee Fraktion (Japan)\n",
      "Problem fetching data for article Nacht der ermordeten Dichter\n",
      "Problem fetching data for article Inlandsterrorismus\n",
      "Problem fetching data for article Payitaht Abdülhamid\n",
      "Problem fetching data for article Attentat in Annapolis\n",
      "Problem fetching data for article Ausschreitungen in Chemnitz 2018\n",
      "Problem fetching data for article Resolution 46/86 der UN-Generalversammlung\n",
      "Problem fetching data for article Bangsamoro Islamic Freedom Fighters\n",
      "Problem fetching data for article Werner Dittrich (Rassentheoretiker)\n",
      "Problem fetching data for article Operation Nördlicher Schutzschild\n",
      "Problem fetching data for article Antiterrordateigesetz\n",
      "Problem fetching data for article Combined Action Program\n",
      "Problem fetching data for article Antisemitismus in Belgien\n",
      "Problem fetching data for article Phineas-Priesterschaft\n",
      "Problem fetching data for article Attentat in der Tree-of-Life-Synagoge in Pittsburgh 2018\n",
      "Problem fetching data for article Schändung jüdischer Friedhöfe\n",
      "Problem fetching data for article Mauscheln (Verb)\n",
      "Problem fetching data for article Anastasia-Bewegung\n",
      "Problem fetching data for article Ar-Rahman-Legion\n",
      "Problem fetching data for article Anschlag auf eine Synagoge in Poway\n",
      "Problem fetching data for article Unsterbliche Tonkunst\n",
      "Problem fetching data for article Resolution 647 des UN-Sicherheitsrates\n",
      "Problem fetching data for article (((echo)))\n",
      "Problem fetching data for article Beauftragter der Bundesregierung für jüdisches Leben in Deutschland und den Kampf gegen Antisemitismus\n",
      "Problem fetching data for article Anschlag in Jersey City\n",
      "Problem fetching data for article Grenzzaun (Konstanz)\n",
      "Problem fetching data for article Terroranschlag in Sierra Leone am 8. November 1998\n",
      "Problem fetching data for article Augstein-Debatte\n",
      "Problem fetching data for article Liste von Anschlägen auf Juden und jüdische Einrichtungen in den Vereinigten Staaten\n",
      "Problem fetching data for article Terrorabwehr in Israel\n",
      "Problem fetching data for article Dari-Persisch\n",
      "Problem fetching data for article Geronimo (Roman)\n",
      "Problem fetching data for article Runda Kumpulan Kecil\n",
      "Problem fetching data for article Operation Neptune Spear\n",
      "Problem fetching data for article New Order (Organisation)\n",
      "Problem fetching data for article Elza-Niyego-Krawalle\n",
      "Problem fetching data for article Initiative GG 5.3 Weltoffenheit\n",
      "Problem fetching data for article Massaker von Tykocin\n",
      "Problem fetching data for article Forces occultes\n",
      "Problem fetching data for article Jewish Voice for Peace\n",
      "Problem fetching data for article Radau-Antisemitismus\n",
      "Problem fetching data for article Erich Meyer (Rassentheoretiker)\n"
     ]
    }
   ],
   "source": [
    "pageviews_de = get_pageview_data(articles_de, ['2012', '2013','2014'], 'de', save_csv=False)"
   ]
  },
  {
   "cell_type": "code",
   "execution_count": 581,
   "metadata": {},
   "outputs": [
    {
     "data": {
      "text/html": [
       "<div>\n",
       "<style scoped>\n",
       "    .dataframe tbody tr th:only-of-type {\n",
       "        vertical-align: middle;\n",
       "    }\n",
       "\n",
       "    .dataframe tbody tr th {\n",
       "        vertical-align: top;\n",
       "    }\n",
       "\n",
       "    .dataframe thead th {\n",
       "        text-align: right;\n",
       "    }\n",
       "</style>\n",
       "<table border=\"1\" class=\"dataframe\">\n",
       "  <thead>\n",
       "    <tr style=\"text-align: right;\">\n",
       "      <th></th>\n",
       "      <th>date</th>\n",
       "      <th>article</th>\n",
       "      <th>language</th>\n",
       "      <th>pageviews</th>\n",
       "    </tr>\n",
       "  </thead>\n",
       "  <tbody>\n",
       "    <tr>\n",
       "      <th>0</th>\n",
       "      <td>2012-01-01</td>\n",
       "      <td>Able Danger</td>\n",
       "      <td>de</td>\n",
       "      <td>9</td>\n",
       "    </tr>\n",
       "    <tr>\n",
       "      <th>1</th>\n",
       "      <td>2012-01-02</td>\n",
       "      <td>Able Danger</td>\n",
       "      <td>de</td>\n",
       "      <td>0</td>\n",
       "    </tr>\n",
       "    <tr>\n",
       "      <th>2</th>\n",
       "      <td>2012-01-03</td>\n",
       "      <td>Able Danger</td>\n",
       "      <td>de</td>\n",
       "      <td>13</td>\n",
       "    </tr>\n",
       "    <tr>\n",
       "      <th>3</th>\n",
       "      <td>2012-01-04</td>\n",
       "      <td>Able Danger</td>\n",
       "      <td>de</td>\n",
       "      <td>11</td>\n",
       "    </tr>\n",
       "    <tr>\n",
       "      <th>4</th>\n",
       "      <td>2012-01-05</td>\n",
       "      <td>Able Danger</td>\n",
       "      <td>de</td>\n",
       "      <td>6</td>\n",
       "    </tr>\n",
       "  </tbody>\n",
       "</table>\n",
       "</div>"
      ],
      "text/plain": [
       "        date      article language pageviews\n",
       "0 2012-01-01  Able Danger       de         9\n",
       "1 2012-01-02  Able Danger       de         0\n",
       "2 2012-01-03  Able Danger       de        13\n",
       "3 2012-01-04  Able Danger       de        11\n",
       "4 2012-01-05  Able Danger       de         6"
      ]
     },
     "execution_count": 581,
     "metadata": {},
     "output_type": "execute_result"
    }
   ],
   "source": [
    "pageviews_de.head()"
   ]
  },
  {
   "cell_type": "code",
   "execution_count": 582,
   "metadata": {},
   "outputs": [],
   "source": [
    "# We only keep the articles that have a  meaningful amount of pageviews, or that are direct translations of an English \n",
    "pageviews_de['pageviews'] = pageviews_de['pageviews'].astype(int)\n",
    "total_pageviews = pageviews_de.groupby('article')['pageviews'].sum() \n",
    "articles_kept = total_pageviews[total_pageviews > 10000].index.unique()\n",
    "pageviews_de = pageviews_de[pageviews_de.article.isin(articles_kept) | \n",
    "                            pageviews_de.article.isin(summaries_en.article_de.dropna().unique())]"
   ]
  },
  {
   "cell_type": "code",
   "execution_count": 583,
   "metadata": {},
   "outputs": [
    {
     "data": {
      "text/html": [
       "<div>\n",
       "<style scoped>\n",
       "    .dataframe tbody tr th:only-of-type {\n",
       "        vertical-align: middle;\n",
       "    }\n",
       "\n",
       "    .dataframe tbody tr th {\n",
       "        vertical-align: top;\n",
       "    }\n",
       "\n",
       "    .dataframe thead th {\n",
       "        text-align: right;\n",
       "    }\n",
       "</style>\n",
       "<table border=\"1\" class=\"dataframe\">\n",
       "  <thead>\n",
       "    <tr style=\"text-align: right;\">\n",
       "      <th></th>\n",
       "      <th>article_en</th>\n",
       "      <th>summary_en</th>\n",
       "      <th>article_de</th>\n",
       "    </tr>\n",
       "  </thead>\n",
       "  <tbody>\n",
       "    <tr>\n",
       "      <th>8</th>\n",
       "      <td>Offensive (military)</td>\n",
       "      <td>An offensive is a military operation that seek...</td>\n",
       "      <td>None</td>\n",
       "    </tr>\n",
       "    <tr>\n",
       "      <th>9</th>\n",
       "      <td>biological_weapon</td>\n",
       "      <td>A biological agent (also called bio-agent, bio...</td>\n",
       "      <td>None</td>\n",
       "    </tr>\n",
       "    <tr>\n",
       "      <th>12</th>\n",
       "      <td>conventional_weapon</td>\n",
       "      <td>The terms conventional weapons or conventional...</td>\n",
       "      <td>None</td>\n",
       "    </tr>\n",
       "    <tr>\n",
       "      <th>13</th>\n",
       "      <td>dirty_bomb</td>\n",
       "      <td>A dirty bomb or radiological dispersal device ...</td>\n",
       "      <td>None</td>\n",
       "    </tr>\n",
       "    <tr>\n",
       "      <th>15</th>\n",
       "      <td>environmental_terrorism</td>\n",
       "      <td>Environmental terrorism consists of one or mor...</td>\n",
       "      <td>None</td>\n",
       "    </tr>\n",
       "    <tr>\n",
       "      <th>25</th>\n",
       "      <td>Irish Republican Army</td>\n",
       "      <td>The Irish Republican Army (IRA) is a name used...</td>\n",
       "      <td>Geschichte der Irisch-Republikanischen Armee</td>\n",
       "    </tr>\n",
       "    <tr>\n",
       "      <th>36</th>\n",
       "      <td>political_radicalism</td>\n",
       "      <td>Radical politics denotes the intent to transfo...</td>\n",
       "      <td>None</td>\n",
       "    </tr>\n",
       "    <tr>\n",
       "      <th>45</th>\n",
       "      <td>weapons-grade</td>\n",
       "      <td>Weapons-grade nuclear material  is any fission...</td>\n",
       "      <td>None</td>\n",
       "    </tr>\n",
       "  </tbody>\n",
       "</table>\n",
       "</div>"
      ],
      "text/plain": [
       "                 article_en  \\\n",
       "8      Offensive (military)   \n",
       "9         biological_weapon   \n",
       "12      conventional_weapon   \n",
       "13               dirty_bomb   \n",
       "15  environmental_terrorism   \n",
       "25    Irish Republican Army   \n",
       "36     political_radicalism   \n",
       "45            weapons-grade   \n",
       "\n",
       "                                           summary_en  \\\n",
       "8   An offensive is a military operation that seek...   \n",
       "9   A biological agent (also called bio-agent, bio...   \n",
       "12  The terms conventional weapons or conventional...   \n",
       "13  A dirty bomb or radiological dispersal device ...   \n",
       "15  Environmental terrorism consists of one or mor...   \n",
       "25  The Irish Republican Army (IRA) is a name used...   \n",
       "36  Radical politics denotes the intent to transfo...   \n",
       "45  Weapons-grade nuclear material  is any fission...   \n",
       "\n",
       "                                      article_de  \n",
       "8                                           None  \n",
       "9                                           None  \n",
       "12                                          None  \n",
       "13                                          None  \n",
       "15                                          None  \n",
       "25  Geschichte der Irisch-Republikanischen Armee  \n",
       "36                                          None  \n",
       "45                                          None  "
      ]
     },
     "execution_count": 583,
     "metadata": {},
     "output_type": "execute_result"
    }
   ],
   "source": [
    "# Quick verification that we have all articles we want to keep \n",
    "summaries_en[~summaries_en['article_de'].isin(pageviews_de.article.unique())]"
   ]
  },
  {
   "cell_type": "code",
   "execution_count": 584,
   "metadata": {},
   "outputs": [],
   "source": [
    "# get summaries, drop duplicates in case two page names link to the same page\n",
    "summaries_de = get_page_summaries(pageviews_de.article.unique(), 'de', look_for_other_lang=False).drop_duplicates(['summary_de'])"
   ]
  },
  {
   "cell_type": "code",
   "execution_count": 585,
   "metadata": {},
   "outputs": [],
   "source": [
    "summaries_de = summaries_de.loc[~summaries_de.article_de.isin(summaries_en.article_de.unique())]"
   ]
  },
  {
   "cell_type": "code",
   "execution_count": 586,
   "metadata": {},
   "outputs": [
    {
     "data": {
      "text/html": [
       "<div>\n",
       "<style scoped>\n",
       "    .dataframe tbody tr th:only-of-type {\n",
       "        vertical-align: middle;\n",
       "    }\n",
       "\n",
       "    .dataframe tbody tr th {\n",
       "        vertical-align: top;\n",
       "    }\n",
       "\n",
       "    .dataframe thead th {\n",
       "        text-align: right;\n",
       "    }\n",
       "</style>\n",
       "<table border=\"1\" class=\"dataframe\">\n",
       "  <thead>\n",
       "    <tr style=\"text-align: right;\">\n",
       "      <th></th>\n",
       "      <th>article_de</th>\n",
       "      <th>summary_de</th>\n",
       "    </tr>\n",
       "  </thead>\n",
       "  <tbody>\n",
       "    <tr>\n",
       "      <th>0</th>\n",
       "      <td>Revolutionäre Zellen (Deutschland)</td>\n",
       "      <td>Die Revolutionären Zellen (RZ) waren eine link...</td>\n",
       "    </tr>\n",
       "    <tr>\n",
       "      <th>1</th>\n",
       "      <td>Chalid Maschal</td>\n",
       "      <td>Chalid Maschal (* Mai 1956 in Silwad bei Ramal...</td>\n",
       "    </tr>\n",
       "    <tr>\n",
       "      <th>2</th>\n",
       "      <td>Stabbrandbombe</td>\n",
       "      <td>Die Stabbrandbombe, auch Brandstab oder Elektr...</td>\n",
       "    </tr>\n",
       "    <tr>\n",
       "      <th>3</th>\n",
       "      <td>Jemaah Islamiyah</td>\n",
       "      <td>Jemaah Islamiyah (JI; arabisch الجماعة الإسلام...</td>\n",
       "    </tr>\n",
       "    <tr>\n",
       "      <th>4</th>\n",
       "      <td>Flugzeugentführung</td>\n",
       "      <td>Eine Flugzeugentführung (auch Luftpiraterie, e...</td>\n",
       "    </tr>\n",
       "  </tbody>\n",
       "</table>\n",
       "</div>"
      ],
      "text/plain": [
       "                           article_de  \\\n",
       "0  Revolutionäre Zellen (Deutschland)   \n",
       "1                      Chalid Maschal   \n",
       "2                      Stabbrandbombe   \n",
       "3                    Jemaah Islamiyah   \n",
       "4                  Flugzeugentführung   \n",
       "\n",
       "                                          summary_de  \n",
       "0  Die Revolutionären Zellen (RZ) waren eine link...  \n",
       "1  Chalid Maschal (* Mai 1956 in Silwad bei Ramal...  \n",
       "2  Die Stabbrandbombe, auch Brandstab oder Elektr...  \n",
       "3  Jemaah Islamiyah (JI; arabisch الجماعة الإسلام...  \n",
       "4  Eine Flugzeugentführung (auch Luftpiraterie, e...  "
      ]
     },
     "execution_count": 586,
     "metadata": {},
     "output_type": "execute_result"
    }
   ],
   "source": [
    "summaries_de.head()"
   ]
  },
  {
   "cell_type": "markdown",
   "metadata": {},
   "source": [
    "## 2.2. Matching"
   ]
  },
  {
   "cell_type": "code",
   "execution_count": 593,
   "metadata": {},
   "outputs": [],
   "source": [
    "treated_subjects = summaries_en.copy().loc[~summaries_en.article_de.isin(pageviews_de.article)]\n",
    "untreated_subjects = summaries_de.copy()"
   ]
  },
  {
   "cell_type": "code",
   "execution_count": 594,
   "metadata": {},
   "outputs": [
    {
     "data": {
      "text/html": [
       "<div>\n",
       "<style scoped>\n",
       "    .dataframe tbody tr th:only-of-type {\n",
       "        vertical-align: middle;\n",
       "    }\n",
       "\n",
       "    .dataframe tbody tr th {\n",
       "        vertical-align: top;\n",
       "    }\n",
       "\n",
       "    .dataframe thead th {\n",
       "        text-align: right;\n",
       "    }\n",
       "</style>\n",
       "<table border=\"1\" class=\"dataframe\">\n",
       "  <thead>\n",
       "    <tr style=\"text-align: right;\">\n",
       "      <th></th>\n",
       "      <th>article_en</th>\n",
       "      <th>summary_en</th>\n",
       "      <th>article_de</th>\n",
       "    </tr>\n",
       "  </thead>\n",
       "  <tbody>\n",
       "    <tr>\n",
       "      <th>8</th>\n",
       "      <td>Offensive (military)</td>\n",
       "      <td>An offensive is a military operation that seek...</td>\n",
       "      <td>None</td>\n",
       "    </tr>\n",
       "    <tr>\n",
       "      <th>9</th>\n",
       "      <td>biological_weapon</td>\n",
       "      <td>A biological agent (also called bio-agent, bio...</td>\n",
       "      <td>None</td>\n",
       "    </tr>\n",
       "    <tr>\n",
       "      <th>12</th>\n",
       "      <td>conventional_weapon</td>\n",
       "      <td>The terms conventional weapons or conventional...</td>\n",
       "      <td>None</td>\n",
       "    </tr>\n",
       "    <tr>\n",
       "      <th>13</th>\n",
       "      <td>dirty_bomb</td>\n",
       "      <td>A dirty bomb or radiological dispersal device ...</td>\n",
       "      <td>None</td>\n",
       "    </tr>\n",
       "    <tr>\n",
       "      <th>15</th>\n",
       "      <td>environmental_terrorism</td>\n",
       "      <td>Environmental terrorism consists of one or mor...</td>\n",
       "      <td>None</td>\n",
       "    </tr>\n",
       "    <tr>\n",
       "      <th>25</th>\n",
       "      <td>Irish Republican Army</td>\n",
       "      <td>The Irish Republican Army (IRA) is a name used...</td>\n",
       "      <td>Geschichte der Irisch-Republikanischen Armee</td>\n",
       "    </tr>\n",
       "    <tr>\n",
       "      <th>36</th>\n",
       "      <td>political_radicalism</td>\n",
       "      <td>Radical politics denotes the intent to transfo...</td>\n",
       "      <td>None</td>\n",
       "    </tr>\n",
       "    <tr>\n",
       "      <th>45</th>\n",
       "      <td>weapons-grade</td>\n",
       "      <td>Weapons-grade nuclear material  is any fission...</td>\n",
       "      <td>None</td>\n",
       "    </tr>\n",
       "  </tbody>\n",
       "</table>\n",
       "</div>"
      ],
      "text/plain": [
       "                 article_en  \\\n",
       "8      Offensive (military)   \n",
       "9         biological_weapon   \n",
       "12      conventional_weapon   \n",
       "13               dirty_bomb   \n",
       "15  environmental_terrorism   \n",
       "25    Irish Republican Army   \n",
       "36     political_radicalism   \n",
       "45            weapons-grade   \n",
       "\n",
       "                                           summary_en  \\\n",
       "8   An offensive is a military operation that seek...   \n",
       "9   A biological agent (also called bio-agent, bio...   \n",
       "12  The terms conventional weapons or conventional...   \n",
       "13  A dirty bomb or radiological dispersal device ...   \n",
       "15  Environmental terrorism consists of one or mor...   \n",
       "25  The Irish Republican Army (IRA) is a name used...   \n",
       "36  Radical politics denotes the intent to transfo...   \n",
       "45  Weapons-grade nuclear material  is any fission...   \n",
       "\n",
       "                                      article_de  \n",
       "8                                           None  \n",
       "9                                           None  \n",
       "12                                          None  \n",
       "13                                          None  \n",
       "15                                          None  \n",
       "25  Geschichte der Irisch-Republikanischen Armee  \n",
       "36                                          None  \n",
       "45                                          None  "
      ]
     },
     "execution_count": 594,
     "metadata": {},
     "output_type": "execute_result"
    }
   ],
   "source": [
    "treated_subjects"
   ]
  },
  {
   "cell_type": "code",
   "execution_count": 595,
   "metadata": {},
   "outputs": [
    {
     "data": {
      "text/html": [
       "<div>\n",
       "<style scoped>\n",
       "    .dataframe tbody tr th:only-of-type {\n",
       "        vertical-align: middle;\n",
       "    }\n",
       "\n",
       "    .dataframe tbody tr th {\n",
       "        vertical-align: top;\n",
       "    }\n",
       "\n",
       "    .dataframe thead th {\n",
       "        text-align: right;\n",
       "    }\n",
       "</style>\n",
       "<table border=\"1\" class=\"dataframe\">\n",
       "  <thead>\n",
       "    <tr style=\"text-align: right;\">\n",
       "      <th></th>\n",
       "      <th>article_de</th>\n",
       "      <th>summary_de</th>\n",
       "    </tr>\n",
       "  </thead>\n",
       "  <tbody>\n",
       "    <tr>\n",
       "      <th>0</th>\n",
       "      <td>Revolutionäre Zellen (Deutschland)</td>\n",
       "      <td>Die Revolutionären Zellen (RZ) waren eine link...</td>\n",
       "    </tr>\n",
       "    <tr>\n",
       "      <th>1</th>\n",
       "      <td>Chalid Maschal</td>\n",
       "      <td>Chalid Maschal (* Mai 1956 in Silwad bei Ramal...</td>\n",
       "    </tr>\n",
       "    <tr>\n",
       "      <th>2</th>\n",
       "      <td>Stabbrandbombe</td>\n",
       "      <td>Die Stabbrandbombe, auch Brandstab oder Elektr...</td>\n",
       "    </tr>\n",
       "    <tr>\n",
       "      <th>3</th>\n",
       "      <td>Jemaah Islamiyah</td>\n",
       "      <td>Jemaah Islamiyah (JI; arabisch الجماعة الإسلام...</td>\n",
       "    </tr>\n",
       "    <tr>\n",
       "      <th>4</th>\n",
       "      <td>Flugzeugentführung</td>\n",
       "      <td>Eine Flugzeugentführung (auch Luftpiraterie, e...</td>\n",
       "    </tr>\n",
       "  </tbody>\n",
       "</table>\n",
       "</div>"
      ],
      "text/plain": [
       "                           article_de  \\\n",
       "0  Revolutionäre Zellen (Deutschland)   \n",
       "1                      Chalid Maschal   \n",
       "2                      Stabbrandbombe   \n",
       "3                    Jemaah Islamiyah   \n",
       "4                  Flugzeugentführung   \n",
       "\n",
       "                                          summary_de  \n",
       "0  Die Revolutionären Zellen (RZ) waren eine link...  \n",
       "1  Chalid Maschal (* Mai 1956 in Silwad bei Ramal...  \n",
       "2  Die Stabbrandbombe, auch Brandstab oder Elektr...  \n",
       "3  Jemaah Islamiyah (JI; arabisch الجماعة الإسلام...  \n",
       "4  Eine Flugzeugentführung (auch Luftpiraterie, e...  "
      ]
     },
     "execution_count": 595,
     "metadata": {},
     "output_type": "execute_result"
    }
   ],
   "source": [
    "untreated_subjects.head()"
   ]
  },
  {
   "cell_type": "code",
   "execution_count": 596,
   "metadata": {},
   "outputs": [],
   "source": [
    "# We need unique indices between the two frames for the matching\n",
    "untreated_subjects = untreated_subjects.set_index(pd.RangeIndex(max(treated_subjects.index) + 1, \n",
    "                                                                max(treated_subjects.index) + 1 + len(untreated_subjects)))\n",
    "\n"
   ]
  },
  {
   "cell_type": "code",
   "execution_count": 597,
   "metadata": {},
   "outputs": [],
   "source": [
    "nlp_en = spacy.load('en')\n",
    "nlp_de = spacy.load('de')"
   ]
  },
  {
   "cell_type": "code",
   "execution_count": 598,
   "metadata": {},
   "outputs": [],
   "source": [
    "def remove_everything_in_parenth_or_brackets (text):\n",
    "    n = 1  \n",
    "    while n:\n",
    "        text1 = text\n",
    "        text, n = re.subn(r'\\([^()]*\\)', '', text)\n",
    "        \n",
    "    return text"
   ]
  },
  {
   "cell_type": "code",
   "execution_count": 599,
   "metadata": {},
   "outputs": [],
   "source": [
    "treated_subjects.loc[:,'summary_en'] = treated_subjects['summary_en'].apply(remove_everything_in_parenth_or_brackets)\n",
    "untreated_subjects.loc[:,'summary_de'] = untreated_subjects['summary_de'].apply(remove_everything_in_parenth_or_brackets)"
   ]
  },
  {
   "cell_type": "code",
   "execution_count": 600,
   "metadata": {},
   "outputs": [
    {
     "data": {
      "text/html": [
       "<div>\n",
       "<style scoped>\n",
       "    .dataframe tbody tr th:only-of-type {\n",
       "        vertical-align: middle;\n",
       "    }\n",
       "\n",
       "    .dataframe tbody tr th {\n",
       "        vertical-align: top;\n",
       "    }\n",
       "\n",
       "    .dataframe thead th {\n",
       "        text-align: right;\n",
       "    }\n",
       "</style>\n",
       "<table border=\"1\" class=\"dataframe\">\n",
       "  <thead>\n",
       "    <tr style=\"text-align: right;\">\n",
       "      <th></th>\n",
       "      <th>article_en</th>\n",
       "      <th>summary_en</th>\n",
       "      <th>article_de</th>\n",
       "    </tr>\n",
       "  </thead>\n",
       "  <tbody>\n",
       "    <tr>\n",
       "      <th>8</th>\n",
       "      <td>Offensive (military)</td>\n",
       "      <td>An offensive is a military operation that seek...</td>\n",
       "      <td>None</td>\n",
       "    </tr>\n",
       "    <tr>\n",
       "      <th>9</th>\n",
       "      <td>biological_weapon</td>\n",
       "      <td>A biological agent  is a bacterium, virus, pro...</td>\n",
       "      <td>None</td>\n",
       "    </tr>\n",
       "    <tr>\n",
       "      <th>12</th>\n",
       "      <td>conventional_weapon</td>\n",
       "      <td>The terms conventional weapons or conventional...</td>\n",
       "      <td>None</td>\n",
       "    </tr>\n",
       "    <tr>\n",
       "      <th>13</th>\n",
       "      <td>dirty_bomb</td>\n",
       "      <td>A dirty bomb or radiological dispersal device ...</td>\n",
       "      <td>None</td>\n",
       "    </tr>\n",
       "    <tr>\n",
       "      <th>15</th>\n",
       "      <td>environmental_terrorism</td>\n",
       "      <td>Environmental terrorism consists of one or mor...</td>\n",
       "      <td>None</td>\n",
       "    </tr>\n",
       "  </tbody>\n",
       "</table>\n",
       "</div>"
      ],
      "text/plain": [
       "                 article_en  \\\n",
       "8      Offensive (military)   \n",
       "9         biological_weapon   \n",
       "12      conventional_weapon   \n",
       "13               dirty_bomb   \n",
       "15  environmental_terrorism   \n",
       "\n",
       "                                           summary_en article_de  \n",
       "8   An offensive is a military operation that seek...       None  \n",
       "9   A biological agent  is a bacterium, virus, pro...       None  \n",
       "12  The terms conventional weapons or conventional...       None  \n",
       "13  A dirty bomb or radiological dispersal device ...       None  \n",
       "15  Environmental terrorism consists of one or mor...       None  "
      ]
     },
     "execution_count": 600,
     "metadata": {},
     "output_type": "execute_result"
    }
   ],
   "source": [
    "treated_subjects.head()"
   ]
  },
  {
   "cell_type": "code",
   "execution_count": 601,
   "metadata": {},
   "outputs": [],
   "source": [
    "treated_subjects['summary_en'] = treated_subjects['summary_en'].apply(\\\n",
    "    lambda text: [token.lemma_.lower() for token in nlp_en(text) if not token.is_stop and not token.is_punct \\\n",
    "                                                and not token.is_space and not token.is_digit])\n",
    "\n",
    "untreated_subjects['summary_de'] = untreated_subjects['summary_de'].apply(\\\n",
    "    lambda text: [token.lemma_.lower() for token in nlp_de(text) if not token.is_stop and not token.is_punct \\\n",
    "                                                and not token.is_space and not token.is_digit])"
   ]
  },
  {
   "cell_type": "code",
   "execution_count": 602,
   "metadata": {},
   "outputs": [
    {
     "data": {
      "text/html": [
       "<div>\n",
       "<style scoped>\n",
       "    .dataframe tbody tr th:only-of-type {\n",
       "        vertical-align: middle;\n",
       "    }\n",
       "\n",
       "    .dataframe tbody tr th {\n",
       "        vertical-align: top;\n",
       "    }\n",
       "\n",
       "    .dataframe thead th {\n",
       "        text-align: right;\n",
       "    }\n",
       "</style>\n",
       "<table border=\"1\" class=\"dataframe\">\n",
       "  <thead>\n",
       "    <tr style=\"text-align: right;\">\n",
       "      <th></th>\n",
       "      <th>article_en</th>\n",
       "      <th>summary_en</th>\n",
       "      <th>article_de</th>\n",
       "    </tr>\n",
       "  </thead>\n",
       "  <tbody>\n",
       "    <tr>\n",
       "      <th>8</th>\n",
       "      <td>Offensive (military)</td>\n",
       "      <td>[offensive, military, operation, seek, aggress...</td>\n",
       "      <td>None</td>\n",
       "    </tr>\n",
       "    <tr>\n",
       "      <th>9</th>\n",
       "      <td>biological_weapon</td>\n",
       "      <td>[biological, agent, bacterium, virus, protozoa...</td>\n",
       "      <td>None</td>\n",
       "    </tr>\n",
       "    <tr>\n",
       "      <th>12</th>\n",
       "      <td>conventional_weapon</td>\n",
       "      <td>[term, conventional, weapon, conventional, arm...</td>\n",
       "      <td>None</td>\n",
       "    </tr>\n",
       "    <tr>\n",
       "      <th>13</th>\n",
       "      <td>dirty_bomb</td>\n",
       "      <td>[dirty, bomb, radiological, dispersal, device,...</td>\n",
       "      <td>None</td>\n",
       "    </tr>\n",
       "    <tr>\n",
       "      <th>15</th>\n",
       "      <td>environmental_terrorism</td>\n",
       "      <td>[environmental, terrorism, consist, unlawful, ...</td>\n",
       "      <td>None</td>\n",
       "    </tr>\n",
       "    <tr>\n",
       "      <th>25</th>\n",
       "      <td>Irish Republican Army</td>\n",
       "      <td>[irish, republican, army, paramilitary, organi...</td>\n",
       "      <td>Geschichte der Irisch-Republikanischen Armee</td>\n",
       "    </tr>\n",
       "    <tr>\n",
       "      <th>36</th>\n",
       "      <td>political_radicalism</td>\n",
       "      <td>[radical, politic, denote, intent, transform, ...</td>\n",
       "      <td>None</td>\n",
       "    </tr>\n",
       "    <tr>\n",
       "      <th>45</th>\n",
       "      <td>weapons-grade</td>\n",
       "      <td>[weapon, grade, nuclear, material, fissionable...</td>\n",
       "      <td>None</td>\n",
       "    </tr>\n",
       "  </tbody>\n",
       "</table>\n",
       "</div>"
      ],
      "text/plain": [
       "                 article_en  \\\n",
       "8      Offensive (military)   \n",
       "9         biological_weapon   \n",
       "12      conventional_weapon   \n",
       "13               dirty_bomb   \n",
       "15  environmental_terrorism   \n",
       "25    Irish Republican Army   \n",
       "36     political_radicalism   \n",
       "45            weapons-grade   \n",
       "\n",
       "                                           summary_en  \\\n",
       "8   [offensive, military, operation, seek, aggress...   \n",
       "9   [biological, agent, bacterium, virus, protozoa...   \n",
       "12  [term, conventional, weapon, conventional, arm...   \n",
       "13  [dirty, bomb, radiological, dispersal, device,...   \n",
       "15  [environmental, terrorism, consist, unlawful, ...   \n",
       "25  [irish, republican, army, paramilitary, organi...   \n",
       "36  [radical, politic, denote, intent, transform, ...   \n",
       "45  [weapon, grade, nuclear, material, fissionable...   \n",
       "\n",
       "                                      article_de  \n",
       "8                                           None  \n",
       "9                                           None  \n",
       "12                                          None  \n",
       "13                                          None  \n",
       "15                                          None  \n",
       "25  Geschichte der Irisch-Republikanischen Armee  \n",
       "36                                          None  \n",
       "45                                          None  "
      ]
     },
     "execution_count": 602,
     "metadata": {},
     "output_type": "execute_result"
    }
   ],
   "source": [
    "treated_subjects"
   ]
  },
  {
   "cell_type": "code",
   "execution_count": 603,
   "metadata": {},
   "outputs": [],
   "source": [
    "def load_words_to_id(language):\n",
    "    language_to_embeddings_path = {'en': os.path.join(os.getcwd(), 'data/wiki.multi.en.vec'),\n",
    "                                   'de': os.path.join(os.getcwd(), 'data/wiki.multi.de.vec')}\n",
    "    path = language_to_embeddings_path[language]\n",
    "    vectors = []\n",
    "    word2id = {}\n",
    "    nmax = 50000\n",
    "    with open(path, 'r', encoding='utf-8', newline='\\n', errors='ignore') as f:\n",
    "        next(f)\n",
    "        for i, line in enumerate(f):\n",
    "            word, vect = line.rstrip().split(' ', 1)\n",
    "            vect = np.fromstring(vect, sep=' ')\n",
    "            assert word not in word2id, 'word found twice'\n",
    "            vectors.append(vect)\n",
    "            word2id[word] = len(word2id)\n",
    "            if len(word2id) == nmax:\n",
    "                break\n",
    "    embeddings = np.vstack(vectors)\n",
    "    return embeddings, word2id"
   ]
  },
  {
   "cell_type": "code",
   "execution_count": 604,
   "metadata": {},
   "outputs": [],
   "source": [
    "def encode_tokens(tokens, word2id, embeddings):\n",
    "    num_words = 0\n",
    "    embedding = np.zeros(embeddings.shape[1], dtype='float')\n",
    "    for token in tokens:\n",
    "        if token in word2id.keys():\n",
    "            num_words += 1\n",
    "            embedding += embeddings[word2id[token]]\n",
    "\n",
    "    if num_words:\n",
    "        return (1.0 / num_words) * embedding\n",
    "    else: \n",
    "        return None"
   ]
  },
  {
   "cell_type": "code",
   "execution_count": 606,
   "metadata": {},
   "outputs": [],
   "source": [
    "embeddings_en, word2id_en = load_words_to_id('en')\n",
    "embeddings_de, word2id_de = load_words_to_id('de')"
   ]
  },
  {
   "cell_type": "code",
   "execution_count": 607,
   "metadata": {},
   "outputs": [],
   "source": [
    "treated_subjects ['embedding'] = treated_subjects['summary_en'].apply(lambda tokens: encode_tokens(tokens, word2id_en, embeddings_en)).dropna()\n",
    "untreated_subjects ['embedding'] = untreated_subjects['summary_de'].apply(lambda tokens: encode_tokens(tokens, word2id_de, embeddings_de)).dropna()"
   ]
  },
  {
   "cell_type": "code",
   "execution_count": 608,
   "metadata": {},
   "outputs": [
    {
     "data": {
      "text/html": [
       "<div>\n",
       "<style scoped>\n",
       "    .dataframe tbody tr th:only-of-type {\n",
       "        vertical-align: middle;\n",
       "    }\n",
       "\n",
       "    .dataframe tbody tr th {\n",
       "        vertical-align: top;\n",
       "    }\n",
       "\n",
       "    .dataframe thead th {\n",
       "        text-align: right;\n",
       "    }\n",
       "</style>\n",
       "<table border=\"1\" class=\"dataframe\">\n",
       "  <thead>\n",
       "    <tr style=\"text-align: right;\">\n",
       "      <th></th>\n",
       "      <th>article_en</th>\n",
       "      <th>summary_en</th>\n",
       "      <th>article_de</th>\n",
       "      <th>embedding</th>\n",
       "    </tr>\n",
       "  </thead>\n",
       "  <tbody>\n",
       "    <tr>\n",
       "      <th>8</th>\n",
       "      <td>Offensive (military)</td>\n",
       "      <td>[offensive, military, operation, seek, aggress...</td>\n",
       "      <td>None</td>\n",
       "      <td>[-0.045200569493975884, -0.013187373120481927,...</td>\n",
       "    </tr>\n",
       "    <tr>\n",
       "      <th>9</th>\n",
       "      <td>biological_weapon</td>\n",
       "      <td>[biological, agent, bacterium, virus, protozoa...</td>\n",
       "      <td>None</td>\n",
       "      <td>[-0.02164757363636364, -0.0020241432363636374,...</td>\n",
       "    </tr>\n",
       "    <tr>\n",
       "      <th>12</th>\n",
       "      <td>conventional_weapon</td>\n",
       "      <td>[term, conventional, weapon, conventional, arm...</td>\n",
       "      <td>None</td>\n",
       "      <td>[-0.024059189776470577, -0.001761592235294118,...</td>\n",
       "    </tr>\n",
       "    <tr>\n",
       "      <th>13</th>\n",
       "      <td>dirty_bomb</td>\n",
       "      <td>[dirty, bomb, radiological, dispersal, device,...</td>\n",
       "      <td>None</td>\n",
       "      <td>[-0.017058472155279496, -0.020324143242236022,...</td>\n",
       "    </tr>\n",
       "    <tr>\n",
       "      <th>15</th>\n",
       "      <td>environmental_terrorism</td>\n",
       "      <td>[environmental, terrorism, consist, unlawful, ...</td>\n",
       "      <td>None</td>\n",
       "      <td>[-0.031086960869565222, -0.02217722608695652, ...</td>\n",
       "    </tr>\n",
       "    <tr>\n",
       "      <th>25</th>\n",
       "      <td>Irish Republican Army</td>\n",
       "      <td>[irish, republican, army, paramilitary, organi...</td>\n",
       "      <td>Geschichte der Irisch-Republikanischen Armee</td>\n",
       "      <td>[-0.030475807076411954, -0.019536336378737543,...</td>\n",
       "    </tr>\n",
       "    <tr>\n",
       "      <th>36</th>\n",
       "      <td>political_radicalism</td>\n",
       "      <td>[radical, politic, denote, intent, transform, ...</td>\n",
       "      <td>None</td>\n",
       "      <td>[-0.031015485283018875, -0.0004143260000000006...</td>\n",
       "    </tr>\n",
       "    <tr>\n",
       "      <th>45</th>\n",
       "      <td>weapons-grade</td>\n",
       "      <td>[weapon, grade, nuclear, material, fissionable...</td>\n",
       "      <td>None</td>\n",
       "      <td>[-0.014505330150943397, 0.0062471370754717, -0...</td>\n",
       "    </tr>\n",
       "  </tbody>\n",
       "</table>\n",
       "</div>"
      ],
      "text/plain": [
       "                 article_en  \\\n",
       "8      Offensive (military)   \n",
       "9         biological_weapon   \n",
       "12      conventional_weapon   \n",
       "13               dirty_bomb   \n",
       "15  environmental_terrorism   \n",
       "25    Irish Republican Army   \n",
       "36     political_radicalism   \n",
       "45            weapons-grade   \n",
       "\n",
       "                                           summary_en  \\\n",
       "8   [offensive, military, operation, seek, aggress...   \n",
       "9   [biological, agent, bacterium, virus, protozoa...   \n",
       "12  [term, conventional, weapon, conventional, arm...   \n",
       "13  [dirty, bomb, radiological, dispersal, device,...   \n",
       "15  [environmental, terrorism, consist, unlawful, ...   \n",
       "25  [irish, republican, army, paramilitary, organi...   \n",
       "36  [radical, politic, denote, intent, transform, ...   \n",
       "45  [weapon, grade, nuclear, material, fissionable...   \n",
       "\n",
       "                                      article_de  \\\n",
       "8                                           None   \n",
       "9                                           None   \n",
       "12                                          None   \n",
       "13                                          None   \n",
       "15                                          None   \n",
       "25  Geschichte der Irisch-Republikanischen Armee   \n",
       "36                                          None   \n",
       "45                                          None   \n",
       "\n",
       "                                            embedding  \n",
       "8   [-0.045200569493975884, -0.013187373120481927,...  \n",
       "9   [-0.02164757363636364, -0.0020241432363636374,...  \n",
       "12  [-0.024059189776470577, -0.001761592235294118,...  \n",
       "13  [-0.017058472155279496, -0.020324143242236022,...  \n",
       "15  [-0.031086960869565222, -0.02217722608695652, ...  \n",
       "25  [-0.030475807076411954, -0.019536336378737543,...  \n",
       "36  [-0.031015485283018875, -0.0004143260000000006...  \n",
       "45  [-0.014505330150943397, 0.0062471370754717, -0...  "
      ]
     },
     "execution_count": 608,
     "metadata": {},
     "output_type": "execute_result"
    }
   ],
   "source": [
    "treated_subjects"
   ]
  },
  {
   "cell_type": "code",
   "execution_count": 609,
   "metadata": {},
   "outputs": [
    {
     "data": {
      "text/html": [
       "<div>\n",
       "<style scoped>\n",
       "    .dataframe tbody tr th:only-of-type {\n",
       "        vertical-align: middle;\n",
       "    }\n",
       "\n",
       "    .dataframe tbody tr th {\n",
       "        vertical-align: top;\n",
       "    }\n",
       "\n",
       "    .dataframe thead th {\n",
       "        text-align: right;\n",
       "    }\n",
       "</style>\n",
       "<table border=\"1\" class=\"dataframe\">\n",
       "  <thead>\n",
       "    <tr style=\"text-align: right;\">\n",
       "      <th></th>\n",
       "      <th>article_de</th>\n",
       "      <th>summary_de</th>\n",
       "      <th>embedding</th>\n",
       "    </tr>\n",
       "  </thead>\n",
       "  <tbody>\n",
       "    <tr>\n",
       "      <th>46</th>\n",
       "      <td>Revolutionäre Zellen (Deutschland)</td>\n",
       "      <td>[revolutionäre, zelle, linksextremistische, te...</td>\n",
       "      <td>[-0.01110966523333333, -0.023824544000000003, ...</td>\n",
       "    </tr>\n",
       "    <tr>\n",
       "      <th>47</th>\n",
       "      <td>Chalid Maschal</td>\n",
       "      <td>[chalid, maschal, politisch, führer, terrorist...</td>\n",
       "      <td>[-0.011817033333333333, -0.10026096666666665, ...</td>\n",
       "    </tr>\n",
       "    <tr>\n",
       "      <th>48</th>\n",
       "      <td>Stabbrandbombe</td>\n",
       "      <td>[stabbrandbombe, brandstab, elektron-thermitst...</td>\n",
       "      <td>[-0.008376395409090912, -0.007429548599999997,...</td>\n",
       "    </tr>\n",
       "    <tr>\n",
       "      <th>49</th>\n",
       "      <td>Jemaah Islamiyah</td>\n",
       "      <td>[jemaah, islamiyah, islamistische, terrororgan...</td>\n",
       "      <td>[-0.04771811538461538, -0.05309238161538461, -...</td>\n",
       "    </tr>\n",
       "    <tr>\n",
       "      <th>50</th>\n",
       "      <td>Flugzeugentführung</td>\n",
       "      <td>[flugzeugentführung, übernahme, bordgewalt, fl...</td>\n",
       "      <td>[-0.012249028309523811, -0.034362487619047616,...</td>\n",
       "    </tr>\n",
       "  </tbody>\n",
       "</table>\n",
       "</div>"
      ],
      "text/plain": [
       "                            article_de  \\\n",
       "46  Revolutionäre Zellen (Deutschland)   \n",
       "47                      Chalid Maschal   \n",
       "48                      Stabbrandbombe   \n",
       "49                    Jemaah Islamiyah   \n",
       "50                  Flugzeugentführung   \n",
       "\n",
       "                                           summary_de  \\\n",
       "46  [revolutionäre, zelle, linksextremistische, te...   \n",
       "47  [chalid, maschal, politisch, führer, terrorist...   \n",
       "48  [stabbrandbombe, brandstab, elektron-thermitst...   \n",
       "49  [jemaah, islamiyah, islamistische, terrororgan...   \n",
       "50  [flugzeugentführung, übernahme, bordgewalt, fl...   \n",
       "\n",
       "                                            embedding  \n",
       "46  [-0.01110966523333333, -0.023824544000000003, ...  \n",
       "47  [-0.011817033333333333, -0.10026096666666665, ...  \n",
       "48  [-0.008376395409090912, -0.007429548599999997,...  \n",
       "49  [-0.04771811538461538, -0.05309238161538461, -...  \n",
       "50  [-0.012249028309523811, -0.034362487619047616,...  "
      ]
     },
     "execution_count": 609,
     "metadata": {},
     "output_type": "execute_result"
    }
   ],
   "source": [
    "untreated_subjects.head()"
   ]
  },
  {
   "cell_type": "code",
   "execution_count": 610,
   "metadata": {},
   "outputs": [],
   "source": [
    "# Drop null embedding articles\n",
    "untreated_subjects = untreated_subjects.loc[~untreated_subjects['embedding'].isnull()]\n",
    "treated_subjects = treated_subjects.loc[~treated_subjects['embedding'].isnull()]"
   ]
  },
  {
   "cell_type": "code",
   "execution_count": 611,
   "metadata": {},
   "outputs": [],
   "source": [
    "embedding_array_treated = np.array([x for x in treated_subjects['embedding']])\n",
    "embedding_array_untreated = np.array([x for x in untreated_subjects['embedding']])"
   ]
  },
  {
   "cell_type": "code",
   "execution_count": 612,
   "metadata": {},
   "outputs": [
    {
     "name": "stdout",
     "output_type": "stream",
     "text": [
      "(256, 300)\n",
      "(8, 300)\n"
     ]
    }
   ],
   "source": [
    "print(embedding_array_untreated.shape)\n",
    "print(embedding_array_treated.shape)"
   ]
  },
  {
   "cell_type": "code",
   "execution_count": 613,
   "metadata": {},
   "outputs": [
    {
     "name": "stdout",
     "output_type": "stream",
     "text": [
      "(8, 256)\n"
     ]
    }
   ],
   "source": [
    "cos_similarities = cosine_similarity(embedding_array_treated, embedding_array_untreated)\n",
    "print(cos_similarities.shape)"
   ]
  },
  {
   "cell_type": "code",
   "execution_count": 623,
   "metadata": {},
   "outputs": [],
   "source": [
    "Gx = nx.Graph()\n",
    "# indexes in similarity matrix\n",
    "index_treated_matrix = dict(zip(treated_subjects.index, range(len(treated_subjects))))\n",
    "index_untreated_matrix = dict(zip(untreated_subjects.index, range(len(untreated_subjects))))\n",
    "\n",
    "for treat_idx, treated in treated_subjects.iterrows():\n",
    "    for untreat_idx, untreated in untreated_subjects.iterrows():\n",
    "        similarity = cos_similarities[index_treated_matrix[treat_idx], index_untreated_matrix[untreat_idx]]\n",
    "        Gx.add_weighted_edges_from([(treat_idx, untreat_idx, similarity)])\n",
    "matching = nx.max_weight_matching(Gx, maxcardinality=True)        "
   ]
  },
  {
   "cell_type": "code",
   "execution_count": 624,
   "metadata": {},
   "outputs": [
    {
     "data": {
      "text/plain": [
       "{(8, 72),\n",
       " (9, 76),\n",
       " (25, 300),\n",
       " (88, 45),\n",
       " (178, 13),\n",
       " (193, 15),\n",
       " (265, 12),\n",
       " (298, 36)}"
      ]
     },
     "execution_count": 624,
     "metadata": {},
     "output_type": "execute_result"
    }
   ],
   "source": [
    "matching"
   ]
  },
  {
   "cell_type": "code",
   "execution_count": 625,
   "metadata": {},
   "outputs": [],
   "source": [
    "# This method returns the indexes corresponding to the treated and the untreated rows respectively, after the matching\n",
    "def get_treated_untreated_indexes (matching, treated_index):\n",
    "    treated = []\n",
    "    untreated = []\n",
    "    for left, right in matching:\n",
    "        if left in treated_index:\n",
    "            treated.append(left)\n",
    "            untreated.append(right)       \n",
    "        else:\n",
    "            treated.append(right)\n",
    "            untreated.append(left) \n",
    "        \n",
    "    return treated, untreated"
   ]
  },
  {
   "cell_type": "code",
   "execution_count": 626,
   "metadata": {},
   "outputs": [],
   "source": [
    "en_article_indexes, de_article_indexes = get_treated_untreated_indexes(matching, treated_subjects.index)"
   ]
  },
  {
   "cell_type": "code",
   "execution_count": 627,
   "metadata": {},
   "outputs": [],
   "source": [
    "testing_en = treated_subjects.loc[en_article_indexes]\n",
    "testing_de = untreated_subjects.loc[de_article_indexes]"
   ]
  },
  {
   "cell_type": "code",
   "execution_count": 628,
   "metadata": {},
   "outputs": [
    {
     "data": {
      "text/html": [
       "<div>\n",
       "<style scoped>\n",
       "    .dataframe tbody tr th:only-of-type {\n",
       "        vertical-align: middle;\n",
       "    }\n",
       "\n",
       "    .dataframe tbody tr th {\n",
       "        vertical-align: top;\n",
       "    }\n",
       "\n",
       "    .dataframe thead th {\n",
       "        text-align: right;\n",
       "    }\n",
       "</style>\n",
       "<table border=\"1\" class=\"dataframe\">\n",
       "  <thead>\n",
       "    <tr style=\"text-align: right;\">\n",
       "      <th></th>\n",
       "      <th>article_en</th>\n",
       "      <th>summary_en</th>\n",
       "      <th>article_de</th>\n",
       "      <th>embedding</th>\n",
       "    </tr>\n",
       "  </thead>\n",
       "  <tbody>\n",
       "    <tr>\n",
       "      <th>15</th>\n",
       "      <td>environmental_terrorism</td>\n",
       "      <td>[environmental, terrorism, consist, unlawful, ...</td>\n",
       "      <td>None</td>\n",
       "      <td>[-0.031086960869565222, -0.02217722608695652, ...</td>\n",
       "    </tr>\n",
       "    <tr>\n",
       "      <th>8</th>\n",
       "      <td>Offensive (military)</td>\n",
       "      <td>[offensive, military, operation, seek, aggress...</td>\n",
       "      <td>None</td>\n",
       "      <td>[-0.045200569493975884, -0.013187373120481927,...</td>\n",
       "    </tr>\n",
       "    <tr>\n",
       "      <th>36</th>\n",
       "      <td>political_radicalism</td>\n",
       "      <td>[radical, politic, denote, intent, transform, ...</td>\n",
       "      <td>None</td>\n",
       "      <td>[-0.031015485283018875, -0.0004143260000000006...</td>\n",
       "    </tr>\n",
       "    <tr>\n",
       "      <th>45</th>\n",
       "      <td>weapons-grade</td>\n",
       "      <td>[weapon, grade, nuclear, material, fissionable...</td>\n",
       "      <td>None</td>\n",
       "      <td>[-0.014505330150943397, 0.0062471370754717, -0...</td>\n",
       "    </tr>\n",
       "    <tr>\n",
       "      <th>13</th>\n",
       "      <td>dirty_bomb</td>\n",
       "      <td>[dirty, bomb, radiological, dispersal, device,...</td>\n",
       "      <td>None</td>\n",
       "      <td>[-0.017058472155279496, -0.020324143242236022,...</td>\n",
       "    </tr>\n",
       "    <tr>\n",
       "      <th>9</th>\n",
       "      <td>biological_weapon</td>\n",
       "      <td>[biological, agent, bacterium, virus, protozoa...</td>\n",
       "      <td>None</td>\n",
       "      <td>[-0.02164757363636364, -0.0020241432363636374,...</td>\n",
       "    </tr>\n",
       "    <tr>\n",
       "      <th>12</th>\n",
       "      <td>conventional_weapon</td>\n",
       "      <td>[term, conventional, weapon, conventional, arm...</td>\n",
       "      <td>None</td>\n",
       "      <td>[-0.024059189776470577, -0.001761592235294118,...</td>\n",
       "    </tr>\n",
       "    <tr>\n",
       "      <th>25</th>\n",
       "      <td>Irish Republican Army</td>\n",
       "      <td>[irish, republican, army, paramilitary, organi...</td>\n",
       "      <td>Geschichte der Irisch-Republikanischen Armee</td>\n",
       "      <td>[-0.030475807076411954, -0.019536336378737543,...</td>\n",
       "    </tr>\n",
       "  </tbody>\n",
       "</table>\n",
       "</div>"
      ],
      "text/plain": [
       "                 article_en  \\\n",
       "15  environmental_terrorism   \n",
       "8      Offensive (military)   \n",
       "36     political_radicalism   \n",
       "45            weapons-grade   \n",
       "13               dirty_bomb   \n",
       "9         biological_weapon   \n",
       "12      conventional_weapon   \n",
       "25    Irish Republican Army   \n",
       "\n",
       "                                           summary_en  \\\n",
       "15  [environmental, terrorism, consist, unlawful, ...   \n",
       "8   [offensive, military, operation, seek, aggress...   \n",
       "36  [radical, politic, denote, intent, transform, ...   \n",
       "45  [weapon, grade, nuclear, material, fissionable...   \n",
       "13  [dirty, bomb, radiological, dispersal, device,...   \n",
       "9   [biological, agent, bacterium, virus, protozoa...   \n",
       "12  [term, conventional, weapon, conventional, arm...   \n",
       "25  [irish, republican, army, paramilitary, organi...   \n",
       "\n",
       "                                      article_de  \\\n",
       "15                                          None   \n",
       "8                                           None   \n",
       "36                                          None   \n",
       "45                                          None   \n",
       "13                                          None   \n",
       "9                                           None   \n",
       "12                                          None   \n",
       "25  Geschichte der Irisch-Republikanischen Armee   \n",
       "\n",
       "                                            embedding  \n",
       "15  [-0.031086960869565222, -0.02217722608695652, ...  \n",
       "8   [-0.045200569493975884, -0.013187373120481927,...  \n",
       "36  [-0.031015485283018875, -0.0004143260000000006...  \n",
       "45  [-0.014505330150943397, 0.0062471370754717, -0...  \n",
       "13  [-0.017058472155279496, -0.020324143242236022,...  \n",
       "9   [-0.02164757363636364, -0.0020241432363636374,...  \n",
       "12  [-0.024059189776470577, -0.001761592235294118,...  \n",
       "25  [-0.030475807076411954, -0.019536336378737543,...  "
      ]
     },
     "execution_count": 628,
     "metadata": {},
     "output_type": "execute_result"
    }
   ],
   "source": [
    "testing_en"
   ]
  },
  {
   "cell_type": "code",
   "execution_count": 629,
   "metadata": {},
   "outputs": [
    {
     "data": {
      "text/html": [
       "<div>\n",
       "<style scoped>\n",
       "    .dataframe tbody tr th:only-of-type {\n",
       "        vertical-align: middle;\n",
       "    }\n",
       "\n",
       "    .dataframe tbody tr th {\n",
       "        vertical-align: top;\n",
       "    }\n",
       "\n",
       "    .dataframe thead th {\n",
       "        text-align: right;\n",
       "    }\n",
       "</style>\n",
       "<table border=\"1\" class=\"dataframe\">\n",
       "  <thead>\n",
       "    <tr style=\"text-align: right;\">\n",
       "      <th></th>\n",
       "      <th>article_de</th>\n",
       "      <th>summary_de</th>\n",
       "      <th>embedding</th>\n",
       "    </tr>\n",
       "  </thead>\n",
       "  <tbody>\n",
       "    <tr>\n",
       "      <th>193</th>\n",
       "      <td>Cyber-Terrorismus</td>\n",
       "      <td>[cyber-terrorismus, spezielle, form, terrorism...</td>\n",
       "      <td>[-0.02878621212000001, -0.022901219186666672, ...</td>\n",
       "    </tr>\n",
       "    <tr>\n",
       "      <th>72</th>\n",
       "      <td>Ballonbombe</td>\n",
       "      <td>[ballonbomben, brandballons, unbemannt, ungele...</td>\n",
       "      <td>[-0.021620379213333332, -0.012719575999999996,...</td>\n",
       "    </tr>\n",
       "    <tr>\n",
       "      <th>298</th>\n",
       "      <td>Semitismus</td>\n",
       "      <td>[ausdruck, semitismus, bezeichnen, sprachwisse...</td>\n",
       "      <td>[-0.028070225273972592, -0.012463878369863015,...</td>\n",
       "    </tr>\n",
       "    <tr>\n",
       "      <th>88</th>\n",
       "      <td>Neutronenbombe</td>\n",
       "      <td>[kernwaffentechnik, beschäftigen, waffe, energ...</td>\n",
       "      <td>[0.00011091041176470649, -0.020387796470588235...</td>\n",
       "    </tr>\n",
       "    <tr>\n",
       "      <th>178</th>\n",
       "      <td>Atombombe</td>\n",
       "      <td>[kernwaffe, waffe, wirkung, kernphysikalisch, ...</td>\n",
       "      <td>[-0.02610623128426396, -0.021036885736040612, ...</td>\n",
       "    </tr>\n",
       "    <tr>\n",
       "      <th>76</th>\n",
       "      <td>Renegade (Luftfahrt)</td>\n",
       "      <td>[englischsprachige, begriff, renegade, beschre...</td>\n",
       "      <td>[-0.02122982842105263, -0.020177736175438596, ...</td>\n",
       "    </tr>\n",
       "    <tr>\n",
       "      <th>265</th>\n",
       "      <td>Aerosolbombe</td>\n",
       "      <td>[aerosolbombe, umgangssprachlich, vakuumbombe,...</td>\n",
       "      <td>[-0.007894374374999999, -0.016259578125, -0.02...</td>\n",
       "    </tr>\n",
       "    <tr>\n",
       "      <th>300</th>\n",
       "      <td>Ustascha</td>\n",
       "      <td>[ustascha, ante, pavelić, königreich, italien,...</td>\n",
       "      <td>[-0.029383639224999984, -0.03085397617499999, ...</td>\n",
       "    </tr>\n",
       "  </tbody>\n",
       "</table>\n",
       "</div>"
      ],
      "text/plain": [
       "               article_de                                         summary_de  \\\n",
       "193     Cyber-Terrorismus  [cyber-terrorismus, spezielle, form, terrorism...   \n",
       "72            Ballonbombe  [ballonbomben, brandballons, unbemannt, ungele...   \n",
       "298            Semitismus  [ausdruck, semitismus, bezeichnen, sprachwisse...   \n",
       "88         Neutronenbombe  [kernwaffentechnik, beschäftigen, waffe, energ...   \n",
       "178             Atombombe  [kernwaffe, waffe, wirkung, kernphysikalisch, ...   \n",
       "76   Renegade (Luftfahrt)  [englischsprachige, begriff, renegade, beschre...   \n",
       "265          Aerosolbombe  [aerosolbombe, umgangssprachlich, vakuumbombe,...   \n",
       "300              Ustascha  [ustascha, ante, pavelić, königreich, italien,...   \n",
       "\n",
       "                                             embedding  \n",
       "193  [-0.02878621212000001, -0.022901219186666672, ...  \n",
       "72   [-0.021620379213333332, -0.012719575999999996,...  \n",
       "298  [-0.028070225273972592, -0.012463878369863015,...  \n",
       "88   [0.00011091041176470649, -0.020387796470588235...  \n",
       "178  [-0.02610623128426396, -0.021036885736040612, ...  \n",
       "76   [-0.02122982842105263, -0.020177736175438596, ...  \n",
       "265  [-0.007894374374999999, -0.016259578125, -0.02...  \n",
       "300  [-0.029383639224999984, -0.03085397617499999, ...  "
      ]
     },
     "execution_count": 629,
     "metadata": {},
     "output_type": "execute_result"
    }
   ],
   "source": [
    "testing_de"
   ]
  },
  {
   "cell_type": "code",
   "execution_count": 630,
   "metadata": {},
   "outputs": [],
   "source": [
    "# finally get the total treated and untreated subjects\n",
    "articles_with_ready_translation = summaries_en.loc[summaries_en.article_de.isin(pageviews_de.article),\n",
    "                                                   ['article_en', 'article_de']]\n",
    "articles_matched = pd.concat([testing_en['article_en'].reset_index(drop=True),\n",
    "                              testing_de['article_de'].reset_index(drop=True)], axis=1)\n",
    "final_matching = pd.concat([articles_with_ready_translation, articles_matched])"
   ]
  },
  {
   "cell_type": "code",
   "execution_count": 631,
   "metadata": {},
   "outputs": [],
   "source": [
    "def regression_groupby(df):\n",
    "    \n",
    "    reg_data = prepare_data_for_regression(df)\n",
    "    model = smf.ols(formula='pageviews ~ time + C(intervention) + post_slope ', data=reg_data).fit()\n",
    "    intervention = model.params[1]\n",
    "    pre_slope = model.params[2]\n",
    "    post_slope = model.params[3]\n",
    "    pvalue_intervention = model.pvalues[1]\n",
    "    pvalue_postslope = model.pvalues[3]\n",
    "         \n",
    "    return pd.DataFrame([[intervention, post_slope, pre_slope, pvalue_intervention, pvalue_postslope]],\n",
    "                       columns=['intervention','post_slope','pre_slope','pvalue_intervention','pvalue_postslope'])"
   ]
  },
  {
   "cell_type": "code",
   "execution_count": 632,
   "metadata": {},
   "outputs": [],
   "source": [
    "pageviews_en['pageviews'] = pageviews_en['pageviews'].astype(int)\n",
    "pageviews_de['pageviews'] = pageviews_de['pageviews'].astype(int)\n",
    "\n",
    "reg_per_article_en = pageviews_en.loc[pageviews_en.article.isin(final_matching.article_en) &\n",
    "                                      (pageviews_en.date <= '31-08-2014')].groupby('article')\\\n",
    "                                      .apply(regression_groupby).reset_index(level=1, drop=True)\n",
    "\n",
    "reg_per_article_de = pageviews_de.loc[pageviews_de.article.isin(final_matching.article_de) &\n",
    "                                      (pageviews_de.date <= '31-08-2014')].groupby('article')\\\n",
    "                                      .apply(regression_groupby).reset_index(level=1, drop=True)"
   ]
  },
  {
   "cell_type": "code",
   "execution_count": 636,
   "metadata": {},
   "outputs": [],
   "source": [
    "def is_chilled(article):\n",
    "    return (article.pvalue_intervention <= 0.05 and article.intervention < 0) and (article.pvalue_postslope <= 0.05 and (article.post_slope + article.pre_slope) < 0) \n",
    "\n",
    "chilled_en = reg_per_article_en.apply(is_chilled, axis=1).rename('chilled_en')\n",
    "chilled_de = reg_per_article_de.apply(is_chilled, axis=1).rename('chilled_de')"
   ]
  },
  {
   "cell_type": "code",
   "execution_count": 637,
   "metadata": {},
   "outputs": [],
   "source": [
    "final_matching_labeled = final_matching.merge(chilled_en, left_on='article_en', right_index=True, validate='1:1')\\\n",
    "                                       .merge(chilled_de, left_on='article_de', right_index=True, validate='1:1')"
   ]
  },
  {
   "cell_type": "code",
   "execution_count": 638,
   "metadata": {},
   "outputs": [],
   "source": [
    "def get_ate(labels_treated, labels_untreated):\n",
    "    ate = labels_treated.sum() - labels_untreated.sum()\n",
    "    return ate / len(labels_treated)"
   ]
  },
  {
   "cell_type": "code",
   "execution_count": 639,
   "metadata": {},
   "outputs": [
    {
     "data": {
      "text/plain": [
       "0.19148936170212766"
      ]
     },
     "execution_count": 639,
     "metadata": {},
     "output_type": "execute_result"
    }
   ],
   "source": [
    "get_ate(final_matching_labeled['chilled_en'], final_matching_labeled['chilled_de'])"
   ]
  }
 ],
 "metadata": {
  "kernelspec": {
   "display_name": "Python [conda env:ada-env] *",
   "language": "python",
   "name": "conda-env-ada-env-py"
  },
  "language_info": {
   "codemirror_mode": {
    "name": "ipython",
    "version": 3
   },
   "file_extension": ".py",
   "mimetype": "text/x-python",
   "name": "python",
   "nbconvert_exporter": "python",
   "pygments_lexer": "ipython3",
   "version": "3.8.5"
  }
 },
 "nbformat": 4,
 "nbformat_minor": 4
}
