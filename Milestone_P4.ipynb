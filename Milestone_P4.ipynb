{
 "cells": [
  {
   "cell_type": "code",
   "execution_count": 157,
   "metadata": {},
   "outputs": [],
   "source": [
    "# all needed libraries are imported here\n",
    "import re\n",
    "import sys\n",
    "import requests as requests\n",
    "import pandas as pd\n",
    "import matplotlib.pyplot as plt\n",
    "import wikipedia as wiki\n",
    "import numpy as np\n",
    "from statsmodels.stats import diagnostic\n",
    "import wikipediaapi\n",
    "import os\n",
    "import pandas as pd\n",
    "import sys\n",
    "import spacy"
   ]
  },
  {
   "cell_type": "markdown",
   "metadata": {},
   "source": [
    "# 1. Data scraping\n",
    "\n",
    "We use the REST API from http://petermeissner.de:8880/ in order to extract pageviews for the articles,\n",
    "from January 2012 up until december 2015.\n",
    "We do this for both English and German Wikipedia."
   ]
  },
  {
   "cell_type": "code",
   "execution_count": 109,
   "metadata": {},
   "outputs": [],
   "source": [
    "# Helper function, extracts pageviews for a list of articles and a given language and specified years\n",
    "# and returns a dataframe with the associated information\n",
    "\n",
    "def get_pageview_data(articles, years, lang, save_csv=True):\n",
    "    \n",
    "    # initialize the search url\n",
    "    search_url = f'http://petermeissner.de:8880/article/exact/{lang}/'\n",
    "    final_list = []\n",
    "    \n",
    "    for article in articles:\n",
    "        \n",
    "        # small technical detail, we have to transofrm spaces in the page names into underscores.\n",
    "        article_no_spaces = re.sub(r'\\s','_', article)\n",
    "        request = requests.get(search_url + article_no_spaces).json()\n",
    "        \n",
    "        # verify everything went well\n",
    "        if request['status'] != 'ok':\n",
    "            print(f'Problem fetching data for article {article}')\n",
    "            continue\n",
    "            \n",
    "        data = request['data']\n",
    "        for elem in data:\n",
    "            year = elem['year']\n",
    "            if str(year) in years:\n",
    "                # create a date_range for the specific year\n",
    "                timestamps = pd.date_range(f'01-01-{year}', f'31-12-{year}')\n",
    "                page_views = elem['page_view_count'].split(',')\n",
    "                # quick sanity check\n",
    "                assert len(timestamps) == len(page_views)\n",
    "                final_list += list(zip(timestamps, [article] * len(timestamps), [lang] * len(timestamps), page_views))\n",
    "    \n",
    "    # create the needed dataframe and save it if specified\n",
    "    df = pd.DataFrame(final_list, columns=['date', 'article','language', 'pageviews'])\n",
    "    if save_csv:\n",
    "        df.to_csv(f'data/data_{lang}.csv')\n",
    "    return df\n",
    "    "
   ]
  },
  {
   "cell_type": "code",
   "execution_count": 110,
   "metadata": {},
   "outputs": [],
   "source": [
    "# Declare the desired article names for English and German\n",
    "\n",
    "terrorism_articles_en = ['abu_sayyaf', 'afghanistan', 'agro', 'al-qaeda',\n",
    "                      'al-qaeda_in_the_arabian_peninsula',\n",
    "                      'al-qaeda_in_the_islamic_maghreb', 'al-shabaab',\n",
    "                      'ammonium_nitrate', 'attack', 'biological_weapon', 'car_bomb',\n",
    "                      'chemical_weapon', 'conventional_weapon', 'dirty_bomb',\n",
    "                      'eco-terrorism', 'environmental_terrorism',\n",
    "                      'euskadi_ta_askatasuna', 'extremism', 'farc', 'fundamentalism',\n",
    "                      'hamas', 'hezbollah', 'improvised_explosive_device', 'iran',\n",
    "                      'iraq', 'irish_republican_army', 'islamist', 'jihad',\n",
    "                      'nationalism', 'nigeria', 'nuclear', 'nuclear_enrichment',\n",
    "                      'pakistan', 'palestine_liberation_front', 'pirates', 'plo',\n",
    "                      'political_radicalism', 'recruitment', 'somalia', 'suicide_attack',\n",
    "                      'suicide_bomber', 'taliban', 'tamil_tigers',\n",
    "                      'tehrik-i-taliban_pakistan', 'terror', 'terrorism',\n",
    "                      'weapons-grade', 'yemen']\n",
    "\n",
    "terrorism_articles_de = ['al-Qaida','Terrorismus', 'Terror (Begriffsklärung)', 'Angriff', 'Irak', 'Afghanistan',\n",
    "                        'Iran', 'Pakistan', 'Agroterrorismus', 'Ökoterrorismus','Hochangereichertes Uran',\"Chemische Waffe\", \"Ammoniumnitrat\",\n",
    "                        \"Unkonventionelle Spreng- und Brandvorrichtung\", \"Abu Sajaf\", \"Hamas\",\n",
    "                        \"FARC-EP\", \"Geschichte der Irisch-Republikanischen Armee\", \"Euskadi Ta Askatasuna\" , \"Hisbollah\",\n",
    "                        \"Liberation Tigers of Tamil Eelam\", \"Palästinensische Befreiungsorganisation\", \"Palästinensische Befreiungsfront\", \n",
    "                        \"Autobombe\", \"Dschihad\", \"Taliban\",\n",
    "                        'Islamismus', 'Fundamentalismus', 'Personalbeschaffung', 'Nationalismus', 'Al-Shabaab',\n",
    "                        'Radikalismus', 'Nigeria', 'Somalia', 'Extremismus', 'Piraterie', 'Jemen', 'Tehrik-i-Taliban Pakistan',\n",
    "                        'Al-Qaida im Maghreb', 'Al-Qaida auf der Arabischen Halbinsel', 'Selbstmordattentat']\n",
    "\n",
    "years = ['2012','2013','2014','2015']"
   ]
  },
  {
   "cell_type": "code",
   "execution_count": 111,
   "metadata": {},
   "outputs": [],
   "source": [
    "# small convenience variable so that we don't have to re_use the api each time\n",
    "use_api = False\n",
    "\n",
    "if use_api:\n",
    "    data_en = get_pageview_data(terrorism_articles_en, years, 'en', save_csv=True)\n",
    "    data_de = get_pageview_data(terrorism_articles_de, years, 'de', save_csv=True)\n",
    "else:\n",
    "    data_en = pd.read_csv('data/data_en.csv', parse_dates=['date'], index_col=0)\n",
    "    data_de = pd.read_csv('data/data_de.csv', parse_dates=['date'], index_col=0)\n",
    "\n",
    "data_en['pageviews'] = data_en['pageviews'].astype(int)"
   ]
  },
  {
   "cell_type": "markdown",
   "metadata": {},
   "source": [
    "There is a problem fetching data for the german version of the irish republican army article, although it does exist on Wikipedia."
   ]
  },
  {
   "cell_type": "code",
   "execution_count": 112,
   "metadata": {},
   "outputs": [
    {
     "data": {
      "text/html": [
       "<div>\n",
       "<style scoped>\n",
       "    .dataframe tbody tr th:only-of-type {\n",
       "        vertical-align: middle;\n",
       "    }\n",
       "\n",
       "    .dataframe tbody tr th {\n",
       "        vertical-align: top;\n",
       "    }\n",
       "\n",
       "    .dataframe thead th {\n",
       "        text-align: right;\n",
       "    }\n",
       "</style>\n",
       "<table border=\"1\" class=\"dataframe\">\n",
       "  <thead>\n",
       "    <tr style=\"text-align: right;\">\n",
       "      <th></th>\n",
       "      <th>date</th>\n",
       "      <th>article</th>\n",
       "      <th>language</th>\n",
       "      <th>pageviews</th>\n",
       "    </tr>\n",
       "  </thead>\n",
       "  <tbody>\n",
       "    <tr>\n",
       "      <th>0</th>\n",
       "      <td>2012-01-01</td>\n",
       "      <td>abu_sayyaf</td>\n",
       "      <td>en</td>\n",
       "      <td>254</td>\n",
       "    </tr>\n",
       "    <tr>\n",
       "      <th>1</th>\n",
       "      <td>2012-01-02</td>\n",
       "      <td>abu_sayyaf</td>\n",
       "      <td>en</td>\n",
       "      <td>351</td>\n",
       "    </tr>\n",
       "    <tr>\n",
       "      <th>2</th>\n",
       "      <td>2012-01-03</td>\n",
       "      <td>abu_sayyaf</td>\n",
       "      <td>en</td>\n",
       "      <td>423</td>\n",
       "    </tr>\n",
       "    <tr>\n",
       "      <th>3</th>\n",
       "      <td>2012-01-04</td>\n",
       "      <td>abu_sayyaf</td>\n",
       "      <td>en</td>\n",
       "      <td>418</td>\n",
       "    </tr>\n",
       "    <tr>\n",
       "      <th>4</th>\n",
       "      <td>2012-01-05</td>\n",
       "      <td>abu_sayyaf</td>\n",
       "      <td>en</td>\n",
       "      <td>804</td>\n",
       "    </tr>\n",
       "  </tbody>\n",
       "</table>\n",
       "</div>"
      ],
      "text/plain": [
       "        date     article language  pageviews\n",
       "0 2012-01-01  abu_sayyaf       en        254\n",
       "1 2012-01-02  abu_sayyaf       en        351\n",
       "2 2012-01-03  abu_sayyaf       en        423\n",
       "3 2012-01-04  abu_sayyaf       en        418\n",
       "4 2012-01-05  abu_sayyaf       en        804"
      ]
     },
     "execution_count": 112,
     "metadata": {},
     "output_type": "execute_result"
    }
   ],
   "source": [
    "data_en.head()"
   ]
  },
  {
   "cell_type": "code",
   "execution_count": 113,
   "metadata": {},
   "outputs": [
    {
     "data": {
      "text/html": [
       "<div>\n",
       "<style scoped>\n",
       "    .dataframe tbody tr th:only-of-type {\n",
       "        vertical-align: middle;\n",
       "    }\n",
       "\n",
       "    .dataframe tbody tr th {\n",
       "        vertical-align: top;\n",
       "    }\n",
       "\n",
       "    .dataframe thead th {\n",
       "        text-align: right;\n",
       "    }\n",
       "</style>\n",
       "<table border=\"1\" class=\"dataframe\">\n",
       "  <thead>\n",
       "    <tr style=\"text-align: right;\">\n",
       "      <th></th>\n",
       "      <th>date</th>\n",
       "      <th>article</th>\n",
       "      <th>language</th>\n",
       "      <th>pageviews</th>\n",
       "    </tr>\n",
       "  </thead>\n",
       "  <tbody>\n",
       "    <tr>\n",
       "      <th>0</th>\n",
       "      <td>2012-01-01</td>\n",
       "      <td>al-Qaida</td>\n",
       "      <td>de</td>\n",
       "      <td>438</td>\n",
       "    </tr>\n",
       "    <tr>\n",
       "      <th>1</th>\n",
       "      <td>2012-01-02</td>\n",
       "      <td>al-Qaida</td>\n",
       "      <td>de</td>\n",
       "      <td>9</td>\n",
       "    </tr>\n",
       "    <tr>\n",
       "      <th>2</th>\n",
       "      <td>2012-01-03</td>\n",
       "      <td>al-Qaida</td>\n",
       "      <td>de</td>\n",
       "      <td>669</td>\n",
       "    </tr>\n",
       "    <tr>\n",
       "      <th>3</th>\n",
       "      <td>2012-01-04</td>\n",
       "      <td>al-Qaida</td>\n",
       "      <td>de</td>\n",
       "      <td>659</td>\n",
       "    </tr>\n",
       "    <tr>\n",
       "      <th>4</th>\n",
       "      <td>2012-01-05</td>\n",
       "      <td>al-Qaida</td>\n",
       "      <td>de</td>\n",
       "      <td>746</td>\n",
       "    </tr>\n",
       "  </tbody>\n",
       "</table>\n",
       "</div>"
      ],
      "text/plain": [
       "        date   article language  pageviews\n",
       "0 2012-01-01  al-Qaida       de        438\n",
       "1 2012-01-02  al-Qaida       de          9\n",
       "2 2012-01-03  al-Qaida       de        669\n",
       "3 2012-01-04  al-Qaida       de        659\n",
       "4 2012-01-05  al-Qaida       de        746"
      ]
     },
     "execution_count": 113,
     "metadata": {},
     "output_type": "execute_result"
    }
   ],
   "source": [
    "data_de.head()"
   ]
  },
  {
   "cell_type": "markdown",
   "metadata": {},
   "source": [
    "# 2. Verifications and Tests\n",
    "We perform some sanity checks on the data, and find that some values may be missing. For the English articles, we compare the results with the data given to us for Milestone P2 replication."
   ]
  },
  {
   "cell_type": "markdown",
   "metadata": {},
   "source": [
    "## Checks"
   ]
  },
  {
   "cell_type": "code",
   "execution_count": 114,
   "metadata": {},
   "outputs": [
    {
     "name": "stdout",
     "output_type": "stream",
     "text": [
      "48\n",
      "48\n",
      "40\n",
      "41\n"
     ]
    }
   ],
   "source": [
    "print(len(data_en.article.unique()))\n",
    "print(len(terrorism_articles_en))\n",
    "print(len(data_de.article.unique()))\n",
    "print(len(terrorism_articles_de))"
   ]
  },
  {
   "cell_type": "markdown",
   "metadata": {},
   "source": [
    "This is expected as we were not able to retrieve one of the German articles data"
   ]
  },
  {
   "cell_type": "code",
   "execution_count": 115,
   "metadata": {},
   "outputs": [
    {
     "data": {
      "text/plain": [
       "True"
      ]
     },
     "execution_count": 115,
     "metadata": {},
     "output_type": "execute_result"
    }
   ],
   "source": [
    "# load the pageviews given for the replication\n",
    "reference = pd.read_csv('data/terrorism_data.csv')\n",
    "testing_ref_data = reference.set_index(['date','article']).loc[:, 'views'].astype(int).sort_index(level=[0,1])\n",
    "\n",
    "test_en = data_en.loc[data_en.date.isin(reference.date)].set_index(['date','article']).\\\n",
    "       sort_index(level=[0,1])['pageviews'].astype(int)\n",
    "\n",
    "np.count_nonzero((test_en.values == testing_ref_data.values)) == len(test)"
   ]
  },
  {
   "cell_type": "markdown",
   "metadata": {},
   "source": [
    "We have **exactly the same** pageviews as the ones given for the replication, which a good sign."
   ]
  },
  {
   "cell_type": "markdown",
   "metadata": {},
   "source": [
    "## Scatter plots of the data"
   ]
  },
  {
   "cell_type": "code",
   "execution_count": 136,
   "metadata": {},
   "outputs": [],
   "source": [
    "grouped_en = data_en.groupby(pd.Grouper(key='date', freq='M'))['pageviews'].sum()"
   ]
  },
  {
   "cell_type": "code",
   "execution_count": 151,
   "metadata": {},
   "outputs": [],
   "source": [
    "# fig, axs = plt.subplots(1,2)\n"
   ]
  },
  {
   "cell_type": "code",
   "execution_count": 107,
   "metadata": {
    "scrolled": true
   },
   "outputs": [],
   "source": [
    "# drop the language column\n",
    "data_en = data_en.drop('language', axis=1)\n",
    "data_de = data_de.drop('language', axis=1)\n",
    "\n",
    "# filter all rows corresponding to the article about Hamas, as it represents an outlier in the data\n",
    "data_en = data_en[data_en.article != 'hamas']\n",
    "data_de = data_de[data_de.article != 'hamas']"
   ]
  },
  {
   "cell_type": "markdown",
   "metadata": {},
   "source": [
    "# Q1: Is the Chilling effect found persistent?"
   ]
  },
  {
   "cell_type": "code",
   "execution_count": 146,
   "metadata": {},
   "outputs": [],
   "source": [
    "# Helper function, performs all the necessary operations to prepare the data for ITS regression\n",
    "\n",
    "def prepare_data_for_regression(data):\n",
    "    pageviews_per_month = data.groupby(pd.Grouper(key='date', freq='M')).sum().reset_index()\n",
    "    # june 2013 and its index, where the months are counted from 1 to 32\n",
    "    june_2013 = pd.to_datetime('2013-06-30')\n",
    "    june_2013_index = 18 \n",
    "\n",
    "    # prepare columns for the regression\n",
    "\n",
    "    # intervention is an indicator function, which takes the value 1 for rows after June 2013\n",
    "    pageviews_per_month['intervention'] = (pageviews_per_month.date >= june_2013).astype(int)\n",
    "\n",
    "    # time is the sequence [1,2,..,32] as we have 32 months\n",
    "    pageviews_per_month ['time'] = range(1,len(pageviews_per_month) + 1)\n",
    "\n",
    "    # post_slope is 0 before June 2013, then 1,2,.. starting June 2013\n",
    "    pageviews_per_month['post_slope'] = (pageviews_per_month['time'] - june_2013_index + 1) * \\\n",
    "                                         pageviews_per_month['intervention']\n",
    "    \n",
    "    return pageviews_per_month"
   ]
  },
  {
   "cell_type": "markdown",
   "metadata": {},
   "source": [
    "# Q2: Is the Chilling effect only restrained to English Wikipedia?"
   ]
  },
  {
   "cell_type": "markdown",
   "metadata": {},
   "source": [
    "## Data considered\n",
    "difference here:  \n",
    "why here:"
   ]
  },
  {
   "cell_type": "code",
   "execution_count": 182,
   "metadata": {},
   "outputs": [],
   "source": [
    "terrorism_articles_en = ['Abu Sayyaf', 'afghanistan', 'Agro-terrorism', 'al-qaeda',\n",
    "       'Al-Qaeda in the Arabian Peninsula',\n",
    "       'Al-Qaeda in the Islamic Maghreb', 'al-shabaab',\n",
    "       'ammonium_nitrate', 'Offensive (military)', 'biological_weapon', 'car_bomb',\n",
    "       'chemical_weapon', 'conventional_weapon', 'dirty_bomb',\n",
    "       'eco-terrorism', 'environmental_terrorism',\n",
    "       'Euskadi ta Askatasuna', 'extremism', 'farc', 'fundamentalism',\n",
    "       'hamas', 'hezbollah', 'improvised_explosive_device', 'iran',\n",
    "       'iraq', 'Irish Republican Army', 'islamist', 'jihad',\n",
    "       'nationalism', 'nigeria', 'Nuclear weapon', 'nuclear_enrichment',\n",
    "       'pakistan', 'Palestine Liberation Front', 'pirates', 'PLO',\n",
    "       'political_radicalism', 'recruitment', 'somalia', 'suicide_attack',\n",
    "       'suicide_bomber', 'taliban', 'tamil_tigers',\n",
    "       'Tehrik-i-Taliban Pakistan', 'Terror (politics)', 'terrorism',\n",
    "       'weapons-grade', 'yemen']\n",
    "\n",
    "categories_selected_de = ['Kategorie:Afghanistan', 'Kategorie:Afghanistankrieg (seit 1978)', 'Kategorie:Al-Qaida',\n",
    "                       'Kategorie:Antisemitismus', 'Kategorie:Anti-Freimaurerei','Kategorie:Antizionismus',\n",
    "                       'Kategorie:Asymmetrische Kriegführung', 'Kategorie:Attentat', 'Kategorie:Bewaffnete islamistische Organisation',\n",
    "                       'Kategorie:Bewaffnete islamistische Organisation', 'Kategorie:Bewaffnete islamistische Untergrundorganisation',\n",
    "                       'Kategorie:Bombe', 'Kategorie:Hamas', 'Kategorie:Hisbollah','Kategorie:Islamische Republik',\n",
    "                        'Kategorie:Islamistischer Terrorismus','Kategorie:Terrorismus', 'Kategorie:Taliban']"
   ]
  },
  {
   "cell_type": "code",
   "execution_count": 169,
   "metadata": {},
   "outputs": [
    {
     "name": "stdout",
     "output_type": "stream",
     "text": [
      "a\n"
     ]
    }
   ],
   "source": [
    "if np.nan:\n",
    "    print('a')"
   ]
  },
  {
   "cell_type": "code",
   "execution_count": 175,
   "metadata": {},
   "outputs": [],
   "source": [
    "def get_page_summaries(pages, lang, look_for_other_lang=False, other_lang='de'):\n",
    "\n",
    "    summaries = []\n",
    "    wiki = wikipediaapi.Wikipedia(lang)\n",
    "    \n",
    "    for page in pages:\n",
    "        try:\n",
    "            page_en = wiki.page(page)\n",
    "            if look_for_other_lang:\n",
    "                page_other = page_en.langlinks.get(other_lang, None)\n",
    "                page_other_title = page_other.title if page_other else None\n",
    "                summaries.append({'article_en': page, 'summary_en': page_en.summary, \n",
    "                      f'article_{other_lang}': page_other_title})\n",
    "            else:\n",
    "                summaries.append({'article_en': page, 'summary_en': page_en.summary})\n",
    "\n",
    "        except:\n",
    "            print(f\"problem fetching data for page: {page}\", file=sys.stderr)\n",
    "            continue\n",
    "        \n",
    "    return pd.DataFrame(summaries)"
   ]
  },
  {
   "cell_type": "code",
   "execution_count": 176,
   "metadata": {},
   "outputs": [],
   "source": [
    "summaries_en = get_page_summaries(terrorism_articles_en, 'en', look_for_other_lang=True, other_lang='de')"
   ]
  },
  {
   "cell_type": "code",
   "execution_count": 161,
   "metadata": {},
   "outputs": [
    {
     "data": {
      "text/html": [
       "<div>\n",
       "<style scoped>\n",
       "    .dataframe tbody tr th:only-of-type {\n",
       "        vertical-align: middle;\n",
       "    }\n",
       "\n",
       "    .dataframe tbody tr th {\n",
       "        vertical-align: top;\n",
       "    }\n",
       "\n",
       "    .dataframe thead th {\n",
       "        text-align: right;\n",
       "    }\n",
       "</style>\n",
       "<table border=\"1\" class=\"dataframe\">\n",
       "  <thead>\n",
       "    <tr style=\"text-align: right;\">\n",
       "      <th></th>\n",
       "      <th>article_en</th>\n",
       "      <th>summary_en</th>\n",
       "      <th>article_de</th>\n",
       "    </tr>\n",
       "  </thead>\n",
       "  <tbody>\n",
       "    <tr>\n",
       "      <th>0</th>\n",
       "      <td>Abu Sayyaf</td>\n",
       "      <td>Abu Sayyaf ( (listen); Arabic: جماعة أبو سياف‎...</td>\n",
       "      <td>Abu Sajaf</td>\n",
       "    </tr>\n",
       "    <tr>\n",
       "      <th>1</th>\n",
       "      <td>afghanistan</td>\n",
       "      <td>Afghanistan ( (listen), also pronounced /ævˈɡæ...</td>\n",
       "      <td>Afghanistan</td>\n",
       "    </tr>\n",
       "    <tr>\n",
       "      <th>2</th>\n",
       "      <td>Agro-terrorism</td>\n",
       "      <td>Agroterrorism, also known as agriterrorism and...</td>\n",
       "      <td>Agroterrorismus</td>\n",
       "    </tr>\n",
       "    <tr>\n",
       "      <th>3</th>\n",
       "      <td>al-qaeda</td>\n",
       "      <td>Al-Qaeda (; Arabic: القاعدة‎ al-Qāʿidah, IPA: ...</td>\n",
       "      <td>Al-Qaida</td>\n",
       "    </tr>\n",
       "    <tr>\n",
       "      <th>4</th>\n",
       "      <td>Al-Qaeda in the Arabian Peninsula</td>\n",
       "      <td>Al-Qaeda in the Arabian Peninsula (Arabic: تنظ...</td>\n",
       "      <td>Al-Qaida auf der Arabischen Halbinsel</td>\n",
       "    </tr>\n",
       "  </tbody>\n",
       "</table>\n",
       "</div>"
      ],
      "text/plain": [
       "                          article_en  \\\n",
       "0                         Abu Sayyaf   \n",
       "1                        afghanistan   \n",
       "2                     Agro-terrorism   \n",
       "3                           al-qaeda   \n",
       "4  Al-Qaeda in the Arabian Peninsula   \n",
       "\n",
       "                                          summary_en  \\\n",
       "0  Abu Sayyaf ( (listen); Arabic: جماعة أبو سياف‎...   \n",
       "1  Afghanistan ( (listen), also pronounced /ævˈɡæ...   \n",
       "2  Agroterrorism, also known as agriterrorism and...   \n",
       "3  Al-Qaeda (; Arabic: القاعدة‎ al-Qāʿidah, IPA: ...   \n",
       "4  Al-Qaeda in the Arabian Peninsula (Arabic: تنظ...   \n",
       "\n",
       "                              article_de  \n",
       "0                              Abu Sajaf  \n",
       "1                            Afghanistan  \n",
       "2                        Agroterrorismus  \n",
       "3                               Al-Qaida  \n",
       "4  Al-Qaida auf der Arabischen Halbinsel  "
      ]
     },
     "execution_count": 161,
     "metadata": {},
     "output_type": "execute_result"
    }
   ],
   "source": [
    "summaries_en.head()"
   ]
  },
  {
   "cell_type": "code",
   "execution_count": 179,
   "metadata": {},
   "outputs": [],
   "source": [
    "summaries_en.to_csv('data/summaries_en.csv')"
   ]
  },
  {
   "cell_type": "code",
   "execution_count": 180,
   "metadata": {},
   "outputs": [],
   "source": [
    "def get_members_of_category(cat, lang, level=0, max_level=1):\n",
    "    wiki = wikipediaapi.Wikipedia(lang)\n",
    "    category_page = wiki.page(cat)\n",
    "    all_pages_in_cat = []\n",
    "    for c in category_page.categorymembers.values(): \n",
    "        if c.ns == wikipediaapi.Namespace.CATEGORY and level < max_level:\n",
    "            all_pages_in_cat.extend(get_members_of_category(c, lang, level+1, max_level))\n",
    "        else: \n",
    "            all_pages_in_cat.append(c.title)\n",
    "    \n",
    "    return all_pages_in_cat"
   ]
  },
  {
   "cell_type": "code",
   "execution_count": 183,
   "metadata": {},
   "outputs": [],
   "source": [
    "potential_pages = set(summaries_en['article_de'])\n",
    "for category in categories_selected_de:\n",
    "    potential_pages.update(get_members_of_category(category,'de', 0, 3))"
   ]
  },
  {
   "cell_type": "code",
   "execution_count": 185,
   "metadata": {},
   "outputs": [],
   "source": [
    "data_en = get_pageview_data(terrorism_articles_en, ['2012', '2013','2014'], 'en', save_csv=False)"
   ]
  },
  {
   "cell_type": "code",
   "execution_count": 186,
   "metadata": {},
   "outputs": [
    {
     "name": "stdout",
     "output_type": "stream",
     "text": [
      "Problem fetching data for article Terroranschlag in Sierra Leone am 8. November 1998\n",
      "Problem fetching data for article New Order (Organisation)\n",
      "Problem fetching data for article Ar-Rahman-Legion\n",
      "Problem fetching data for article Goyim Partei Deutschland\n",
      "Problem fetching data for article Robin de Ruiter\n",
      "Problem fetching data for article Antisemitismus in Belgien\n",
      "Problem fetching data for article Beschädigung des Tagebuchs der Anne Frank\n",
      "Problem fetching data for article Jamaat-ul-Ahrar\n",
      "Problem fetching data for article Radau-Antisemitismus\n",
      "Problem fetching data for article Operation Neptune Spear\n",
      "Problem fetching data for article Werner Dittrich (Rassentheoretiker)\n",
      "Problem fetching data for article Antiterrordateigesetz\n",
      "Problem fetching data for article Operation Nördlicher Schutzschild\n"
     ]
    },
    {
     "ename": "JSONDecodeError",
     "evalue": "Extra data: line 1 column 5 (char 4)",
     "output_type": "error",
     "traceback": [
      "\u001b[0;31m---------------------------------------------------------------------------\u001b[0m",
      "\u001b[0;31mJSONDecodeError\u001b[0m                           Traceback (most recent call last)",
      "\u001b[0;32m<ipython-input-186-f5f5bbfa8d8a>\u001b[0m in \u001b[0;36m<module>\u001b[0;34m\u001b[0m\n\u001b[0;32m----> 1\u001b[0;31m \u001b[0mdate_de\u001b[0m \u001b[0;34m=\u001b[0m \u001b[0mget_pageview_data\u001b[0m\u001b[0;34m(\u001b[0m\u001b[0mpotential_pages\u001b[0m\u001b[0;34m,\u001b[0m \u001b[0;34m[\u001b[0m\u001b[0;34m'2012'\u001b[0m\u001b[0;34m,\u001b[0m \u001b[0;34m'2013'\u001b[0m\u001b[0;34m,\u001b[0m\u001b[0;34m'2014'\u001b[0m\u001b[0;34m]\u001b[0m\u001b[0;34m,\u001b[0m \u001b[0;34m'de'\u001b[0m\u001b[0;34m,\u001b[0m \u001b[0msave_csv\u001b[0m\u001b[0;34m=\u001b[0m\u001b[0;32mFalse\u001b[0m\u001b[0;34m)\u001b[0m\u001b[0;34m\u001b[0m\u001b[0;34m\u001b[0m\u001b[0m\n\u001b[0m",
      "\u001b[0;32m<ipython-input-109-19d6b85cfbce>\u001b[0m in \u001b[0;36mget_pageview_data\u001b[0;34m(articles, years, lang, save_csv)\u001b[0m\n\u001b[1;32m     12\u001b[0m         \u001b[0;31m# small technical detail, we have to transofrm spaces in the page names into underscores.\u001b[0m\u001b[0;34m\u001b[0m\u001b[0;34m\u001b[0m\u001b[0;34m\u001b[0m\u001b[0m\n\u001b[1;32m     13\u001b[0m         \u001b[0marticle_no_spaces\u001b[0m \u001b[0;34m=\u001b[0m \u001b[0mre\u001b[0m\u001b[0;34m.\u001b[0m\u001b[0msub\u001b[0m\u001b[0;34m(\u001b[0m\u001b[0;34mr'\\s'\u001b[0m\u001b[0;34m,\u001b[0m\u001b[0;34m'_'\u001b[0m\u001b[0;34m,\u001b[0m \u001b[0marticle\u001b[0m\u001b[0;34m)\u001b[0m\u001b[0;34m\u001b[0m\u001b[0;34m\u001b[0m\u001b[0m\n\u001b[0;32m---> 14\u001b[0;31m         \u001b[0mrequest\u001b[0m \u001b[0;34m=\u001b[0m \u001b[0mrequests\u001b[0m\u001b[0;34m.\u001b[0m\u001b[0mget\u001b[0m\u001b[0;34m(\u001b[0m\u001b[0msearch_url\u001b[0m \u001b[0;34m+\u001b[0m \u001b[0marticle_no_spaces\u001b[0m\u001b[0;34m)\u001b[0m\u001b[0;34m.\u001b[0m\u001b[0mjson\u001b[0m\u001b[0;34m(\u001b[0m\u001b[0;34m)\u001b[0m\u001b[0;34m\u001b[0m\u001b[0;34m\u001b[0m\u001b[0m\n\u001b[0m\u001b[1;32m     15\u001b[0m \u001b[0;34m\u001b[0m\u001b[0m\n\u001b[1;32m     16\u001b[0m         \u001b[0;31m# verify everything went well\u001b[0m\u001b[0;34m\u001b[0m\u001b[0;34m\u001b[0m\u001b[0;34m\u001b[0m\u001b[0m\n",
      "\u001b[0;32m~/anaconda3/envs/ada-env/lib/python3.8/site-packages/requests/models.py\u001b[0m in \u001b[0;36mjson\u001b[0;34m(self, **kwargs)\u001b[0m\n\u001b[1;32m    896\u001b[0m                     \u001b[0;31m# used.\u001b[0m\u001b[0;34m\u001b[0m\u001b[0;34m\u001b[0m\u001b[0;34m\u001b[0m\u001b[0m\n\u001b[1;32m    897\u001b[0m                     \u001b[0;32mpass\u001b[0m\u001b[0;34m\u001b[0m\u001b[0;34m\u001b[0m\u001b[0m\n\u001b[0;32m--> 898\u001b[0;31m         \u001b[0;32mreturn\u001b[0m \u001b[0mcomplexjson\u001b[0m\u001b[0;34m.\u001b[0m\u001b[0mloads\u001b[0m\u001b[0;34m(\u001b[0m\u001b[0mself\u001b[0m\u001b[0;34m.\u001b[0m\u001b[0mtext\u001b[0m\u001b[0;34m,\u001b[0m \u001b[0;34m**\u001b[0m\u001b[0mkwargs\u001b[0m\u001b[0;34m)\u001b[0m\u001b[0;34m\u001b[0m\u001b[0;34m\u001b[0m\u001b[0m\n\u001b[0m\u001b[1;32m    899\u001b[0m \u001b[0;34m\u001b[0m\u001b[0m\n\u001b[1;32m    900\u001b[0m     \u001b[0;34m@\u001b[0m\u001b[0mproperty\u001b[0m\u001b[0;34m\u001b[0m\u001b[0;34m\u001b[0m\u001b[0m\n",
      "\u001b[0;32m~/anaconda3/envs/ada-env/lib/python3.8/json/__init__.py\u001b[0m in \u001b[0;36mloads\u001b[0;34m(s, cls, object_hook, parse_float, parse_int, parse_constant, object_pairs_hook, **kw)\u001b[0m\n\u001b[1;32m    355\u001b[0m             \u001b[0mparse_int\u001b[0m \u001b[0;32mis\u001b[0m \u001b[0;32mNone\u001b[0m \u001b[0;32mand\u001b[0m \u001b[0mparse_float\u001b[0m \u001b[0;32mis\u001b[0m \u001b[0;32mNone\u001b[0m \u001b[0;32mand\u001b[0m\u001b[0;34m\u001b[0m\u001b[0;34m\u001b[0m\u001b[0m\n\u001b[1;32m    356\u001b[0m             parse_constant is None and object_pairs_hook is None and not kw):\n\u001b[0;32m--> 357\u001b[0;31m         \u001b[0;32mreturn\u001b[0m \u001b[0m_default_decoder\u001b[0m\u001b[0;34m.\u001b[0m\u001b[0mdecode\u001b[0m\u001b[0;34m(\u001b[0m\u001b[0ms\u001b[0m\u001b[0;34m)\u001b[0m\u001b[0;34m\u001b[0m\u001b[0;34m\u001b[0m\u001b[0m\n\u001b[0m\u001b[1;32m    358\u001b[0m     \u001b[0;32mif\u001b[0m \u001b[0mcls\u001b[0m \u001b[0;32mis\u001b[0m \u001b[0;32mNone\u001b[0m\u001b[0;34m:\u001b[0m\u001b[0;34m\u001b[0m\u001b[0;34m\u001b[0m\u001b[0m\n\u001b[1;32m    359\u001b[0m         \u001b[0mcls\u001b[0m \u001b[0;34m=\u001b[0m \u001b[0mJSONDecoder\u001b[0m\u001b[0;34m\u001b[0m\u001b[0;34m\u001b[0m\u001b[0m\n",
      "\u001b[0;32m~/anaconda3/envs/ada-env/lib/python3.8/json/decoder.py\u001b[0m in \u001b[0;36mdecode\u001b[0;34m(self, s, _w)\u001b[0m\n\u001b[1;32m    338\u001b[0m         \u001b[0mend\u001b[0m \u001b[0;34m=\u001b[0m \u001b[0m_w\u001b[0m\u001b[0;34m(\u001b[0m\u001b[0ms\u001b[0m\u001b[0;34m,\u001b[0m \u001b[0mend\u001b[0m\u001b[0;34m)\u001b[0m\u001b[0;34m.\u001b[0m\u001b[0mend\u001b[0m\u001b[0;34m(\u001b[0m\u001b[0;34m)\u001b[0m\u001b[0;34m\u001b[0m\u001b[0;34m\u001b[0m\u001b[0m\n\u001b[1;32m    339\u001b[0m         \u001b[0;32mif\u001b[0m \u001b[0mend\u001b[0m \u001b[0;34m!=\u001b[0m \u001b[0mlen\u001b[0m\u001b[0;34m(\u001b[0m\u001b[0ms\u001b[0m\u001b[0;34m)\u001b[0m\u001b[0;34m:\u001b[0m\u001b[0;34m\u001b[0m\u001b[0;34m\u001b[0m\u001b[0m\n\u001b[0;32m--> 340\u001b[0;31m             \u001b[0;32mraise\u001b[0m \u001b[0mJSONDecodeError\u001b[0m\u001b[0;34m(\u001b[0m\u001b[0;34m\"Extra data\"\u001b[0m\u001b[0;34m,\u001b[0m \u001b[0ms\u001b[0m\u001b[0;34m,\u001b[0m \u001b[0mend\u001b[0m\u001b[0;34m)\u001b[0m\u001b[0;34m\u001b[0m\u001b[0;34m\u001b[0m\u001b[0m\n\u001b[0m\u001b[1;32m    341\u001b[0m         \u001b[0;32mreturn\u001b[0m \u001b[0mobj\u001b[0m\u001b[0;34m\u001b[0m\u001b[0;34m\u001b[0m\u001b[0m\n\u001b[1;32m    342\u001b[0m \u001b[0;34m\u001b[0m\u001b[0m\n",
      "\u001b[0;31mJSONDecodeError\u001b[0m: Extra data: line 1 column 5 (char 4)"
     ]
    }
   ],
   "source": [
    "date_de = get_pageview_data(potential_pages, ['2012', '2013','2014'], 'de', save_csv=False)"
   ]
  },
  {
   "cell_type": "code",
   "execution_count": 77,
   "metadata": {},
   "outputs": [],
   "source": [
    "# Here we only keep the article pageviews for same period as the paper\n",
    "data_en = data_en.loc[data_en.date <= '31-08-2014']\n",
    "data_de = data_de.loc[data_de.date <= '31-08-2014']"
   ]
  },
  {
   "cell_type": "code",
   "execution_count": null,
   "metadata": {},
   "outputs": [],
   "source": []
  },
  {
   "cell_type": "code",
   "execution_count": 138,
   "metadata": {},
   "outputs": [],
   "source": [
    "def regression_groupby(df):\n",
    "    \n",
    "    reg_data = prepare_data_for_regression(df)\n",
    "    model = smf.ols(formula='pageviews ~ time + C(intervention) + post_slope ', data=reg_data).fit()\n",
    "    intervention = model.params[1]\n",
    "    pre_slope = model.params[2]\n",
    "    post_slope = model.params[3]\n",
    "    pvalue_intervention = model.pvalues[1]\n",
    "    pvalue_postslope = model.pvalues[3]\n",
    "         \n",
    "    return pd.DataFrame([[intervention, post_slope, pre_slope, pvalue_intervention, pvalue_postslope]],\n",
    "                       columns=['intervention','post_slope','pre_slope','pvalue_intervention','pvalue_postslope'])\n",
    "\n",
    "reg_per_article_en = data_en.groupby('article').apply(regression_groupby).reset_index(level=1, drop=True)\n",
    "reg_per_article_de = data_de.groupby('article').apply(regression_groupby).reset_index(level=1, drop=True)\n",
    "\n",
    "\n",
    "reg_per_article_en = reg_per_article_en.query(\n",
    "    '(pvalue_intervention <= 0.05 and intervention < 0) and (pvalue_postslope <= 0.05 and (post_slope + pre_slope) < 0)')\n",
    "reg_per_article_de = reg_per_article_de.query(\n",
    "    '(pvalue_intervention <= 0.05 and intervention < 0) and (pvalue_postslope <= 0.05 and (post_slope + pre_slope) < 0)')"
   ]
  },
  {
   "cell_type": "code",
   "execution_count": 139,
   "metadata": {},
   "outputs": [
    {
     "data": {
      "text/html": [
       "<div>\n",
       "<style scoped>\n",
       "    .dataframe tbody tr th:only-of-type {\n",
       "        vertical-align: middle;\n",
       "    }\n",
       "\n",
       "    .dataframe tbody tr th {\n",
       "        vertical-align: top;\n",
       "    }\n",
       "\n",
       "    .dataframe thead th {\n",
       "        text-align: right;\n",
       "    }\n",
       "</style>\n",
       "<table border=\"1\" class=\"dataframe\">\n",
       "  <thead>\n",
       "    <tr style=\"text-align: right;\">\n",
       "      <th></th>\n",
       "      <th>intervention</th>\n",
       "      <th>post_slope</th>\n",
       "      <th>pre_slope</th>\n",
       "      <th>pvalue_intervention</th>\n",
       "      <th>pvalue_postslope</th>\n",
       "    </tr>\n",
       "    <tr>\n",
       "      <th>article</th>\n",
       "      <th></th>\n",
       "      <th></th>\n",
       "      <th></th>\n",
       "      <th></th>\n",
       "      <th></th>\n",
       "    </tr>\n",
       "  </thead>\n",
       "  <tbody>\n",
       "    <tr>\n",
       "      <th>afghanistan</th>\n",
       "      <td>-86987.920557</td>\n",
       "      <td>-7455.049557</td>\n",
       "      <td>3964.465686</td>\n",
       "      <td>0.000133</td>\n",
       "      <td>2.537198e-04</td>\n",
       "    </tr>\n",
       "    <tr>\n",
       "      <th>al-qaeda</th>\n",
       "      <td>-94956.587476</td>\n",
       "      <td>-10165.021750</td>\n",
       "      <td>8532.404412</td>\n",
       "      <td>0.000681</td>\n",
       "      <td>8.200562e-05</td>\n",
       "    </tr>\n",
       "    <tr>\n",
       "      <th>al-qaeda_in_the_islamic_maghreb</th>\n",
       "      <td>-20192.596458</td>\n",
       "      <td>-2154.038860</td>\n",
       "      <td>2090.105392</td>\n",
       "      <td>0.000874</td>\n",
       "      <td>1.178847e-04</td>\n",
       "    </tr>\n",
       "    <tr>\n",
       "      <th>ammonium_nitrate</th>\n",
       "      <td>-36378.187603</td>\n",
       "      <td>-3229.552672</td>\n",
       "      <td>2670.894608</td>\n",
       "      <td>0.000137</td>\n",
       "      <td>1.667385e-04</td>\n",
       "    </tr>\n",
       "    <tr>\n",
       "      <th>car_bomb</th>\n",
       "      <td>-5336.202277</td>\n",
       "      <td>-427.919165</td>\n",
       "      <td>378.485294</td>\n",
       "      <td>0.000030</td>\n",
       "      <td>1.542157e-04</td>\n",
       "    </tr>\n",
       "    <tr>\n",
       "      <th>conventional_weapon</th>\n",
       "      <td>-1558.976977</td>\n",
       "      <td>-112.190006</td>\n",
       "      <td>104.600490</td>\n",
       "      <td>0.001092</td>\n",
       "      <td>7.753819e-03</td>\n",
       "    </tr>\n",
       "    <tr>\n",
       "      <th>dirty_bomb</th>\n",
       "      <td>-8925.789247</td>\n",
       "      <td>-512.415093</td>\n",
       "      <td>460.075980</td>\n",
       "      <td>0.000225</td>\n",
       "      <td>1.400187e-02</td>\n",
       "    </tr>\n",
       "    <tr>\n",
       "      <th>extremism</th>\n",
       "      <td>-6434.529538</td>\n",
       "      <td>-605.881989</td>\n",
       "      <td>528.541667</td>\n",
       "      <td>0.000258</td>\n",
       "      <td>1.487364e-04</td>\n",
       "    </tr>\n",
       "    <tr>\n",
       "      <th>fundamentalism</th>\n",
       "      <td>-13733.126755</td>\n",
       "      <td>-1118.235555</td>\n",
       "      <td>717.286765</td>\n",
       "      <td>0.000990</td>\n",
       "      <td>2.641822e-03</td>\n",
       "    </tr>\n",
       "    <tr>\n",
       "      <th>improvised_explosive_device</th>\n",
       "      <td>-45413.172170</td>\n",
       "      <td>-3533.474059</td>\n",
       "      <td>2980.333333</td>\n",
       "      <td>0.000001</td>\n",
       "      <td>1.550704e-05</td>\n",
       "    </tr>\n",
       "    <tr>\n",
       "      <th>jihad</th>\n",
       "      <td>-67101.945857</td>\n",
       "      <td>-5793.291572</td>\n",
       "      <td>5049.784314</td>\n",
       "      <td>0.000015</td>\n",
       "      <td>2.954788e-05</td>\n",
       "    </tr>\n",
       "    <tr>\n",
       "      <th>pakistan</th>\n",
       "      <td>-195217.321316</td>\n",
       "      <td>-17574.155440</td>\n",
       "      <td>11900.921569</td>\n",
       "      <td>0.000098</td>\n",
       "      <td>1.001081e-04</td>\n",
       "    </tr>\n",
       "    <tr>\n",
       "      <th>recruitment</th>\n",
       "      <td>-31737.704238</td>\n",
       "      <td>-6219.969742</td>\n",
       "      <td>4299.936275</td>\n",
       "      <td>0.000876</td>\n",
       "      <td>8.865590e-10</td>\n",
       "    </tr>\n",
       "    <tr>\n",
       "      <th>suicide_attack</th>\n",
       "      <td>-10065.382416</td>\n",
       "      <td>-718.784211</td>\n",
       "      <td>641.120098</td>\n",
       "      <td>0.001933</td>\n",
       "      <td>1.225375e-02</td>\n",
       "    </tr>\n",
       "    <tr>\n",
       "      <th>taliban</th>\n",
       "      <td>-44699.942315</td>\n",
       "      <td>-5060.694070</td>\n",
       "      <td>3185.227941</td>\n",
       "      <td>0.042787</td>\n",
       "      <td>1.202526e-02</td>\n",
       "    </tr>\n",
       "    <tr>\n",
       "      <th>terrorism</th>\n",
       "      <td>-81142.333586</td>\n",
       "      <td>-5655.728202</td>\n",
       "      <td>5337.779412</td>\n",
       "      <td>0.000010</td>\n",
       "      <td>3.787376e-04</td>\n",
       "    </tr>\n",
       "    <tr>\n",
       "      <th>weapons-grade</th>\n",
       "      <td>-1722.112713</td>\n",
       "      <td>-139.340678</td>\n",
       "      <td>122.308824</td>\n",
       "      <td>0.001802</td>\n",
       "      <td>4.653925e-03</td>\n",
       "    </tr>\n",
       "  </tbody>\n",
       "</table>\n",
       "</div>"
      ],
      "text/plain": [
       "                                  intervention    post_slope     pre_slope  \\\n",
       "article                                                                      \n",
       "afghanistan                      -86987.920557  -7455.049557   3964.465686   \n",
       "al-qaeda                         -94956.587476 -10165.021750   8532.404412   \n",
       "al-qaeda_in_the_islamic_maghreb  -20192.596458  -2154.038860   2090.105392   \n",
       "ammonium_nitrate                 -36378.187603  -3229.552672   2670.894608   \n",
       "car_bomb                          -5336.202277   -427.919165    378.485294   \n",
       "conventional_weapon               -1558.976977   -112.190006    104.600490   \n",
       "dirty_bomb                        -8925.789247   -512.415093    460.075980   \n",
       "extremism                         -6434.529538   -605.881989    528.541667   \n",
       "fundamentalism                   -13733.126755  -1118.235555    717.286765   \n",
       "improvised_explosive_device      -45413.172170  -3533.474059   2980.333333   \n",
       "jihad                            -67101.945857  -5793.291572   5049.784314   \n",
       "pakistan                        -195217.321316 -17574.155440  11900.921569   \n",
       "recruitment                      -31737.704238  -6219.969742   4299.936275   \n",
       "suicide_attack                   -10065.382416   -718.784211    641.120098   \n",
       "taliban                          -44699.942315  -5060.694070   3185.227941   \n",
       "terrorism                        -81142.333586  -5655.728202   5337.779412   \n",
       "weapons-grade                     -1722.112713   -139.340678    122.308824   \n",
       "\n",
       "                                 pvalue_intervention  pvalue_postslope  \n",
       "article                                                                 \n",
       "afghanistan                                 0.000133      2.537198e-04  \n",
       "al-qaeda                                    0.000681      8.200562e-05  \n",
       "al-qaeda_in_the_islamic_maghreb             0.000874      1.178847e-04  \n",
       "ammonium_nitrate                            0.000137      1.667385e-04  \n",
       "car_bomb                                    0.000030      1.542157e-04  \n",
       "conventional_weapon                         0.001092      7.753819e-03  \n",
       "dirty_bomb                                  0.000225      1.400187e-02  \n",
       "extremism                                   0.000258      1.487364e-04  \n",
       "fundamentalism                              0.000990      2.641822e-03  \n",
       "improvised_explosive_device                 0.000001      1.550704e-05  \n",
       "jihad                                       0.000015      2.954788e-05  \n",
       "pakistan                                    0.000098      1.001081e-04  \n",
       "recruitment                                 0.000876      8.865590e-10  \n",
       "suicide_attack                              0.001933      1.225375e-02  \n",
       "taliban                                     0.042787      1.202526e-02  \n",
       "terrorism                                   0.000010      3.787376e-04  \n",
       "weapons-grade                               0.001802      4.653925e-03  "
      ]
     },
     "execution_count": 139,
     "metadata": {},
     "output_type": "execute_result"
    }
   ],
   "source": [
    "reg_per_article_en"
   ]
  },
  {
   "cell_type": "code",
   "execution_count": 141,
   "metadata": {},
   "outputs": [
    {
     "data": {
      "text/html": [
       "<div>\n",
       "<style scoped>\n",
       "    .dataframe tbody tr th:only-of-type {\n",
       "        vertical-align: middle;\n",
       "    }\n",
       "\n",
       "    .dataframe tbody tr th {\n",
       "        vertical-align: top;\n",
       "    }\n",
       "\n",
       "    .dataframe thead th {\n",
       "        text-align: right;\n",
       "    }\n",
       "</style>\n",
       "<table border=\"1\" class=\"dataframe\">\n",
       "  <thead>\n",
       "    <tr style=\"text-align: right;\">\n",
       "      <th></th>\n",
       "      <th>intervention</th>\n",
       "      <th>post_slope</th>\n",
       "      <th>pre_slope</th>\n",
       "      <th>pvalue_intervention</th>\n",
       "      <th>pvalue_postslope</th>\n",
       "    </tr>\n",
       "    <tr>\n",
       "      <th>article</th>\n",
       "      <th></th>\n",
       "      <th></th>\n",
       "      <th></th>\n",
       "      <th></th>\n",
       "      <th></th>\n",
       "    </tr>\n",
       "  </thead>\n",
       "  <tbody>\n",
       "    <tr>\n",
       "      <th>Hisbollah</th>\n",
       "      <td>-5951.677040</td>\n",
       "      <td>-580.932306</td>\n",
       "      <td>553.441176</td>\n",
       "      <td>0.020083</td>\n",
       "      <td>0.012271</td>\n",
       "    </tr>\n",
       "    <tr>\n",
       "      <th>Pakistan</th>\n",
       "      <td>-18623.795193</td>\n",
       "      <td>-724.393493</td>\n",
       "      <td>558.901961</td>\n",
       "      <td>0.000026</td>\n",
       "      <td>0.048550</td>\n",
       "    </tr>\n",
       "  </tbody>\n",
       "</table>\n",
       "</div>"
      ],
      "text/plain": [
       "           intervention  post_slope   pre_slope  pvalue_intervention  \\\n",
       "article                                                                \n",
       "Hisbollah  -5951.677040 -580.932306  553.441176             0.020083   \n",
       "Pakistan  -18623.795193 -724.393493  558.901961             0.000026   \n",
       "\n",
       "           pvalue_postslope  \n",
       "article                      \n",
       "Hisbollah          0.012271  \n",
       "Pakistan           0.048550  "
      ]
     },
     "execution_count": 141,
     "metadata": {},
     "output_type": "execute_result"
    }
   ],
   "source": [
    "reg_per_article_de"
   ]
  },
  {
   "cell_type": "markdown",
   "metadata": {},
   "source": [
    "## Comparison of English and German article pageviews"
   ]
  },
  {
   "cell_type": "code",
   "execution_count": 147,
   "metadata": {},
   "outputs": [],
   "source": [
    "def get_page_summaries(pages, lang, look_for_other_lang=False, other_lang='de'):\n",
    "\n",
    "    summaries = []\n",
    "    wiki = wikipediaapi.Wikipedia(lang)\n",
    "    \n",
    "    for page in pages:\n",
    "        try:\n",
    "            page_en = wiki.page(page)\n",
    "            if look_for_other_lang:\n",
    "                page_other = page_en.langlinks.get(other_lang, None)\n",
    "                page_other_title = page_other.title if page_other else None\n",
    "                page_other_summary = page_other.summary if page_other else None\n",
    "                summaries.append({'article_en': page, 'summary_en': page_en.summary, \n",
    "                          f'article_{other_lang}': page_other_title, f'summary_{other_lang}': page_other_summary})\n",
    "            else:\n",
    "                summaries.append({'article_en': page, 'summary_en': page_en.summary})\n",
    "\n",
    "        except:\n",
    "            print(f\"problem fetching data for page: {page}\", file=sys.stderr)\n",
    "            continue\n",
    "        \n",
    "    return pd.DataFrame(summaries)"
   ]
  },
  {
   "cell_type": "code",
   "execution_count": null,
   "metadata": {},
   "outputs": [],
   "source": []
  },
  {
   "cell_type": "code",
   "execution_count": 48,
   "metadata": {
    "scrolled": false
   },
   "outputs": [],
   "source": [
    "reg_data_en = prepare_data_for_regression(data_en)\n",
    "reg_data_de = prepare_data_for_regression(data_de)"
   ]
  },
  {
   "cell_type": "code",
   "execution_count": 50,
   "metadata": {},
   "outputs": [],
   "source": [
    "import statsmodels.formula.api as smf\n",
    "\n",
    "model_en = smf.ols(formula='pageviews ~ time + C(intervention) + post_slope ', data=reg_data_en).fit()\n",
    "model_de = smf.ols(formula='pageviews ~ time + C(intervention) + post_slope', data=reg_data_de).fit()"
   ]
  },
  {
   "cell_type": "code",
   "execution_count": 51,
   "metadata": {},
   "outputs": [],
   "source": [
    "# We compute the predictions and 95% CIs for the two models\n",
    "preds_en = model_en.get_prediction(reg_data_en)\\\n",
    "                .summary_frame(alpha=0.05)[['mean','mean_ci_lower', 'mean_ci_upper']]\n",
    "\n",
    "preds_de = model_de.get_prediction(reg_data_de)\\\n",
    "                .summary_frame(alpha=0.05)[['mean','mean_ci_lower', 'mean_ci_upper']]"
   ]
  },
  {
   "cell_type": "code",
   "execution_count": 52,
   "metadata": {},
   "outputs": [
    {
     "data": {
      "image/png": "[encoded data removed]",
      "text/plain": [
       "<Figure size 1008x504 with 1 Axes>"
      ]
     },
     "metadata": {
      "needs_background": "light"
     },
     "output_type": "display_data"
    }
   ],
   "source": [
    "plt.figure(figsize=(14,7)) \n",
    "\n",
    "# some useful indexes (in the dataframe), ticks, etc\n",
    "xticks = range(1, preds_en.shape[0] + 1)\n",
    "start_index = 1\n",
    "before_interruption_index = 17\n",
    "after_interruption_index = 18\n",
    "end_index = 48\n",
    "# equivalent indexes in the dataframe\n",
    "points_index = [start_index - 1, before_interruption_index - 1, after_interruption_index - 1, end_index - 1] \n",
    "# useful mask, when plotting CIs\n",
    "ci_mask_before = np.array(xticks) <= before_interruption_index\n",
    "\n",
    "\n",
    "# plot the article views\n",
    "plt.scatter(data=reg_data_en, x='time', y='pageviews', label='English articles')\n",
    "plt.scatter(data=reg_data_de ,x='time', y='pageviews', marker='X', label='German articles')\n",
    "\n",
    "# Add ticks and a line representing the period just before the intervention\n",
    "plt.xticks(xticks)\n",
    "plt.axvline(x=after_interruption_index - 0.5, c='black', label='mid June 2013',ls='--')\n",
    "\n",
    "# Terrorism lines\n",
    "p1, p2, p3, p4 = preds_en.loc[points_index, 'mean']\n",
    "plt.plot ([start_index, before_interruption_index], [p1, p2] , c='black', label= 'English article trend Pre-June 2013')\n",
    "plt.plot ([after_interruption_index, end_index], [p3, p4] ,c='black', alpha=0.4, label= 'English article trend Post-June 2013')\n",
    "plt.fill_between(x=xticks, y1=preds_en['mean_ci_lower'], y2=preds_en['mean_ci_upper'],color='g', where=ci_mask_before, alpha=0.5,\\\n",
    "                 label='95% CI (Terrorism articles)')\n",
    "plt.fill_between(x=xticks, y1=preds_en['mean_ci_lower'], y2=preds_en['mean_ci_upper'],color='g', where=~ci_mask_before, alpha=0.5)\n",
    "\n",
    "#domestic security lines\n",
    "p1, p2, p3, p4 = preds_de.loc[points_index, 'mean']\n",
    "plt.plot ([start_index, before_interruption_index], [p1, p2] , c='brown', label= 'German article trend Pre-June 2013')\n",
    "plt.plot ([after_interruption_index, end_index], [p3, p4] ,c='brown', alpha=0.4, label= 'German article trend Post-June 2013')\n",
    "plt.fill_between(x=xticks, y1=preds_de['mean_ci_lower'], y2=preds_de['mean_ci_upper'],color='y', where=ci_mask_before, alpha=0.5, \\\n",
    "                 label='95% CI (Security articles)')\n",
    "plt.fill_between(x=xticks, y1=preds_de['mean_ci_lower'], y2=preds_de['mean_ci_upper'],color='y', where=~ci_mask_before, alpha=0.5)\n",
    "\n",
    "\n",
    "# Add Title, labels and legend \n",
    "plt.title (\"Pre and Post June 2013 Article View Trends For Terrorism (english and german) related articles.\")\n",
    "plt.xlabel(\"Time (Months)\")\n",
    "plt.ylabel(\"Total views\")\n",
    "plt.legend()\n",
    "\n",
    "# Keep only the horizontal grid\n",
    "plt.grid (False, axis='x')\n",
    "plt.grid (True, axis='y')\n",
    "plt.tight_layout()\n",
    "\n",
    "plt.show()\n"
   ]
  },
  {
   "cell_type": "code",
   "execution_count": 152,
   "metadata": {},
   "outputs": [
    {
     "data": {
      "text/plain": [
       "date            2014-08-31 00:00:00\n",
       "pageviews                    133212\n",
       "intervention                      1\n",
       "time                             32\n",
       "post_slope                       15\n",
       "Name: 31, dtype: object"
      ]
     },
     "execution_count": 152,
     "metadata": {},
     "output_type": "execute_result"
    }
   ],
   "source": [
    "reg_data.iloc[31]"
   ]
  },
  {
   "cell_type": "code",
   "execution_count": 168,
   "metadata": {},
   "outputs": [
    {
     "data": {
      "text/plain": [
       "(0.1610107225076326, 0.04086892960493209)"
      ]
     },
     "execution_count": 168,
     "metadata": {},
     "output_type": "execute_result"
    }
   ],
   "source": [
    "diagnostic.kstest_normal(reg_data_de.loc[reg_data_de.intervention == 1,'pageviews'].values,'norm')"
   ]
  },
  {
   "cell_type": "code",
   "execution_count": 53,
   "metadata": {},
   "outputs": [
    {
     "data": {
      "text/html": [
       "<table class=\"simpletable\">\n",
       "<caption>OLS Regression Results</caption>\n",
       "<tr>\n",
       "  <th>Dep. Variable:</th>        <td>pageviews</td>    <th>  R-squared:         </th> <td>   0.415</td>\n",
       "</tr>\n",
       "<tr>\n",
       "  <th>Model:</th>                   <td>OLS</td>       <th>  Adj. R-squared:    </th> <td>   0.376</td>\n",
       "</tr>\n",
       "<tr>\n",
       "  <th>Method:</th>             <td>Least Squares</td>  <th>  F-statistic:       </th> <td>   10.42</td>\n",
       "</tr>\n",
       "<tr>\n",
       "  <th>Date:</th>             <td>Thu, 17 Dec 2020</td> <th>  Prob (F-statistic):</th> <td>2.65e-05</td>\n",
       "</tr>\n",
       "<tr>\n",
       "  <th>Time:</th>                 <td>21:42:35</td>     <th>  Log-Likelihood:    </th> <td> -605.95</td>\n",
       "</tr>\n",
       "<tr>\n",
       "  <th>No. Observations:</th>      <td>    48</td>      <th>  AIC:               </th> <td>   1220.</td>\n",
       "</tr>\n",
       "<tr>\n",
       "  <th>Df Residuals:</th>          <td>    44</td>      <th>  BIC:               </th> <td>   1227.</td>\n",
       "</tr>\n",
       "<tr>\n",
       "  <th>Df Model:</th>              <td>     3</td>      <th>                     </th>     <td> </td>   \n",
       "</tr>\n",
       "<tr>\n",
       "  <th>Covariance Type:</th>      <td>nonrobust</td>    <th>                     </th>     <td> </td>   \n",
       "</tr>\n",
       "</table>\n",
       "<table class=\"simpletable\">\n",
       "<tr>\n",
       "            <td></td>              <th>coef</th>     <th>std err</th>      <th>t</th>      <th>P>|t|</th>  <th>[0.025</th>    <th>0.975]</th>  \n",
       "</tr>\n",
       "<tr>\n",
       "  <th>Intercept</th>            <td> 4.883e+05</td> <td> 3.89e+04</td> <td>   12.539</td> <td> 0.000</td> <td>  4.1e+05</td> <td> 5.67e+05</td>\n",
       "</tr>\n",
       "<tr>\n",
       "  <th>C(intervention)[T.1]</th> <td>-1.348e+05</td> <td> 4.55e+04</td> <td>   -2.964</td> <td> 0.005</td> <td>-2.27e+05</td> <td>-4.32e+04</td>\n",
       "</tr>\n",
       "<tr>\n",
       "  <th>time</th>                 <td>  140.5735</td> <td> 3800.661</td> <td>    0.037</td> <td> 0.971</td> <td>-7519.155</td> <td> 7800.302</td>\n",
       "</tr>\n",
       "<tr>\n",
       "  <th>post_slope</th>           <td>  122.5277</td> <td> 4101.398</td> <td>    0.030</td> <td> 0.976</td> <td>-8143.296</td> <td> 8388.351</td>\n",
       "</tr>\n",
       "</table>\n",
       "<table class=\"simpletable\">\n",
       "<tr>\n",
       "  <th>Omnibus:</th>       <td> 3.645</td> <th>  Durbin-Watson:     </th> <td>   2.001</td>\n",
       "</tr>\n",
       "<tr>\n",
       "  <th>Prob(Omnibus):</th> <td> 0.162</td> <th>  Jarque-Bera (JB):  </th> <td>   2.752</td>\n",
       "</tr>\n",
       "<tr>\n",
       "  <th>Skew:</th>          <td> 0.571</td> <th>  Prob(JB):          </th> <td>   0.253</td>\n",
       "</tr>\n",
       "<tr>\n",
       "  <th>Kurtosis:</th>      <td> 3.268</td> <th>  Cond. No.          </th> <td>    144.</td>\n",
       "</tr>\n",
       "</table><br/><br/>Notes:<br/>[1] Standard Errors assume that the covariance matrix of the errors is correctly specified."
      ],
      "text/plain": [
       "<class 'statsmodels.iolib.summary.Summary'>\n",
       "\"\"\"\n",
       "                            OLS Regression Results                            \n",
       "==============================================================================\n",
       "Dep. Variable:              pageviews   R-squared:                       0.415\n",
       "Model:                            OLS   Adj. R-squared:                  0.376\n",
       "Method:                 Least Squares   F-statistic:                     10.42\n",
       "Date:                Thu, 17 Dec 2020   Prob (F-statistic):           2.65e-05\n",
       "Time:                        21:42:35   Log-Likelihood:                -605.95\n",
       "No. Observations:                  48   AIC:                             1220.\n",
       "Df Residuals:                      44   BIC:                             1227.\n",
       "Df Model:                           3                                         \n",
       "Covariance Type:            nonrobust                                         \n",
       "========================================================================================\n",
       "                           coef    std err          t      P>|t|      [0.025      0.975]\n",
       "----------------------------------------------------------------------------------------\n",
       "Intercept             4.883e+05   3.89e+04     12.539      0.000     4.1e+05    5.67e+05\n",
       "C(intervention)[T.1] -1.348e+05   4.55e+04     -2.964      0.005   -2.27e+05   -4.32e+04\n",
       "time                   140.5735   3800.661      0.037      0.971   -7519.155    7800.302\n",
       "post_slope             122.5277   4101.398      0.030      0.976   -8143.296    8388.351\n",
       "==============================================================================\n",
       "Omnibus:                        3.645   Durbin-Watson:                   2.001\n",
       "Prob(Omnibus):                  0.162   Jarque-Bera (JB):                2.752\n",
       "Skew:                           0.571   Prob(JB):                        0.253\n",
       "Kurtosis:                       3.268   Cond. No.                         144.\n",
       "==============================================================================\n",
       "\n",
       "Notes:\n",
       "[1] Standard Errors assume that the covariance matrix of the errors is correctly specified.\n",
       "\"\"\""
      ]
     },
     "execution_count": 53,
     "metadata": {},
     "output_type": "execute_result"
    }
   ],
   "source": [
    "model_de.summary() # 0.376, "
   ]
  },
  {
   "cell_type": "code",
   "execution_count": 56,
   "metadata": {},
   "outputs": [
    {
     "data": {
      "text/plain": [
       "-1270472.029222014"
      ]
     },
     "execution_count": 56,
     "metadata": {},
     "output_type": "execute_result"
    }
   ],
   "source": [
    "model_en.params[1]\n"
   ]
  },
  {
   "cell_type": "code",
   "execution_count": 57,
   "metadata": {},
   "outputs": [
    {
     "data": {
      "text/plain": [
       "-95519.094710626"
      ]
     },
     "execution_count": 57,
     "metadata": {},
     "output_type": "execute_result"
    }
   ],
   "source": [
    "model_en.params[3]\n"
   ]
  },
  {
   "cell_type": "code",
   "execution_count": 58,
   "metadata": {},
   "outputs": [
    {
     "data": {
      "text/plain": [
       "Intercept               9.696717e-11\n",
       "C(intervention)[T.1]    5.340730e-04\n",
       "time                    2.233952e-02\n",
       "post_slope              3.222562e-03\n",
       "dtype: float64"
      ]
     },
     "execution_count": 58,
     "metadata": {},
     "output_type": "execute_result"
    }
   ],
   "source": [
    "model_en.pvalues"
   ]
  }
 ],
 "metadata": {
  "kernelspec": {
   "display_name": "Python [conda env:ada-env] *",
   "language": "python",
   "name": "conda-env-ada-env-py"
  },
  "language_info": {
   "codemirror_mode": {
    "name": "ipython",
    "version": 3
   },
   "file_extension": ".py",
   "mimetype": "text/x-python",
   "name": "python",
   "nbconvert_exporter": "python",
   "pygments_lexer": "ipython3",
   "version": "3.8.5"
  }
 },
 "nbformat": 4,
 "nbformat_minor": 4
}
