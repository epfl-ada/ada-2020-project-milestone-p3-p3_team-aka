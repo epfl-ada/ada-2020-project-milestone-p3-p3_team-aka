{
 "cells": [
  {
   "cell_type": "code",
   "execution_count": 2,
   "metadata": {},
   "outputs": [],
   "source": [
    "import wikipediaapi\n",
    "import os\n",
    "import pandas as pd\n",
    "import sys\n",
    "import spacy"
   ]
  },
  {
   "cell_type": "code",
   "execution_count": 127,
   "metadata": {},
   "outputs": [],
   "source": [
    "def get_page_summaries(pages, lang, look_for_other_lang=False, other_lang='de'):\n",
    "\n",
    "    summaries = []\n",
    "    wiki = wikipediaapi.Wikipedia(lang)\n",
    "    \n",
    "    for page in pages:\n",
    "        try:\n",
    "            page_en = wiki.page(page)\n",
    "            if look_for_other_lang:\n",
    "                page_other = page_en.langlinks.get(other_lang, None)\n",
    "                page_other_title = page_other.title if page_other else None\n",
    "                page_other_summary = page_other.summary if page_other else None\n",
    "                summaries.append({'article_en': page, 'summary_en': page_en.summary, \n",
    "                          f'article_{other_lang}': page_other_title, f'summary_{other_lang}': page_other_summary})\n",
    "            else:\n",
    "                summaries.append({'article_en': page, 'summary_en': page_en.summary})\n",
    "\n",
    "        except:\n",
    "            print(f\"problem fetching data for page: {page}\", file=sys.stderr)\n",
    "            continue\n",
    "        \n",
    "    return pd.DataFrame(summaries)"
   ]
  },
  {
   "cell_type": "markdown",
   "metadata": {},
   "source": [
    "# replaced attack by offensivem, nuclear by nuclear weapon, terror by Terror (politics), agro by agro-terrorism, In order to get meaningful results\n"
   ]
  },
  {
   "cell_type": "code",
   "execution_count": 128,
   "metadata": {},
   "outputs": [],
   "source": [
    "terrorism_articles = ['Abu Sayyaf', 'afghanistan', 'Agro-terrorism', 'al-qaeda',\n",
    "       'Al-Qaeda in the Arabian Peninsula',\n",
    "       'Al-Qaeda in the Islamic Maghreb', 'al-shabaab',\n",
    "       'ammonium_nitrate', 'Offensive (military)', 'biological_weapon', 'car_bomb',\n",
    "       'chemical_weapon', 'conventional_weapon', 'dirty_bomb',\n",
    "       'eco-terrorism', 'environmental_terrorism',\n",
    "       'Euskadi ta Askatasuna', 'extremism', 'farc', 'fundamentalism',\n",
    "       'hamas', 'hezbollah', 'improvised_explosive_device', 'iran',\n",
    "       'iraq', 'Irish Republican Army', 'islamist', 'jihad',\n",
    "       'nationalism', 'nigeria', 'Nuclear weapon', 'nuclear_enrichment',\n",
    "       'pakistan', 'Palestine Liberation Front', 'pirates', 'PLO',\n",
    "       'political_radicalism', 'recruitment', 'somalia', 'suicide_attack',\n",
    "       'suicide_bomber', 'taliban', 'tamil_tigers',\n",
    "       'Tehrik-i-Taliban Pakistan', 'Terror (politics)', 'terrorism',\n",
    "       'weapons-grade', 'yemen']"
   ]
  },
  {
   "cell_type": "code",
   "execution_count": 129,
   "metadata": {},
   "outputs": [],
   "source": [
    "summaries = get_page_summaries(terrorism_articles, 'en', look_for_other_lang=True)"
   ]
  },
  {
   "cell_type": "code",
   "execution_count": 130,
   "metadata": {},
   "outputs": [
    {
     "data": {
      "text/html": [
       "<div>\n",
       "<style scoped>\n",
       "    .dataframe tbody tr th:only-of-type {\n",
       "        vertical-align: middle;\n",
       "    }\n",
       "\n",
       "    .dataframe tbody tr th {\n",
       "        vertical-align: top;\n",
       "    }\n",
       "\n",
       "    .dataframe thead th {\n",
       "        text-align: right;\n",
       "    }\n",
       "</style>\n",
       "<table border=\"1\" class=\"dataframe\">\n",
       "  <thead>\n",
       "    <tr style=\"text-align: right;\">\n",
       "      <th></th>\n",
       "      <th>article_en</th>\n",
       "      <th>summary_en</th>\n",
       "      <th>article_de</th>\n",
       "      <th>summary_de</th>\n",
       "    </tr>\n",
       "  </thead>\n",
       "  <tbody>\n",
       "    <tr>\n",
       "      <th>0</th>\n",
       "      <td>Abu Sayyaf</td>\n",
       "      <td>Abu Sayyaf ( (listen); Arabic: جماعة أبو سياف‎...</td>\n",
       "      <td>Abu Sajaf</td>\n",
       "      <td>Abu Sayyaf (أبو سيّاف, DMG Abū sayyāf ‚Schwert...</td>\n",
       "    </tr>\n",
       "    <tr>\n",
       "      <th>1</th>\n",
       "      <td>afghanistan</td>\n",
       "      <td>Afghanistan ( (listen), also pronounced /ævˈɡæ...</td>\n",
       "      <td>Afghanistan</td>\n",
       "      <td>Afghanistan (paschtunisch und persisch افغانست...</td>\n",
       "    </tr>\n",
       "    <tr>\n",
       "      <th>2</th>\n",
       "      <td>Agro-terrorism</td>\n",
       "      <td>Agroterrorism, also known as agriterrorism and...</td>\n",
       "      <td>Agroterrorismus</td>\n",
       "      <td>Agroterrorismus (engl. agro-terrorism oder agr...</td>\n",
       "    </tr>\n",
       "    <tr>\n",
       "      <th>3</th>\n",
       "      <td>al-qaeda</td>\n",
       "      <td>Al-Qaeda (; Arabic: القاعدة‎ al-Qāʿidah, IPA: ...</td>\n",
       "      <td>Al-Qaida</td>\n",
       "      <td>Al-Qaida, auch al-Kaida (arabisch القاعدة, DMG...</td>\n",
       "    </tr>\n",
       "    <tr>\n",
       "      <th>4</th>\n",
       "      <td>Al-Qaeda in the Arabian Peninsula</td>\n",
       "      <td>Al-Qaeda in the Arabian Peninsula (Arabic: تنظ...</td>\n",
       "      <td>Al-Qaida auf der Arabischen Halbinsel</td>\n",
       "      <td>Al-Qaida auf der arabischen Halbinsel (arabisc...</td>\n",
       "    </tr>\n",
       "  </tbody>\n",
       "</table>\n",
       "</div>"
      ],
      "text/plain": [
       "                          article_en  \\\n",
       "0                         Abu Sayyaf   \n",
       "1                        afghanistan   \n",
       "2                     Agro-terrorism   \n",
       "3                           al-qaeda   \n",
       "4  Al-Qaeda in the Arabian Peninsula   \n",
       "\n",
       "                                          summary_en  \\\n",
       "0  Abu Sayyaf ( (listen); Arabic: جماعة أبو سياف‎...   \n",
       "1  Afghanistan ( (listen), also pronounced /ævˈɡæ...   \n",
       "2  Agroterrorism, also known as agriterrorism and...   \n",
       "3  Al-Qaeda (; Arabic: القاعدة‎ al-Qāʿidah, IPA: ...   \n",
       "4  Al-Qaeda in the Arabian Peninsula (Arabic: تنظ...   \n",
       "\n",
       "                              article_de  \\\n",
       "0                              Abu Sajaf   \n",
       "1                            Afghanistan   \n",
       "2                        Agroterrorismus   \n",
       "3                               Al-Qaida   \n",
       "4  Al-Qaida auf der Arabischen Halbinsel   \n",
       "\n",
       "                                          summary_de  \n",
       "0  Abu Sayyaf (أبو سيّاف, DMG Abū sayyāf ‚Schwert...  \n",
       "1  Afghanistan (paschtunisch und persisch افغانست...  \n",
       "2  Agroterrorismus (engl. agro-terrorism oder agr...  \n",
       "3  Al-Qaida, auch al-Kaida (arabisch القاعدة, DMG...  \n",
       "4  Al-Qaida auf der arabischen Halbinsel (arabisc...  "
      ]
     },
     "execution_count": 130,
     "metadata": {},
     "output_type": "execute_result"
    }
   ],
   "source": [
    "summaries.head()"
   ]
  },
  {
   "cell_type": "code",
   "execution_count": null,
   "metadata": {},
   "outputs": [],
   "source": [
    "def get_members_of_category(cat, lang, level=0, max_level=1):\n",
    "    wiki = wikipediaapi.Wikipedia(lang)\n",
    "    category_page = wiki.page(cat)\n",
    "    all_pages_in_cat = []\n",
    "    for c in category_page.categorymembers.values(): \n",
    "        if c.ns == wikipediaapi.Namespace.CATEGORY and level < max_level:\n",
    "            all_pages_in_cat.extend(get_members_of_category(c, lang, level+1, max_level))\n",
    "        else: \n",
    "            all_pages_in_cat.append(c.title)\n",
    "    \n",
    "    return all_pages_in_cat"
   ]
  },
  {
   "cell_type": "code",
   "execution_count": 108,
   "metadata": {},
   "outputs": [],
   "source": [
    "categories_selected = ['Kategorie:Afghanistan', 'Kategorie:Afghanistankrieg (seit 1978)', 'Kategorie:Al-Qaida',\n",
    "                       'Kategorie:Antisemitismus', 'Kategorie:Anti-Freimaurerei','Kategorie:Antizionismus',\n",
    "                       'Kategorie:Asymmetrische Kriegführung', 'Kategorie:Attentat', 'Kategorie:Bewaffnete islamistische Organisation',\n",
    "                       'Kategorie:Bewaffnete islamistische Organisation', 'Kategorie:Bewaffnete islamistische Untergrundorganisation',\n",
    "                       'Kategorie:Bombe', 'Kategorie:Hamas', 'Kategorie:Hisbollah','Kategorie:Islamische Republik',\n",
    "                        'Kategorie:Islamistischer Terrorismus','Kategorie:Terrorismus', 'Kategorie:Taliban']"
   ]
  },
  {
   "cell_type": "code",
   "execution_count": 138,
   "metadata": {},
   "outputs": [],
   "source": [
    "potential_pages = set(summaries['article_de'])\n",
    "for category in categories_selected:\n",
    "    potential_pages.update(get_members_of_category(category,'de', 0, 3))"
   ]
  },
  {
   "cell_type": "code",
   "execution_count": 140,
   "metadata": {},
   "outputs": [
    {
     "name": "stderr",
     "output_type": "stream",
     "text": [
      "problem fetching data for page: None\n"
     ]
    }
   ],
   "source": [
    "summaries_de = get_page_summaries(potential_pages, 'de')"
   ]
  },
  {
   "cell_type": "code",
   "execution_count": 144,
   "metadata": {},
   "outputs": [
    {
     "data": {
      "text/html": [
       "<div>\n",
       "<style scoped>\n",
       "    .dataframe tbody tr th:only-of-type {\n",
       "        vertical-align: middle;\n",
       "    }\n",
       "\n",
       "    .dataframe tbody tr th {\n",
       "        vertical-align: top;\n",
       "    }\n",
       "\n",
       "    .dataframe thead th {\n",
       "        text-align: right;\n",
       "    }\n",
       "</style>\n",
       "<table border=\"1\" class=\"dataframe\">\n",
       "  <thead>\n",
       "    <tr style=\"text-align: right;\">\n",
       "      <th></th>\n",
       "      <th>article_en</th>\n",
       "      <th>summary_en</th>\n",
       "    </tr>\n",
       "  </thead>\n",
       "  <tbody>\n",
       "    <tr>\n",
       "      <th>0</th>\n",
       "      <td>Liechtenstein in der Zeit des Nationalsozialismus</td>\n",
       "      <td>Liechtenstein in der Zeit des Nationalsozialis...</td>\n",
       "    </tr>\n",
       "    <tr>\n",
       "      <th>1</th>\n",
       "      <td>Zentrale Dienststelle für Juden</td>\n",
       "      <td>Die Zentrale Dienststelle für Juden (auch Zent...</td>\n",
       "    </tr>\n",
       "    <tr>\n",
       "      <th>2</th>\n",
       "      <td>Hamas-Charta</td>\n",
       "      <td>Die Hamas-Gründungscharta ist die Gründungsurk...</td>\n",
       "    </tr>\n",
       "    <tr>\n",
       "      <th>3</th>\n",
       "      <td>International Islamic Relief Organization</td>\n",
       "      <td>Die International Islamic Relief Organization,...</td>\n",
       "    </tr>\n",
       "    <tr>\n",
       "      <th>4</th>\n",
       "      <td>Operation Neptune Spear</td>\n",
       "      <td>Die Operation Neptune Spear (deutsch „Unterneh...</td>\n",
       "    </tr>\n",
       "    <tr>\n",
       "      <th>...</th>\n",
       "      <td>...</td>\n",
       "      <td>...</td>\n",
       "    </tr>\n",
       "    <tr>\n",
       "      <th>729</th>\n",
       "      <td>Payitaht Abdülhamid</td>\n",
       "      <td>Payitaht Abdülhamid, im englischen Sprachraum ...</td>\n",
       "    </tr>\n",
       "    <tr>\n",
       "      <th>730</th>\n",
       "      <td>Finanzoligarchie</td>\n",
       "      <td>Finanzoligarchie bezeichnet eine Oligarchie vo...</td>\n",
       "    </tr>\n",
       "    <tr>\n",
       "      <th>731</th>\n",
       "      <td>Regenschirmattentat</td>\n",
       "      <td>Als Regenschirmattentat wird der Mordanschlag ...</td>\n",
       "    </tr>\n",
       "    <tr>\n",
       "      <th>732</th>\n",
       "      <td>Ideologiekritik</td>\n",
       "      <td>Ideologiekritik bezeichnet ein philosophisches...</td>\n",
       "    </tr>\n",
       "    <tr>\n",
       "      <th>733</th>\n",
       "      <td>Rote Armee Fraktion</td>\n",
       "      <td>Die Rote Armee Fraktion (RAF) war eine linksex...</td>\n",
       "    </tr>\n",
       "  </tbody>\n",
       "</table>\n",
       "<p>734 rows × 2 columns</p>\n",
       "</div>"
      ],
      "text/plain": [
       "                                            article_en  \\\n",
       "0    Liechtenstein in der Zeit des Nationalsozialismus   \n",
       "1                      Zentrale Dienststelle für Juden   \n",
       "2                                         Hamas-Charta   \n",
       "3            International Islamic Relief Organization   \n",
       "4                              Operation Neptune Spear   \n",
       "..                                                 ...   \n",
       "729                                Payitaht Abdülhamid   \n",
       "730                                   Finanzoligarchie   \n",
       "731                                Regenschirmattentat   \n",
       "732                                    Ideologiekritik   \n",
       "733                                Rote Armee Fraktion   \n",
       "\n",
       "                                            summary_en  \n",
       "0    Liechtenstein in der Zeit des Nationalsozialis...  \n",
       "1    Die Zentrale Dienststelle für Juden (auch Zent...  \n",
       "2    Die Hamas-Gründungscharta ist die Gründungsurk...  \n",
       "3    Die International Islamic Relief Organization,...  \n",
       "4    Die Operation Neptune Spear (deutsch „Unterneh...  \n",
       "..                                                 ...  \n",
       "729  Payitaht Abdülhamid, im englischen Sprachraum ...  \n",
       "730  Finanzoligarchie bezeichnet eine Oligarchie vo...  \n",
       "731  Als Regenschirmattentat wird der Mordanschlag ...  \n",
       "732  Ideologiekritik bezeichnet ein philosophisches...  \n",
       "733  Die Rote Armee Fraktion (RAF) war eine linksex...  \n",
       "\n",
       "[734 rows x 2 columns]"
      ]
     },
     "execution_count": 144,
     "metadata": {},
     "output_type": "execute_result"
    }
   ],
   "source": [
    "summaries_de.dropna()"
   ]
  },
  {
   "cell_type": "code",
   "execution_count": 145,
   "metadata": {},
   "outputs": [],
   "source": [
    "summaries_en = summaries[['article_en','summary_en']]"
   ]
  },
  {
   "cell_type": "code",
   "execution_count": 157,
   "metadata": {},
   "outputs": [],
   "source": [
    "summaries_en.to_csv('summaries_en.csv')"
   ]
  },
  {
   "cell_type": "code",
   "execution_count": 158,
   "metadata": {},
   "outputs": [],
   "source": [
    "summaries_de.to_csv('summaries_de.csv')"
   ]
  },
  {
   "cell_type": "code",
   "execution_count": 3,
   "metadata": {},
   "outputs": [],
   "source": [
    "nlp = spacy.load('en_core_web_sm')"
   ]
  },
  {
   "cell_type": "code",
   "execution_count": 4,
   "metadata": {},
   "outputs": [
    {
     "ename": "NameError",
     "evalue": "name 'summaries_en' is not defined",
     "output_type": "error",
     "traceback": [
      "\u001b[0;31m---------------------------------------------------------------------------\u001b[0m",
      "\u001b[0;31mNameError\u001b[0m                                 Traceback (most recent call last)",
      "\u001b[0;32m<ipython-input-4-6df600826e94>\u001b[0m in \u001b[0;36m<module>\u001b[0;34m\u001b[0m\n\u001b[0;32m----> 1\u001b[0;31m \u001b[0msummaries_en\u001b[0m\u001b[0;34m[\u001b[0m\u001b[0;34m'summary_en'\u001b[0m\u001b[0;34m]\u001b[0m \u001b[0;34m=\u001b[0m  \u001b[0msummaries_en\u001b[0m\u001b[0;34m[\u001b[0m\u001b[0;34m'summary_en'\u001b[0m\u001b[0;34m]\u001b[0m\u001b[0;34m.\u001b[0m\u001b[0mstr\u001b[0m\u001b[0;34m.\u001b[0m\u001b[0mreplace\u001b[0m\u001b[0;34m(\u001b[0m\u001b[0;34mr'(\\([^)]*\\))| (\\[[^\\]]*\\])'\u001b[0m\u001b[0;34m,\u001b[0m \u001b[0;34m''\u001b[0m\u001b[0;34m)\u001b[0m\u001b[0;34m\u001b[0m\u001b[0;34m\u001b[0m\u001b[0m\n\u001b[0m",
      "\u001b[0;31mNameError\u001b[0m: name 'summaries_en' is not defined"
     ]
    }
   ],
   "source": [
    "summaries_en.csv = pd.read_csv('data/summaries_en.csv', index_col=0)\n",
    "summaries_en['summary_en'] =  summaries_en['summary_en'].str.replace(r'(\\([^)]*\\))| (\\[[^\\]]*\\])', '')"
   ]
  },
  {
   "cell_type": "code",
   "execution_count": null,
   "metadata": {},
   "outputs": [],
   "source": []
  }
 ],
 "metadata": {
  "kernelspec": {
   "display_name": "Python [conda env:ada-env] *",
   "language": "python",
   "name": "conda-env-ada-env-py"
  },
  "language_info": {
   "codemirror_mode": {
    "name": "ipython",
    "version": 3
   },
   "file_extension": ".py",
   "mimetype": "text/x-python",
   "name": "python",
   "nbconvert_exporter": "python",
   "pygments_lexer": "ipython3",
   "version": "3.8.5"
  }
 },
 "nbformat": 4,
 "nbformat_minor": 4
}
